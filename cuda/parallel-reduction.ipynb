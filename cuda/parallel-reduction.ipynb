{
  "cells": [
    {
      "cell_type": "markdown",
      "id": "153ffb63-fa1f-4d9a-a8b0-cbc07a60512b",
      "metadata": {
        "id": "153ffb63-fa1f-4d9a-a8b0-cbc07a60512b"
      },
      "source": [
        "# Parallel reduction\n",
        "\n",
        "<a href=\"https://colab.research.google.com/github/mark-hobbs/articles/blob/main/cuda/parallel-reduction.ipynb\" target=\"_parent\"><img src=\"https://colab.research.google.com/assets/colab-badge.svg\" alt=\"Open In Colab\"/></a>\n",
        "\n",
        "Literature:\n",
        "- [Optimising parallel reduction in CUDA](https://developer.download.nvidia.com/assets/cuda/files/reduction.pdf)"
      ]
    },
    {
      "cell_type": "markdown",
      "id": "cd1b425f-3f99-4c2d-8c88-f60a784930e5",
      "metadata": {
        "id": "cd1b425f-3f99-4c2d-8c88-f60a784930e5"
      },
      "source": [
        "## Reduce bond forces to particle forces\n",
        "\n",
        "Bond forces can be stored as a bondlist or neighbour list\n",
        "\n",
        "- bondlist [n_bonds, 2]\n",
        "- neighbourlist [n_particles, n_family_members]\n",
        "\n",
        "Reduce:\n",
        "- particles.forces [n_particles, 1]"
      ]
    },
    {
      "cell_type": "code",
      "execution_count": 1,
      "id": "0edfd766-e9df-4e97-8632-19e5b1ad433a",
      "metadata": {
        "colab": {
          "base_uri": "https://localhost:8080/"
        },
        "id": "0edfd766-e9df-4e97-8632-19e5b1ad433a",
        "outputId": "3aeeb3f9-4a52-4989-e85e-6da30481dbda"
      },
      "outputs": [
        {
          "output_type": "stream",
          "name": "stdout",
          "text": [
            "Cloning into 'articles'...\n",
            "remote: Enumerating objects: 468, done.\u001b[K\n",
            "remote: Counting objects: 100% (4/4), done.\u001b[K\n",
            "remote: Compressing objects: 100% (4/4), done.\u001b[K\n",
            "remote: Total 468 (delta 0), reused 2 (delta 0), pack-reused 464 (from 1)\u001b[K\n",
            "Receiving objects: 100% (468/468), 97.56 MiB | 13.80 MiB/s, done.\n",
            "Resolving deltas: 100% (214/214), done.\n"
          ]
        }
      ],
      "source": [
        "import numpy as np\n",
        "from numba import njit, prange\n",
        "\n",
        "try:\n",
        "    import google.colab\n",
        "    !git clone https://github.com/mark-hobbs/articles.git\n",
        "    import os\n",
        "    os.chdir('articles/cuda')  # Navigate to the cuda subdirectory\n",
        "except ImportError:\n",
        "    pass  # Already local, no need to clone\n",
        "\n",
        "import utils"
      ]
    },
    {
      "cell_type": "code",
      "execution_count": 2,
      "id": "35899922-5ebf-4930-921d-4460e36c3286",
      "metadata": {
        "id": "35899922-5ebf-4930-921d-4460e36c3286"
      },
      "outputs": [],
      "source": [
        "np.random.seed(42)\n",
        "n_particles = 1500000\n",
        "n_family_members = 128\n",
        "\n",
        "bond_forces = np.random.rand(n_particles, n_family_members)"
      ]
    },
    {
      "cell_type": "markdown",
      "id": "0b4138f7-44d0-4a81-9d4a-1add7822b4f6",
      "metadata": {
        "id": "0b4138f7-44d0-4a81-9d4a-1add7822b4f6"
      },
      "source": [
        "### Numpy and Numba"
      ]
    },
    {
      "cell_type": "code",
      "execution_count": 3,
      "id": "782a0d56-cfd3-4d51-98f1-5566c943cdb8",
      "metadata": {
        "id": "782a0d56-cfd3-4d51-98f1-5566c943cdb8"
      },
      "outputs": [],
      "source": [
        "@utils.profile(runs=10)\n",
        "def reduce_bond_forces_a(bond_forces):\n",
        "    n_particles = bond_forces.shape[0]\n",
        "    f = np.zeros((n_particles))\n",
        "    for i in range(n_particles):\n",
        "        f[i] = np.sum(bond_forces[i, :])\n",
        "    return f"
      ]
    },
    {
      "cell_type": "code",
      "execution_count": 4,
      "id": "b6d2f151-f9c4-4afb-9c9c-678c3e136ad0",
      "metadata": {
        "id": "b6d2f151-f9c4-4afb-9c9c-678c3e136ad0"
      },
      "outputs": [],
      "source": [
        "@utils.profile(runs=10)\n",
        "def reduce_bond_forces_b(bond_forces):\n",
        "    return np.sum(bond_forces, axis=1)"
      ]
    },
    {
      "cell_type": "code",
      "execution_count": 5,
      "id": "25f1cec9-a860-44a3-99a2-c8a74d74b6d6",
      "metadata": {
        "id": "25f1cec9-a860-44a3-99a2-c8a74d74b6d6"
      },
      "outputs": [],
      "source": [
        "@utils.profile(runs=10)\n",
        "@njit(parallel=True, fastmath=True)\n",
        "def reduce_bond_forces_c(bond_forces):\n",
        "    n_particles = bond_forces.shape[0]\n",
        "    f = np.zeros((n_particles))\n",
        "    for i in prange(n_particles):\n",
        "        f[i] = np.sum(bond_forces[i, :])\n",
        "    return f"
      ]
    },
    {
      "cell_type": "code",
      "execution_count": 6,
      "id": "131c4a64-9cd1-426d-811d-791b9f78f8f0",
      "metadata": {
        "colab": {
          "base_uri": "https://localhost:8080/"
        },
        "id": "131c4a64-9cd1-426d-811d-791b9f78f8f0",
        "outputId": "caf6e94b-c783-4a59-8f8c-2293e7e17451"
      },
      "outputs": [
        {
          "output_type": "stream",
          "name": "stdout",
          "text": [
            "Function 'reduce_bond_forces_a' executed 10 time(s)\n",
            "Average execution time: 5.4361 seconds\n",
            "Min: 4.8090s, Max: 6.7685s\n",
            "\n",
            "Function 'reduce_bond_forces_b' executed 10 time(s)\n",
            "Average execution time: 0.1417 seconds\n",
            "Min: 0.1376s, Max: 0.1451s\n",
            "\n",
            "Function 'reduce_bond_forces_c' executed 10 time(s)\n",
            "Average execution time: 0.2929 seconds\n",
            "Min: 0.1110s, Max: 1.8787s\n",
            "\n"
          ]
        }
      ],
      "source": [
        "f_a = reduce_bond_forces_a(bond_forces)\n",
        "f_b = reduce_bond_forces_b(bond_forces)\n",
        "f_c = reduce_bond_forces_c(bond_forces)\n",
        "assert np.allclose(f_a, f_b) and np.allclose(f_b, f_c), \"Results are not equal\""
      ]
    },
    {
      "cell_type": "markdown",
      "id": "9fd28085-164b-40d9-b9a2-07f606cc70f3",
      "metadata": {
        "id": "9fd28085-164b-40d9-b9a2-07f606cc70f3"
      },
      "source": [
        "### Numba CUDA"
      ]
    },
    {
      "cell_type": "code",
      "execution_count": 7,
      "id": "d56ea9fb-4d75-4cfa-9d73-7aa4613452de",
      "metadata": {
        "id": "d56ea9fb-4d75-4cfa-9d73-7aa4613452de"
      },
      "outputs": [],
      "source": [
        "from numba import cuda, float32"
      ]
    },
    {
      "cell_type": "code",
      "execution_count": 8,
      "id": "1fc752a6-a24f-45e5-bf65-405334955c25",
      "metadata": {
        "id": "1fc752a6-a24f-45e5-bf65-405334955c25"
      },
      "outputs": [],
      "source": [
        "@cuda.jit\n",
        "def row_sum_kernel(neighbourlist, output):\n",
        "    row = cuda.blockIdx.x\n",
        "    tid = cuda.threadIdx.x\n",
        "    n_cols = neighbourlist.shape[1]\n",
        "\n",
        "    # Allocate shared memory for each thread to load one value\n",
        "    sdata = cuda.shared.array(256, dtype=float32)  # Adjust size if needed\n",
        "\n",
        "    val = 0.0\n",
        "    if tid < n_cols:\n",
        "        val = neighbourlist[row, tid]\n",
        "\n",
        "    sdata[tid] = val\n",
        "    cuda.syncthreads()\n",
        "\n",
        "    s = cuda.blockDim.x // 2\n",
        "    while s > 0:\n",
        "        if tid < s and tid + s < n_cols:\n",
        "            sdata[tid] += sdata[tid + s]\n",
        "        cuda.syncthreads()\n",
        "        s //= 2\n",
        "\n",
        "    if tid == 0:\n",
        "        output[row] = sdata[0]\n",
        "\n",
        "@utils.profile(runs=10)\n",
        "def reduce_bond_forces_gpu(bond_forces):\n",
        "    n_particles, n_family_members = bond_forces.shape\n",
        "    THREADS_PER_BLOCK = 256\n",
        "\n",
        "    bond_forces = cuda.to_device(bond_forces.astype(np.float32))\n",
        "    f = cuda.device_array(n_particles, dtype=np.float32)\n",
        "\n",
        "    row_sum_kernel[n_particles, THREADS_PER_BLOCK](bond_forces, f)\n",
        "    return f.copy_to_host()"
      ]
    },
    {
      "cell_type": "code",
      "execution_count": 9,
      "id": "cc9f08a1-cf9f-48a3-a62b-aa42eb14836e",
      "metadata": {
        "colab": {
          "base_uri": "https://localhost:8080/"
        },
        "id": "cc9f08a1-cf9f-48a3-a62b-aa42eb14836e",
        "outputId": "f03f26ef-c917-4746-df5e-39932c47b27b"
      },
      "outputs": [
        {
          "output_type": "stream",
          "name": "stdout",
          "text": [
            "CUDA Device Information:\n",
            "----------------------------------------\n",
            "CUDA Runtime Version:          12.5\n",
            "Device Name:                   b'Tesla T4'\n",
            "Compute Capability:            (7, 5)\n",
            "\n",
            "Memory:\n",
            "Total Memory:                  15.83 GB\n",
            "Free Memory:                   15.72 GB\n",
            "\n",
            "Compute Resources:\n",
            "Streaming Multiprocessors:     40\n",
            "Max Threads per Block:         1024\n",
            "\n",
            "Grid Limitations:\n",
            "Max Grid Dimensions X:         2147483647\n",
            "Max Grid Dimensions Y:         65535\n",
            "Max Grid Dimensions Z:         65535\n",
            "\n",
            "Additional Characteristics:\n",
            "Warp Size:                     32\n",
            "Clock Rate:                    1.59 GHz\n",
            "Memory Clock Rate:             5.00 GHz\n"
          ]
        }
      ],
      "source": [
        "utils.get_cuda_device_info()"
      ]
    },
    {
      "cell_type": "markdown",
      "id": "e40f48ce-0ce4-409f-85b9-d317491e4307",
      "metadata": {
        "id": "e40f48ce-0ce4-409f-85b9-d317491e4307"
      },
      "source": [
        "See [this post](https://github.com/googlecolab/colabtools/issues/5081) to understand compatability issues with Google Colab and Numba CUDA"
      ]
    },
    {
      "cell_type": "code",
      "execution_count": 10,
      "id": "c11e8f1e-1199-43a6-b5b9-11f1f6434e8e",
      "metadata": {
        "id": "c11e8f1e-1199-43a6-b5b9-11f1f6434e8e"
      },
      "outputs": [],
      "source": [
        "!uv pip install -q --system numba-cuda==0.4.0"
      ]
    },
    {
      "cell_type": "code",
      "execution_count": 11,
      "id": "83ebfc1b-b890-4554-b8ee-8247e1be3dca",
      "metadata": {
        "id": "83ebfc1b-b890-4554-b8ee-8247e1be3dca"
      },
      "outputs": [],
      "source": [
        "from numba import config\n",
        "config.CUDA_ENABLE_PYNVJITLINK = 1"
      ]
    },
    {
      "cell_type": "code",
      "execution_count": 12,
      "id": "0ec3189a-d455-4489-baaf-ea388669f8db",
      "metadata": {
        "colab": {
          "base_uri": "https://localhost:8080/"
        },
        "id": "0ec3189a-d455-4489-baaf-ea388669f8db",
        "outputId": "ab925992-1be5-48b6-843f-e6c9f8b1cc37"
      },
      "outputs": [
        {
          "output_type": "stream",
          "name": "stdout",
          "text": [
            "Function 'reduce_bond_forces_gpu' executed 10 time(s)\n",
            "Average execution time: 0.5887 seconds\n",
            "Min: 0.4763s, Max: 1.2543s\n",
            "\n"
          ]
        }
      ],
      "source": [
        "f_gpu = reduce_bond_forces_gpu(bond_forces)\n",
        "assert np.allclose(f_a, f_gpu), \"Results are not equal\""
      ]
    },
    {
      "cell_type": "code",
      "execution_count": 13,
      "id": "w0xZX45xzS6L",
      "metadata": {
        "id": "w0xZX45xzS6L"
      },
      "outputs": [],
      "source": [
        "import time\n",
        "\n",
        "def benchmark_kernel(bond_forces, num_runs=100):\n",
        "    n_particles, n_family_members = bond_forces.shape\n",
        "    THREADS_PER_BLOCK = 256\n",
        "\n",
        "    bond_forces = cuda.to_device(bond_forces.astype(np.float32))\n",
        "    f = cuda.device_array(n_particles, dtype=np.float32)\n",
        "\n",
        "    # Warm up the kernel\n",
        "    for _ in range(5):\n",
        "        row_sum_kernel[n_particles, THREADS_PER_BLOCK](bond_forces, f)\n",
        "\n",
        "    cuda.synchronize()\n",
        "\n",
        "    start_time = time.perf_counter()\n",
        "\n",
        "    for _ in range(num_runs):\n",
        "        row_sum_kernel[n_particles, THREADS_PER_BLOCK](bond_forces, f)\n",
        "\n",
        "    cuda.synchronize()\n",
        "\n",
        "    end_time = time.perf_counter()\n",
        "\n",
        "    avg_time = (end_time - start_time) / num_runs\n",
        "    return avg_time, f.copy_to_host()"
      ]
    },
    {
      "cell_type": "code",
      "execution_count": 14,
      "id": "2uyMwMy6zYNR",
      "metadata": {
        "colab": {
          "base_uri": "https://localhost:8080/"
        },
        "id": "2uyMwMy6zYNR",
        "outputId": "c408d5f3-e9af-41cb-e3fc-404717e0fa98"
      },
      "outputs": [
        {
          "output_type": "stream",
          "name": "stdout",
          "text": [
            "Kernel executed in 0.0163 seconds\n"
          ]
        }
      ],
      "source": [
        "cuda_event_time, result = benchmark_kernel(bond_forces, num_runs=100)\n",
        "print(f\"Kernel executed in {cuda_event_time:.4f} seconds\")"
      ]
    }
  ],
  "metadata": {
    "accelerator": "GPU",
    "colab": {
      "gpuType": "T4",
      "provenance": []
    },
    "kernelspec": {
      "display_name": "Python 3 (ipykernel)",
      "language": "python",
      "name": "python3"
    },
    "language_info": {
      "codemirror_mode": {
        "name": "ipython",
        "version": 3
      },
      "file_extension": ".py",
      "mimetype": "text/x-python",
      "name": "python",
      "nbconvert_exporter": "python",
      "pygments_lexer": "ipython3",
      "version": "3.11.6"
    }
  },
  "nbformat": 4,
  "nbformat_minor": 5
}