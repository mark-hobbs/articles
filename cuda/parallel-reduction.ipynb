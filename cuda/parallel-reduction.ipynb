{
 "cells": [
  {
   "cell_type": "markdown",
   "id": "153ffb63-fa1f-4d9a-a8b0-cbc07a60512b",
   "metadata": {
    "id": "153ffb63-fa1f-4d9a-a8b0-cbc07a60512b"
   },
   "source": [
    "# Parallel reduction\n",
    "\n",
    "<a href=\"https://colab.research.google.com/github/mark-hobbs/articles/blob/main/cuda/parallel-reduction.ipynb\" target=\"_parent\"><img src=\"https://colab.research.google.com/assets/colab-badge.svg\" alt=\"Open In Colab\"/></a>\n",
    "\n",
    "See [this post](https://github.com/googlecolab/colabtools/issues/5081) to understand compatability issues with Google Colab and Numba CUDA\n",
    "\n",
    "Literature:\n",
    "- [Optimising parallel reduction in CUDA](https://developer.download.nvidia.com/assets/cuda/files/reduction.pdf)"
   ]
  },
  {
   "cell_type": "markdown",
   "id": "cd1b425f-3f99-4c2d-8c88-f60a784930e5",
   "metadata": {
    "id": "cd1b425f-3f99-4c2d-8c88-f60a784930e5"
   },
   "source": [
    "## Reduce bond forces to particle forces\n",
    "\n",
    "Bond forces can be stored as a bondlist or neighbour list\n",
    "\n",
    "- bondlist [n_bonds, 2]\n",
    "- neighbourlist [n_particles, n_family_members]\n",
    "\n",
    "Reduce:\n",
    "- particles.forces [n_particles, 1]"
   ]
  },
  {
   "cell_type": "code",
   "execution_count": 64,
   "id": "aRl4unFhT3nE",
   "metadata": {
    "colab": {
     "base_uri": "https://localhost:8080/"
    },
    "id": "aRl4unFhT3nE",
    "outputId": "92c2caca-333e-49da-b0e4-ee04fba96882"
   },
   "outputs": [
    {
     "name": "stdout",
     "output_type": "stream",
     "text": [
      "Cloning into 'articles'...\n",
      "remote: Enumerating objects: 567, done.\u001b[K\n",
      "remote: Counting objects: 100% (103/103), done.\u001b[K\n",
      "remote: Compressing objects: 100% (92/92), done.\u001b[K\n",
      "remote: Total 567 (delta 53), reused 47 (delta 11), pack-reused 464 (from 1)\u001b[K\n",
      "Receiving objects: 100% (567/567), 101.08 MiB | 17.31 MiB/s, done.\n",
      "Resolving deltas: 100% (267/267), done.\n"
     ]
    }
   ],
   "source": [
    "!uv pip install -q --system numba-cuda==0.15.0\n",
    "\n",
    "import numpy as np\n",
    "from numba import  njit, prange, config\n",
    "config.CUDA_ENABLE_PYNVJITLINK = 1\n",
    "\n",
    "try:\n",
    "    import google.colab\n",
    "    !git clone https://github.com/mark-hobbs/articles.git\n",
    "    import os\n",
    "    os.chdir('articles/cuda')  # Navigate to the cuda subdirectory\n",
    "except ImportError:\n",
    "    pass  # Already local, no need to clone\n",
    "\n",
    "import utils"
   ]
  },
  {
   "cell_type": "code",
   "execution_count": 65,
   "id": "35899922-5ebf-4930-921d-4460e36c3286",
   "metadata": {
    "id": "35899922-5ebf-4930-921d-4460e36c3286"
   },
   "outputs": [],
   "source": [
    "np.random.seed(42)\n",
    "n_particles = 1500000\n",
    "n_family_members = 128\n",
    "\n",
    "bond_forces = np.random.rand(n_particles, n_family_members)"
   ]
  },
  {
   "cell_type": "markdown",
   "id": "0b4138f7-44d0-4a81-9d4a-1add7822b4f6",
   "metadata": {
    "id": "0b4138f7-44d0-4a81-9d4a-1add7822b4f6"
   },
   "source": [
    "### Numpy and Numba"
   ]
  },
  {
   "cell_type": "code",
   "execution_count": 66,
   "id": "782a0d56-cfd3-4d51-98f1-5566c943cdb8",
   "metadata": {
    "id": "782a0d56-cfd3-4d51-98f1-5566c943cdb8"
   },
   "outputs": [],
   "source": [
    "@utils.profile(runs=10)\n",
    "def reduce_bond_forces_a(bond_forces):\n",
    "    n_particles = bond_forces.shape[0]\n",
    "    f = np.zeros((n_particles))\n",
    "    for i in range(n_particles):\n",
    "        f[i] = np.sum(bond_forces[i, :])\n",
    "    return f"
   ]
  },
  {
   "cell_type": "code",
   "execution_count": 67,
   "id": "b6d2f151-f9c4-4afb-9c9c-678c3e136ad0",
   "metadata": {
    "id": "b6d2f151-f9c4-4afb-9c9c-678c3e136ad0"
   },
   "outputs": [],
   "source": [
    "@utils.profile(runs=10)\n",
    "def reduce_bond_forces_b(bond_forces):\n",
    "    return np.sum(bond_forces, axis=1)"
   ]
  },
  {
   "cell_type": "code",
   "execution_count": 68,
   "id": "25f1cec9-a860-44a3-99a2-c8a74d74b6d6",
   "metadata": {
    "id": "25f1cec9-a860-44a3-99a2-c8a74d74b6d6"
   },
   "outputs": [],
   "source": [
    "@utils.profile(runs=10)\n",
    "@njit(parallel=True, fastmath=True)\n",
    "def reduce_bond_forces_c(bond_forces):\n",
    "    n_particles = bond_forces.shape[0]\n",
    "    f = np.zeros((n_particles))\n",
    "    for i in prange(n_particles):\n",
    "        f[i] = np.sum(bond_forces[i, :])\n",
    "    return f"
   ]
  },
  {
   "cell_type": "code",
   "execution_count": 69,
   "id": "131c4a64-9cd1-426d-811d-791b9f78f8f0",
   "metadata": {
    "colab": {
     "base_uri": "https://localhost:8080/"
    },
    "id": "131c4a64-9cd1-426d-811d-791b9f78f8f0",
    "outputId": "33d8a240-c2c7-49ba-8046-e1bbbdafe224"
   },
   "outputs": [
    {
     "name": "stdout",
     "output_type": "stream",
     "text": [
      "Function 'reduce_bond_forces_a' executed 10 time(s)\n",
      "Average execution time: 5.0456 seconds\n",
      "Min: 4.9510s, Max: 5.1096s\n",
      "\n",
      "Function 'reduce_bond_forces_b' executed 10 time(s)\n",
      "Average execution time: 0.1263 seconds\n",
      "Min: 0.1259s, Max: 0.1266s\n",
      "\n",
      "Function 'reduce_bond_forces_c' executed 10 time(s)\n",
      "Average execution time: 0.0817 seconds\n",
      "Min: 0.0214s, Max: 0.6228s\n",
      "\n"
     ]
    }
   ],
   "source": [
    "f_a = reduce_bond_forces_a(bond_forces)\n",
    "f_b = reduce_bond_forces_b(bond_forces)\n",
    "f_c = reduce_bond_forces_c(bond_forces)\n",
    "assert np.allclose(f_a, f_b) and np.allclose(f_b, f_c), \"Results are not equal\""
   ]
  },
  {
   "cell_type": "markdown",
   "id": "9fd28085-164b-40d9-b9a2-07f606cc70f3",
   "metadata": {
    "id": "9fd28085-164b-40d9-b9a2-07f606cc70f3"
   },
   "source": [
    "### Numba CUDA"
   ]
  },
  {
   "cell_type": "code",
   "execution_count": 70,
   "id": "d56ea9fb-4d75-4cfa-9d73-7aa4613452de",
   "metadata": {
    "id": "d56ea9fb-4d75-4cfa-9d73-7aa4613452de"
   },
   "outputs": [],
   "source": [
    "from numba import cuda, float32"
   ]
  },
  {
   "cell_type": "code",
   "execution_count": 71,
   "id": "1fc752a6-a24f-45e5-bf65-405334955c25",
   "metadata": {
    "id": "1fc752a6-a24f-45e5-bf65-405334955c25"
   },
   "outputs": [],
   "source": [
    "THREADS_PER_BLOCK = 128\n",
    "\n",
    "@cuda.jit\n",
    "def reduce_bond_forces_kernel(bond_forces, particle_forces):\n",
    "    \"\"\"\n",
    "    Reduce bond forces to particle forces\n",
    "\n",
    "    Employ sequential addressing\n",
    "    \"\"\"\n",
    "\n",
    "    shared = cuda.shared.array(THREADS_PER_BLOCK, dtype=bond_forces.dtype)\n",
    "\n",
    "    particle = cuda.blockIdx.x\n",
    "    tid = cuda.threadIdx.x\n",
    "    n_family_members = bond_forces.shape[1]\n",
    "\n",
    "    # Initialise shared memory\n",
    "    val = 0.0\n",
    "    if tid < n_family_members:\n",
    "        val = bond_forces[particle, tid]\n",
    "    shared[tid] = val\n",
    "\n",
    "    cuda.syncthreads()\n",
    "\n",
    "    stride = THREADS_PER_BLOCK // 2\n",
    "    while stride > 0:\n",
    "        if tid < stride:\n",
    "            shared[tid] += shared[tid + stride]\n",
    "        cuda.syncthreads()\n",
    "        stride //= 2\n",
    "\n",
    "    if tid == 0:\n",
    "        particle_forces[particle] = shared[0]\n",
    "\n",
    "@utils.profile(runs=10)\n",
    "def reduce_bond_forces_gpu(bond_forces):\n",
    "    n_particles, n_family_members = bond_forces.shape\n",
    "\n",
    "    bond_forces = cuda.to_device(bond_forces.astype(np.float32))\n",
    "    f = cuda.device_array(n_particles, dtype=np.float32)\n",
    "\n",
    "    reduce_bond_forces_kernel[n_particles, THREADS_PER_BLOCK](bond_forces, f)\n",
    "    return f.copy_to_host()"
   ]
  },
  {
   "cell_type": "code",
   "execution_count": 72,
   "id": "cc9f08a1-cf9f-48a3-a62b-aa42eb14836e",
   "metadata": {
    "colab": {
     "base_uri": "https://localhost:8080/"
    },
    "id": "cc9f08a1-cf9f-48a3-a62b-aa42eb14836e",
    "outputId": "e4bac986-9df4-4fab-8a16-d4244595c6ab"
   },
   "outputs": [
    {
     "name": "stdout",
     "output_type": "stream",
     "text": [
      "CUDA Device Information:\n",
      "----------------------------------------\n",
      "CUDA Runtime Version:          12.6\n",
      "Device Name:                   NVIDIA L4\u0000\u0000\u0000\u0000\u0000\u0000\u0000\u0000\u0000\u0000\u0000\u0000\u0000\u0000\u0000\u0000\u0000\u0000\u0000\u0000\u0000\u0000\u0000\u0000\u0000\u0000\u0000\u0000\u0000\u0000\u0000\u0000\u0000\u0000\u0000\u0000\u0000\u0000\u0000\u0000\u0000\u0000\u0000\u0000\u0000\u0000\u0000\u0000\u0000\u0000\u0000\u0000\u0000\u0000\u0000                                                                \n",
      "Compute Capability:            (8, 9)\n",
      "\n",
      "Memory:\n",
      "Total Memory:                  23.80 GB\n",
      "Free Memory:                   19.71 GB\n",
      "\n",
      "Compute Resources:\n",
      "Streaming Multiprocessors:     58\n",
      "Max Threads per Block:         1024\n",
      "\n",
      "Grid Limitations:\n",
      "Max Grid Dimensions X:         2147483647\n",
      "Max Grid Dimensions Y:         65535\n",
      "Max Grid Dimensions Z:         65535\n",
      "\n",
      "Additional Characteristics:\n",
      "Warp Size:                     32\n",
      "Clock Rate:                    2.04 GHz\n",
      "Memory Clock Rate:             6.25 GHz\n"
     ]
    }
   ],
   "source": [
    "utils.get_cuda_device_info()"
   ]
  },
  {
   "cell_type": "code",
   "execution_count": 73,
   "id": "0ec3189a-d455-4489-baaf-ea388669f8db",
   "metadata": {
    "colab": {
     "base_uri": "https://localhost:8080/"
    },
    "id": "0ec3189a-d455-4489-baaf-ea388669f8db",
    "outputId": "1e4f64c3-9e5a-4710-9de3-dbe0b54cdd28"
   },
   "outputs": [
    {
     "name": "stdout",
     "output_type": "stream",
     "text": [
      "Function 'reduce_bond_forces_gpu' executed 10 time(s)\n",
      "Average execution time: 0.4640 seconds\n",
      "Min: 0.4489s, Max: 0.5657s\n",
      "\n"
     ]
    }
   ],
   "source": [
    "f_gpu = reduce_bond_forces_gpu(bond_forces)\n",
    "assert np.allclose(f_a, f_gpu), \"Results are not equal\""
   ]
  },
  {
   "cell_type": "code",
   "execution_count": 74,
   "id": "w0xZX45xzS6L",
   "metadata": {
    "id": "w0xZX45xzS6L"
   },
   "outputs": [],
   "source": [
    "import time\n",
    "\n",
    "def benchmark_kernel(bond_forces, num_runs=100):\n",
    "    n_particles, n_family_members = bond_forces.shape\n",
    "\n",
    "    bond_forces = cuda.to_device(bond_forces.astype(np.float32))\n",
    "    f = cuda.device_array(n_particles, dtype=np.float32)\n",
    "\n",
    "    # Warm up the kernel\n",
    "    for _ in range(5):\n",
    "        reduce_bond_forces_kernel[n_particles, THREADS_PER_BLOCK](bond_forces, f)\n",
    "\n",
    "    cuda.synchronize()\n",
    "\n",
    "    start = time.perf_counter()\n",
    "\n",
    "    for _ in range(num_runs):\n",
    "        reduce_bond_forces_kernel[n_particles, THREADS_PER_BLOCK](bond_forces, f)\n",
    "\n",
    "    cuda.synchronize()\n",
    "\n",
    "    end = time.perf_counter()\n",
    "\n",
    "    avg = (end - start) / num_runs\n",
    "    return avg, f.copy_to_host()"
   ]
  },
  {
   "cell_type": "code",
   "execution_count": 75,
   "id": "2uyMwMy6zYNR",
   "metadata": {
    "colab": {
     "base_uri": "https://localhost:8080/"
    },
    "id": "2uyMwMy6zYNR",
    "outputId": "e394e2f1-7b4d-45dc-f446-c74d821daeb1"
   },
   "outputs": [
    {
     "name": "stdout",
     "output_type": "stream",
     "text": [
      "Kernel executed in 0.0041 seconds\n"
     ]
    }
   ],
   "source": [
    "cuda_event_time, result = benchmark_kernel(bond_forces, num_runs=100)\n",
    "print(f\"Kernel executed in {cuda_event_time:.4f} seconds\")\n",
    "assert np.allclose(f_a, result), \"Results are not equal\""
   ]
  },
  {
   "cell_type": "code",
   "execution_count": 76,
   "id": "TJWynrieysML",
   "metadata": {
    "colab": {
     "base_uri": "https://localhost:8080/"
    },
    "id": "TJWynrieysML",
    "outputId": "e123cda6-c7ff-441f-eb7d-f5cae1b1eb0a"
   },
   "outputs": [
    {
     "name": "stdout",
     "output_type": "stream",
     "text": [
      "[61.7185851  63.45910746 62.32717021 ... 67.28637261 67.38296414\n",
      " 64.04946335] \n",
      " [61.718586 63.459106 62.32717  ... 67.28638  67.382965 64.04947 ]\n"
     ]
    }
   ],
   "source": [
    "print(f_a, \"\\n\", result)"
   ]
  },
  {
   "cell_type": "markdown",
   "id": "ab2ed940-69eb-4378-9784-20408ee98ffb",
   "metadata": {
    "id": "ab2ed940-69eb-4378-9784-20408ee98ffb"
   },
   "source": [
    "## First add during load"
   ]
  },
  {
   "cell_type": "code",
   "execution_count": 77,
   "id": "3f0c042a-25fd-4f37-bfa9-261252ba0f1d",
   "metadata": {
    "id": "3f0c042a-25fd-4f37-bfa9-261252ba0f1d"
   },
   "outputs": [],
   "source": [
    "THREADS_PER_BLOCK = 128\n",
    "\n",
    "@cuda.jit\n",
    "def reduce_bond_forces_kernel(bond_forces, particle_forces):\n",
    "    \"\"\"\n",
    "    Reduce bond forces to particle forces\n",
    "\n",
    "    Employ sequential addressing with optimised first add during load\n",
    "    \"\"\"\n",
    "\n",
    "    shared = cuda.shared.array(THREADS_PER_BLOCK, dtype=bond_forces.dtype)\n",
    "\n",
    "    particle = cuda.blockIdx.x\n",
    "    tid = cuda.threadIdx.x\n",
    "    n_family_members = bond_forces.shape[1]\n",
    "\n",
    "    val = 0.0\n",
    "    if tid < n_family_members:\n",
    "        val += bond_forces[particle, tid]\n",
    "\n",
    "    if tid + THREADS_PER_BLOCK // 2 < n_family_members:\n",
    "        val += bond_forces[particle, tid + THREADS_PER_BLOCK // 2]\n",
    "\n",
    "    shared[tid] = val\n",
    "    cuda.syncthreads()\n",
    "\n",
    "    stride = THREADS_PER_BLOCK // 4  # Start with quarter instead of half\n",
    "    while stride > 0:\n",
    "        if tid < stride:\n",
    "            shared[tid] += shared[tid + stride]\n",
    "        cuda.syncthreads()\n",
    "        stride //= 2\n",
    "\n",
    "    if tid == 0:\n",
    "        particle_forces[particle] = shared[0]"
   ]
  },
  {
   "cell_type": "code",
   "execution_count": 78,
   "id": "00a05934-8bf8-4d26-8fc3-73007f34b294",
   "metadata": {
    "colab": {
     "base_uri": "https://localhost:8080/"
    },
    "id": "00a05934-8bf8-4d26-8fc3-73007f34b294",
    "outputId": "1babedae-b4f4-4fc8-abb1-05024be90cbe"
   },
   "outputs": [
    {
     "name": "stdout",
     "output_type": "stream",
     "text": [
      "Kernel executed in 0.0062 seconds\n"
     ]
    }
   ],
   "source": [
    "cuda_event_time, result = benchmark_kernel(bond_forces, num_runs=100)\n",
    "print(f\"Kernel executed in {cuda_event_time:.4f} seconds\")\n",
    "assert np.allclose(f_a, result), \"Results are not equal\""
   ]
  },
  {
   "cell_type": "code",
   "execution_count": 79,
   "id": "fFBbYvkapCf0",
   "metadata": {
    "colab": {
     "base_uri": "https://localhost:8080/"
    },
    "id": "fFBbYvkapCf0",
    "outputId": "d3684712-3944-423b-8b18-1d826cdac73d"
   },
   "outputs": [
    {
     "name": "stdout",
     "output_type": "stream",
     "text": [
      "[61.7185851  63.45910746 62.32717021 ... 67.28637261 67.38296414\n",
      " 64.04946335] \n",
      " [61.718586 63.459106 62.32717  ... 67.28638  67.382965 64.04947 ]\n"
     ]
    }
   ],
   "source": [
    "print(f_a, \"\\n\", result)"
   ]
  }
 ],
 "metadata": {
  "accelerator": "GPU",
  "colab": {
   "gpuType": "L4",
   "provenance": []
  },
  "kernelspec": {
   "display_name": "Python 3 (ipykernel)",
   "language": "python",
   "name": "python3"
  },
  "language_info": {
   "codemirror_mode": {
    "name": "ipython",
    "version": 3
   },
   "file_extension": ".py",
   "mimetype": "text/x-python",
   "name": "python",
   "nbconvert_exporter": "python",
   "pygments_lexer": "ipython3",
   "version": "3.11.6"
  }
 },
 "nbformat": 4,
 "nbformat_minor": 5
}
