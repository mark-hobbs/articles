{
 "cells": [
  {
   "cell_type": "markdown",
   "id": "153ffb63-fa1f-4d9a-a8b0-cbc07a60512b",
   "metadata": {
    "id": "153ffb63-fa1f-4d9a-a8b0-cbc07a60512b"
   },
   "source": [
    "# Parallel reduction\n",
    "\n",
    "<a href=\"https://colab.research.google.com/github/mark-hobbs/articles/blob/main/cuda/parallel-reduction.ipynb\" target=\"_parent\"><img src=\"https://colab.research.google.com/assets/colab-badge.svg\" alt=\"Open In Colab\"/></a>\n",
    "\n",
    "See [this post](https://github.com/googlecolab/colabtools/issues/5081) to understand compatability issues with Google Colab and Numba CUDA\n",
    "\n",
    "Literature:\n",
    "- [Optimising parallel reduction in CUDA](https://developer.download.nvidia.com/assets/cuda/files/reduction.pdf)"
   ]
  },
  {
   "cell_type": "markdown",
   "id": "cd1b425f-3f99-4c2d-8c88-f60a784930e5",
   "metadata": {
    "id": "cd1b425f-3f99-4c2d-8c88-f60a784930e5"
   },
   "source": [
    "## Reduce bond forces to particle forces\n",
    "\n",
    "Bond forces can be stored as a bondlist or neighbour list\n",
    "\n",
    "- bondlist [n_bonds, 2]\n",
    "- neighbourlist [n_particles, n_family_members]\n",
    "\n",
    "Reduce:\n",
    "- particles.forces [n_particles, 1]"
   ]
  },
  {
   "cell_type": "code",
   "execution_count": 1,
   "id": "0edfd766-e9df-4e97-8632-19e5b1ad433a",
   "metadata": {
    "colab": {
     "base_uri": "https://localhost:8080/"
    },
    "id": "0edfd766-e9df-4e97-8632-19e5b1ad433a",
    "outputId": "3aeeb3f9-4a52-4989-e85e-6da30481dbda"
   },
   "outputs": [],
   "source": [
    "import numpy as np\n",
    "from numba import njit, prange\n",
    "\n",
    "try:\n",
    "    import google.colab\n",
    "    !git clone https://github.com/mark-hobbs/articles.git\n",
    "    import os\n",
    "    os.chdir('articles/cuda')  # Navigate to the cuda subdirectory\n",
    "except ImportError:\n",
    "    pass  # Already local, no need to clone\n",
    "\n",
    "import utils"
   ]
  },
  {
   "cell_type": "code",
   "execution_count": 2,
   "id": "35899922-5ebf-4930-921d-4460e36c3286",
   "metadata": {
    "id": "35899922-5ebf-4930-921d-4460e36c3286"
   },
   "outputs": [],
   "source": [
    "np.random.seed(42)\n",
    "n_particles = 1500000\n",
    "n_family_members = 128\n",
    "\n",
    "bond_forces = np.random.rand(n_particles, n_family_members)"
   ]
  },
  {
   "cell_type": "markdown",
   "id": "0b4138f7-44d0-4a81-9d4a-1add7822b4f6",
   "metadata": {
    "id": "0b4138f7-44d0-4a81-9d4a-1add7822b4f6"
   },
   "source": [
    "### Numpy and Numba"
   ]
  },
  {
   "cell_type": "code",
   "execution_count": 3,
   "id": "782a0d56-cfd3-4d51-98f1-5566c943cdb8",
   "metadata": {
    "id": "782a0d56-cfd3-4d51-98f1-5566c943cdb8"
   },
   "outputs": [],
   "source": [
    "@utils.profile(runs=10)\n",
    "def reduce_bond_forces_a(bond_forces):\n",
    "    n_particles = bond_forces.shape[0]\n",
    "    f = np.zeros((n_particles))\n",
    "    for i in range(n_particles):\n",
    "        f[i] = np.sum(bond_forces[i, :])\n",
    "    return f"
   ]
  },
  {
   "cell_type": "code",
   "execution_count": 4,
   "id": "b6d2f151-f9c4-4afb-9c9c-678c3e136ad0",
   "metadata": {
    "id": "b6d2f151-f9c4-4afb-9c9c-678c3e136ad0"
   },
   "outputs": [],
   "source": [
    "@utils.profile(runs=10)\n",
    "def reduce_bond_forces_b(bond_forces):\n",
    "    return np.sum(bond_forces, axis=1)"
   ]
  },
  {
   "cell_type": "code",
   "execution_count": 5,
   "id": "25f1cec9-a860-44a3-99a2-c8a74d74b6d6",
   "metadata": {
    "id": "25f1cec9-a860-44a3-99a2-c8a74d74b6d6"
   },
   "outputs": [],
   "source": [
    "@utils.profile(runs=10)\n",
    "@njit(parallel=True, fastmath=True)\n",
    "def reduce_bond_forces_c(bond_forces):\n",
    "    n_particles = bond_forces.shape[0]\n",
    "    f = np.zeros((n_particles))\n",
    "    for i in prange(n_particles):\n",
    "        f[i] = np.sum(bond_forces[i, :])\n",
    "    return f"
   ]
  },
  {
   "cell_type": "code",
   "execution_count": 6,
   "id": "131c4a64-9cd1-426d-811d-791b9f78f8f0",
   "metadata": {
    "colab": {
     "base_uri": "https://localhost:8080/"
    },
    "id": "131c4a64-9cd1-426d-811d-791b9f78f8f0",
    "outputId": "caf6e94b-c783-4a59-8f8c-2293e7e17451"
   },
   "outputs": [
    {
     "name": "stdout",
     "output_type": "stream",
     "text": [
      "Function 'reduce_bond_forces_a' executed 10 time(s)\n",
      "Average execution time: 1.8187 seconds\n",
      "Min: 1.8049s, Max: 1.8471s\n",
      "\n",
      "Function 'reduce_bond_forces_b' executed 10 time(s)\n",
      "Average execution time: 0.0435 seconds\n",
      "Min: 0.0386s, Max: 0.0663s\n",
      "\n",
      "Function 'reduce_bond_forces_c' executed 10 time(s)\n",
      "Average execution time: 0.0429 seconds\n",
      "Min: 0.0128s, Max: 0.3071s\n",
      "\n"
     ]
    }
   ],
   "source": [
    "f_a = reduce_bond_forces_a(bond_forces)\n",
    "f_b = reduce_bond_forces_b(bond_forces)\n",
    "f_c = reduce_bond_forces_c(bond_forces)\n",
    "assert np.allclose(f_a, f_b) and np.allclose(f_b, f_c), \"Results are not equal\""
   ]
  },
  {
   "cell_type": "markdown",
   "id": "9fd28085-164b-40d9-b9a2-07f606cc70f3",
   "metadata": {
    "id": "9fd28085-164b-40d9-b9a2-07f606cc70f3"
   },
   "source": [
    "### Numba CUDA"
   ]
  },
  {
   "cell_type": "code",
   "execution_count": 7,
   "id": "d56ea9fb-4d75-4cfa-9d73-7aa4613452de",
   "metadata": {
    "id": "d56ea9fb-4d75-4cfa-9d73-7aa4613452de"
   },
   "outputs": [],
   "source": [
    "from numba import cuda, float32"
   ]
  },
  {
   "cell_type": "code",
   "execution_count": 8,
   "id": "1fc752a6-a24f-45e5-bf65-405334955c25",
   "metadata": {
    "id": "1fc752a6-a24f-45e5-bf65-405334955c25"
   },
   "outputs": [],
   "source": [
    "THREADS_PER_BLOCK = 256\n",
    "\n",
    "@cuda.jit\n",
    "def reduce_bond_forces_kernel(bond_forces, particle_forces):\n",
    "    \"\"\"\n",
    "    Reduce bond forces to particle forces\n",
    "    \"\"\"\n",
    "\n",
    "    shared = cuda.shared.array(THREADS_PER_BLOCK, dtype=bond_forces.dtype)\n",
    "\n",
    "    particle = cuda.blockIdx.x\n",
    "    tid = cuda.threadIdx.x\n",
    "    n_family_members = bond_forces.shape[1]\n",
    "\n",
    "    val = 0.0\n",
    "    if tid < n_family_members:\n",
    "        val = bond_forces[particle, tid]\n",
    "\n",
    "    shared[tid] = val\n",
    "    cuda.syncthreads()\n",
    "\n",
    "    stride = THREADS_PER_BLOCK // 2\n",
    "    while stride > 0:\n",
    "        if tid < stride and tid + stride < n_family_members:\n",
    "            shared[tid] += shared[tid + stride]\n",
    "        cuda.syncthreads()\n",
    "        stride //= 2\n",
    "\n",
    "    if tid == 0:\n",
    "        particle_forces[particle] = shared[0]\n",
    "\n",
    "@utils.profile(runs=10)\n",
    "def reduce_bond_forces_gpu(bond_forces):\n",
    "    n_particles, n_family_members = bond_forces.shape\n",
    "\n",
    "    bond_forces = cuda.to_device(bond_forces.astype(np.float32))\n",
    "    f = cuda.device_array(n_particles, dtype=np.float32)\n",
    "\n",
    "    reduce_bond_forces_kernel[n_particles, THREADS_PER_BLOCK](bond_forces, f)\n",
    "    return f.copy_to_host()"
   ]
  },
  {
   "cell_type": "code",
   "execution_count": 9,
   "id": "cc9f08a1-cf9f-48a3-a62b-aa42eb14836e",
   "metadata": {
    "colab": {
     "base_uri": "https://localhost:8080/"
    },
    "id": "cc9f08a1-cf9f-48a3-a62b-aa42eb14836e",
    "outputId": "f03f26ef-c917-4746-df5e-39932c47b27b"
   },
   "outputs": [
    {
     "name": "stdout",
     "output_type": "stream",
     "text": [
      "Error retrieving CUDA device information: Error at driver init: \n",
      "\n",
      "CUDA driver library cannot be found.\n",
      "If you are sure that a CUDA driver is installed,\n",
      "try setting environment variable NUMBA_CUDA_DRIVER\n",
      "with the file path of the CUDA driver shared library.\n",
      ":\n"
     ]
    }
   ],
   "source": [
    "utils.get_cuda_device_info()"
   ]
  },
  {
   "cell_type": "code",
   "execution_count": 10,
   "id": "c11e8f1e-1199-43a6-b5b9-11f1f6434e8e",
   "metadata": {
    "id": "c11e8f1e-1199-43a6-b5b9-11f1f6434e8e"
   },
   "outputs": [],
   "source": [
    "!uv pip install -q --system numba-cuda==0.4.0"
   ]
  },
  {
   "cell_type": "code",
   "execution_count": 11,
   "id": "83ebfc1b-b890-4554-b8ee-8247e1be3dca",
   "metadata": {
    "id": "83ebfc1b-b890-4554-b8ee-8247e1be3dca"
   },
   "outputs": [],
   "source": [
    "from numba import config\n",
    "config.CUDA_ENABLE_PYNVJITLINK = 1"
   ]
  },
  {
   "cell_type": "code",
   "execution_count": 12,
   "id": "0ec3189a-d455-4489-baaf-ea388669f8db",
   "metadata": {
    "colab": {
     "base_uri": "https://localhost:8080/"
    },
    "id": "0ec3189a-d455-4489-baaf-ea388669f8db",
    "outputId": "ab925992-1be5-48b6-843f-e6c9f8b1cc37"
   },
   "outputs": [
    {
     "ename": "CudaSupportError",
     "evalue": "Error at driver init: \n\nCUDA driver library cannot be found.\nIf you are sure that a CUDA driver is installed,\ntry setting environment variable NUMBA_CUDA_DRIVER\nwith the file path of the CUDA driver shared library.\n:",
     "output_type": "error",
     "traceback": [
      "\u001b[31m---------------------------------------------------------------------------\u001b[39m",
      "\u001b[31mCudaSupportError\u001b[39m                          Traceback (most recent call last)",
      "\u001b[36mCell\u001b[39m\u001b[36m \u001b[39m\u001b[32mIn[12]\u001b[39m\u001b[32m, line 1\u001b[39m\n\u001b[32m----> \u001b[39m\u001b[32m1\u001b[39m f_gpu = \u001b[43mreduce_bond_forces_gpu\u001b[49m\u001b[43m(\u001b[49m\u001b[43mbond_forces\u001b[49m\u001b[43m)\u001b[49m\n\u001b[32m      2\u001b[39m \u001b[38;5;28;01massert\u001b[39;00m np.allclose(f_a, f_gpu), \u001b[33m\"\u001b[39m\u001b[33mResults are not equal\u001b[39m\u001b[33m\"\u001b[39m\n",
      "\u001b[36mFile \u001b[39m\u001b[32m~/Documents/02-repositories/articles/cuda/utils.py:16\u001b[39m, in \u001b[36mprofile.<locals>.decorator.<locals>.wrapper\u001b[39m\u001b[34m(*args, **kwargs)\u001b[39m\n\u001b[32m     14\u001b[39m \u001b[38;5;28;01mfor\u001b[39;00m i \u001b[38;5;129;01min\u001b[39;00m \u001b[38;5;28mrange\u001b[39m(runs):\n\u001b[32m     15\u001b[39m     start = time.time()\n\u001b[32m---> \u001b[39m\u001b[32m16\u001b[39m     result = \u001b[43mfunc\u001b[49m\u001b[43m(\u001b[49m\u001b[43m*\u001b[49m\u001b[43margs\u001b[49m\u001b[43m,\u001b[49m\u001b[43m \u001b[49m\u001b[43m*\u001b[49m\u001b[43m*\u001b[49m\u001b[43mkwargs\u001b[49m\u001b[43m)\u001b[49m\n\u001b[32m     17\u001b[39m     end = time.time()\n\u001b[32m     18\u001b[39m     times.append(end - start)\n",
      "\u001b[36mCell\u001b[39m\u001b[36m \u001b[39m\u001b[32mIn[8]\u001b[39m\u001b[32m, line 36\u001b[39m, in \u001b[36mreduce_bond_forces_gpu\u001b[39m\u001b[34m(bond_forces)\u001b[39m\n\u001b[32m     32\u001b[39m \u001b[38;5;129m@utils\u001b[39m.profile(runs=\u001b[32m10\u001b[39m)\n\u001b[32m     33\u001b[39m \u001b[38;5;28;01mdef\u001b[39;00m\u001b[38;5;250m \u001b[39m\u001b[34mreduce_bond_forces_gpu\u001b[39m(bond_forces):\n\u001b[32m     34\u001b[39m     n_particles, n_family_members = bond_forces.shape\n\u001b[32m---> \u001b[39m\u001b[32m36\u001b[39m     bond_forces = \u001b[43mcuda\u001b[49m\u001b[43m.\u001b[49m\u001b[43mto_device\u001b[49m\u001b[43m(\u001b[49m\u001b[43mbond_forces\u001b[49m\u001b[43m.\u001b[49m\u001b[43mastype\u001b[49m\u001b[43m(\u001b[49m\u001b[43mnp\u001b[49m\u001b[43m.\u001b[49m\u001b[43mfloat32\u001b[49m\u001b[43m)\u001b[49m\u001b[43m)\u001b[49m\n\u001b[32m     37\u001b[39m     f = cuda.device_array(n_particles, dtype=np.float32)\n\u001b[32m     39\u001b[39m     reduce_bond_forces_kernel[n_particles, THREADS_PER_BLOCK](bond_forces, f)\n",
      "\u001b[36mFile \u001b[39m\u001b[32m~/.local/share/virtualenvs/cuda-z6WtAaew/lib/python3.11/site-packages/numba/cuda/cudadrv/devices.py:231\u001b[39m, in \u001b[36mrequire_context.<locals>._require_cuda_context\u001b[39m\u001b[34m(*args, **kws)\u001b[39m\n\u001b[32m    229\u001b[39m \u001b[38;5;129m@functools\u001b[39m.wraps(fn)\n\u001b[32m    230\u001b[39m \u001b[38;5;28;01mdef\u001b[39;00m\u001b[38;5;250m \u001b[39m\u001b[34m_require_cuda_context\u001b[39m(*args, **kws):\n\u001b[32m--> \u001b[39m\u001b[32m231\u001b[39m \u001b[43m    \u001b[49m\u001b[38;5;28;43;01mwith\u001b[39;49;00m\u001b[43m \u001b[49m\u001b[43m_runtime\u001b[49m\u001b[43m.\u001b[49m\u001b[43mensure_context\u001b[49m\u001b[43m(\u001b[49m\u001b[43m)\u001b[49m\u001b[43m:\u001b[49m\n\u001b[32m    232\u001b[39m \u001b[43m        \u001b[49m\u001b[38;5;28;43;01mreturn\u001b[39;49;00m\u001b[43m \u001b[49m\u001b[43mfn\u001b[49m\u001b[43m(\u001b[49m\u001b[43m*\u001b[49m\u001b[43margs\u001b[49m\u001b[43m,\u001b[49m\u001b[43m \u001b[49m\u001b[43m*\u001b[49m\u001b[43m*\u001b[49m\u001b[43mkws\u001b[49m\u001b[43m)\u001b[49m\n",
      "\u001b[36mFile \u001b[39m\u001b[32m/opt/homebrew/Cellar/python@3.11/3.11.6/Frameworks/Python.framework/Versions/3.11/lib/python3.11/contextlib.py:137\u001b[39m, in \u001b[36m_GeneratorContextManager.__enter__\u001b[39m\u001b[34m(self)\u001b[39m\n\u001b[32m    135\u001b[39m \u001b[38;5;28;01mdel\u001b[39;00m \u001b[38;5;28mself\u001b[39m.args, \u001b[38;5;28mself\u001b[39m.kwds, \u001b[38;5;28mself\u001b[39m.func\n\u001b[32m    136\u001b[39m \u001b[38;5;28;01mtry\u001b[39;00m:\n\u001b[32m--> \u001b[39m\u001b[32m137\u001b[39m     \u001b[38;5;28;01mreturn\u001b[39;00m \u001b[38;5;28mnext\u001b[39m(\u001b[38;5;28mself\u001b[39m.gen)\n\u001b[32m    138\u001b[39m \u001b[38;5;28;01mexcept\u001b[39;00m \u001b[38;5;167;01mStopIteration\u001b[39;00m:\n\u001b[32m    139\u001b[39m     \u001b[38;5;28;01mraise\u001b[39;00m \u001b[38;5;167;01mRuntimeError\u001b[39;00m(\u001b[33m\"\u001b[39m\u001b[33mgenerator didn\u001b[39m\u001b[33m'\u001b[39m\u001b[33mt yield\u001b[39m\u001b[33m\"\u001b[39m) \u001b[38;5;28;01mfrom\u001b[39;00m\u001b[38;5;250m \u001b[39m\u001b[38;5;28;01mNone\u001b[39;00m\n",
      "\u001b[36mFile \u001b[39m\u001b[32m~/.local/share/virtualenvs/cuda-z6WtAaew/lib/python3.11/site-packages/numba/cuda/cudadrv/devices.py:121\u001b[39m, in \u001b[36m_Runtime.ensure_context\u001b[39m\u001b[34m(self)\u001b[39m\n\u001b[32m    110\u001b[39m \u001b[38;5;129m@contextmanager\u001b[39m\n\u001b[32m    111\u001b[39m \u001b[38;5;28;01mdef\u001b[39;00m\u001b[38;5;250m \u001b[39m\u001b[34mensure_context\u001b[39m(\u001b[38;5;28mself\u001b[39m):\n\u001b[32m    112\u001b[39m \u001b[38;5;250m    \u001b[39m\u001b[33;03m\"\"\"Ensure a CUDA context is available inside the context.\u001b[39;00m\n\u001b[32m    113\u001b[39m \n\u001b[32m    114\u001b[39m \u001b[33;03m    On entrance, queries the CUDA driver for an active CUDA context and\u001b[39;00m\n\u001b[32m   (...)\u001b[39m\u001b[32m    119\u001b[39m \u001b[33;03m    any top-level Numba CUDA API.\u001b[39;00m\n\u001b[32m    120\u001b[39m \u001b[33;03m    \"\"\"\u001b[39;00m\n\u001b[32m--> \u001b[39m\u001b[32m121\u001b[39m \u001b[43m    \u001b[49m\u001b[38;5;28;43;01mwith\u001b[39;49;00m\u001b[43m \u001b[49m\u001b[43mdriver\u001b[49m\u001b[43m.\u001b[49m\u001b[43mget_active_context\u001b[49m\u001b[43m(\u001b[49m\u001b[43m)\u001b[49m\u001b[43m:\u001b[49m\n\u001b[32m    122\u001b[39m \u001b[43m        \u001b[49m\u001b[43moldctx\u001b[49m\u001b[43m \u001b[49m\u001b[43m=\u001b[49m\u001b[43m \u001b[49m\u001b[38;5;28;43mself\u001b[39;49m\u001b[43m.\u001b[49m\u001b[43m_get_attached_context\u001b[49m\u001b[43m(\u001b[49m\u001b[43m)\u001b[49m\n\u001b[32m    123\u001b[39m \u001b[43m        \u001b[49m\u001b[43mnewctx\u001b[49m\u001b[43m \u001b[49m\u001b[43m=\u001b[49m\u001b[43m \u001b[49m\u001b[38;5;28;43mself\u001b[39;49m\u001b[43m.\u001b[49m\u001b[43mget_or_create_context\u001b[49m\u001b[43m(\u001b[49m\u001b[38;5;28;43;01mNone\u001b[39;49;00m\u001b[43m)\u001b[49m\n",
      "\u001b[36mFile \u001b[39m\u001b[32m~/.local/share/virtualenvs/cuda-z6WtAaew/lib/python3.11/site-packages/numba/cuda/cudadrv/driver.py:495\u001b[39m, in \u001b[36m_ActiveContext.__enter__\u001b[39m\u001b[34m(self)\u001b[39m\n\u001b[32m    493\u001b[39m \u001b[38;5;28;01melse\u001b[39;00m:\n\u001b[32m    494\u001b[39m     hctx = drvapi.cu_context(\u001b[32m0\u001b[39m)\n\u001b[32m--> \u001b[39m\u001b[32m495\u001b[39m     \u001b[43mdriver\u001b[49m\u001b[43m.\u001b[49m\u001b[43mcuCtxGetCurrent\u001b[49m(byref(hctx))\n\u001b[32m    496\u001b[39m     hctx = hctx \u001b[38;5;28;01mif\u001b[39;00m hctx.value \u001b[38;5;28;01melse\u001b[39;00m \u001b[38;5;28;01mNone\u001b[39;00m\n\u001b[32m    498\u001b[39m \u001b[38;5;28;01mif\u001b[39;00m hctx \u001b[38;5;129;01mis\u001b[39;00m \u001b[38;5;28;01mNone\u001b[39;00m:\n",
      "\u001b[36mFile \u001b[39m\u001b[32m~/.local/share/virtualenvs/cuda-z6WtAaew/lib/python3.11/site-packages/numba/cuda/cudadrv/driver.py:295\u001b[39m, in \u001b[36mDriver.__getattr__\u001b[39m\u001b[34m(self, fname)\u001b[39m\n\u001b[32m    292\u001b[39m \u001b[38;5;28mself\u001b[39m.ensure_initialized()\n\u001b[32m    294\u001b[39m \u001b[38;5;28;01mif\u001b[39;00m \u001b[38;5;28mself\u001b[39m.initialization_error \u001b[38;5;129;01mis\u001b[39;00m \u001b[38;5;129;01mnot\u001b[39;00m \u001b[38;5;28;01mNone\u001b[39;00m:\n\u001b[32m--> \u001b[39m\u001b[32m295\u001b[39m     \u001b[38;5;28;01mraise\u001b[39;00m CudaSupportError(\u001b[33m\"\u001b[39m\u001b[33mError at driver init: \u001b[39m\u001b[38;5;130;01m\\n\u001b[39;00m\u001b[38;5;132;01m%s\u001b[39;00m\u001b[33m:\u001b[39m\u001b[33m\"\u001b[39m %\n\u001b[32m    296\u001b[39m                            \u001b[38;5;28mself\u001b[39m.initialization_error)\n\u001b[32m    298\u001b[39m \u001b[38;5;28;01mif\u001b[39;00m USE_NV_BINDING:\n\u001b[32m    299\u001b[39m     \u001b[38;5;28;01mreturn\u001b[39;00m \u001b[38;5;28mself\u001b[39m._cuda_python_wrap_fn(fname)\n",
      "\u001b[31mCudaSupportError\u001b[39m: Error at driver init: \n\nCUDA driver library cannot be found.\nIf you are sure that a CUDA driver is installed,\ntry setting environment variable NUMBA_CUDA_DRIVER\nwith the file path of the CUDA driver shared library.\n:"
     ]
    }
   ],
   "source": [
    "f_gpu = reduce_bond_forces_gpu(bond_forces)\n",
    "assert np.allclose(f_a, f_gpu), \"Results are not equal\""
   ]
  },
  {
   "cell_type": "code",
   "execution_count": null,
   "id": "w0xZX45xzS6L",
   "metadata": {
    "id": "w0xZX45xzS6L"
   },
   "outputs": [],
   "source": [
    "import time\n",
    "\n",
    "def benchmark_kernel(bond_forces, num_runs=100):\n",
    "    n_particles, n_family_members = bond_forces.shape\n",
    "\n",
    "    bond_forces = cuda.to_device(bond_forces.astype(np.float32))\n",
    "    f = cuda.device_array(n_particles, dtype=np.float32)\n",
    "\n",
    "    # Warm up the kernel\n",
    "    for _ in range(5):\n",
    "        reduce_bond_forces_kernel[n_particles, THREADS_PER_BLOCK](bond_forces, f)\n",
    "\n",
    "    cuda.synchronize()\n",
    "\n",
    "    start_time = time.perf_counter()\n",
    "\n",
    "    for _ in range(num_runs):\n",
    "        reduce_bond_forces_kernel[n_particles, THREADS_PER_BLOCK](bond_forces, f)\n",
    "\n",
    "    cuda.synchronize()\n",
    "\n",
    "    end_time = time.perf_counter()\n",
    "\n",
    "    avg_time = (end_time - start_time) / num_runs\n",
    "    return avg_time, f.copy_to_host()"
   ]
  },
  {
   "cell_type": "code",
   "execution_count": null,
   "id": "2uyMwMy6zYNR",
   "metadata": {
    "colab": {
     "base_uri": "https://localhost:8080/"
    },
    "id": "2uyMwMy6zYNR",
    "outputId": "c408d5f3-e9af-41cb-e3fc-404717e0fa98"
   },
   "outputs": [],
   "source": [
    "cuda_event_time, result = benchmark_kernel(bond_forces, num_runs=100)\n",
    "print(f\"Kernel executed in {cuda_event_time:.4f} seconds\")"
   ]
  }
 ],
 "metadata": {
  "accelerator": "GPU",
  "colab": {
   "gpuType": "T4",
   "provenance": []
  },
  "kernelspec": {
   "display_name": "Python 3 (ipykernel)",
   "language": "python",
   "name": "python3"
  },
  "language_info": {
   "codemirror_mode": {
    "name": "ipython",
    "version": 3
   },
   "file_extension": ".py",
   "mimetype": "text/x-python",
   "name": "python",
   "nbconvert_exporter": "python",
   "pygments_lexer": "ipython3",
   "version": "3.11.6"
  }
 },
 "nbformat": 4,
 "nbformat_minor": 5
}
