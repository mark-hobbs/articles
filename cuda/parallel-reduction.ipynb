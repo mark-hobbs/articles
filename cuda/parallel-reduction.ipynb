{
  "cells": [
    {
      "cell_type": "markdown",
      "id": "153ffb63-fa1f-4d9a-a8b0-cbc07a60512b",
      "metadata": {
        "id": "153ffb63-fa1f-4d9a-a8b0-cbc07a60512b"
      },
      "source": [
        "# Parallel reduction\n",
        "\n",
        "[Optimising parallel reduction in CUDA](https://developer.download.nvidia.com/assets/cuda/files/reduction.pdf)"
      ]
    },
    {
      "cell_type": "markdown",
      "id": "cd1b425f-3f99-4c2d-8c88-f60a784930e5",
      "metadata": {
        "id": "cd1b425f-3f99-4c2d-8c88-f60a784930e5"
      },
      "source": [
        "## Reduce bond forces to particle forces\n",
        "\n",
        "Bond forces can be stored as a bondlist or neighbour list\n",
        "\n",
        "- bondlist [n_bonds, 2]\n",
        "- neighbourlist [n_particles, n_family_members]\n",
        "\n",
        "Reduce:\n",
        "- particles.forces [n_particles, 1]"
      ]
    },
    {
      "cell_type": "code",
      "execution_count": 46,
      "id": "0edfd766-e9df-4e97-8632-19e5b1ad433a",
      "metadata": {
        "id": "0edfd766-e9df-4e97-8632-19e5b1ad433a"
      },
      "outputs": [],
      "source": [
        "import time\n",
        "from functools import wraps\n",
        "\n",
        "import numpy as np\n",
        "from numba import njit, prange"
      ]
    },
    {
      "cell_type": "code",
      "execution_count": 47,
      "id": "9a0db2d6-e56e-4450-af91-1a3faf316ac6",
      "metadata": {
        "id": "9a0db2d6-e56e-4450-af91-1a3faf316ac6"
      },
      "outputs": [],
      "source": [
        "def timeit(func):\n",
        "    @wraps(func)\n",
        "    def wrapper(*args, **kwargs):\n",
        "        start = time.time()\n",
        "        result = func(*args, **kwargs)\n",
        "        end = time.time()\n",
        "        print(f\"Function '{func.__name__}' executed in {end - start:.4f} seconds\")\n",
        "        return result\n",
        "\n",
        "    return wrapper"
      ]
    },
    {
      "cell_type": "code",
      "execution_count": 48,
      "id": "35899922-5ebf-4930-921d-4460e36c3286",
      "metadata": {
        "id": "35899922-5ebf-4930-921d-4460e36c3286"
      },
      "outputs": [],
      "source": [
        "np.random.seed(42)\n",
        "n_particles = 1500000\n",
        "n_family_members = 256\n",
        "\n",
        "neighbourlist = np.random.rand(n_particles, n_family_members)"
      ]
    },
    {
      "cell_type": "markdown",
      "id": "0b4138f7-44d0-4a81-9d4a-1add7822b4f6",
      "metadata": {
        "id": "0b4138f7-44d0-4a81-9d4a-1add7822b4f6"
      },
      "source": [
        "### Numpy and Numba"
      ]
    },
    {
      "cell_type": "code",
      "execution_count": 49,
      "id": "782a0d56-cfd3-4d51-98f1-5566c943cdb8",
      "metadata": {
        "id": "782a0d56-cfd3-4d51-98f1-5566c943cdb8"
      },
      "outputs": [],
      "source": [
        "@timeit\n",
        "def reduce_bond_forces_a(neighbourlist):\n",
        "    n_particles = neighbourlist.shape[0]\n",
        "    f = np.zeros((n_particles))\n",
        "    for i in range(n_particles):\n",
        "        f[i] = np.sum(neighbourlist[i, :])\n",
        "    return f"
      ]
    },
    {
      "cell_type": "code",
      "execution_count": 50,
      "id": "b6d2f151-f9c4-4afb-9c9c-678c3e136ad0",
      "metadata": {
        "id": "b6d2f151-f9c4-4afb-9c9c-678c3e136ad0"
      },
      "outputs": [],
      "source": [
        "@timeit\n",
        "def reduce_bond_forces_b(neighbourlist):\n",
        "    return np.sum(neighbourlist, axis=1)"
      ]
    },
    {
      "cell_type": "code",
      "execution_count": 51,
      "id": "25f1cec9-a860-44a3-99a2-c8a74d74b6d6",
      "metadata": {
        "id": "25f1cec9-a860-44a3-99a2-c8a74d74b6d6"
      },
      "outputs": [],
      "source": [
        "@timeit\n",
        "@njit(parallel=True, fastmath=True)\n",
        "def reduce_bond_forces_c(neighbourlist):\n",
        "    n_particles = neighbourlist.shape[0]\n",
        "    f = np.zeros((n_particles))\n",
        "    for i in prange(n_particles):\n",
        "        f[i] = np.sum(neighbourlist[i, :])\n",
        "    return f"
      ]
    },
    {
      "cell_type": "code",
      "execution_count": 62,
      "id": "131c4a64-9cd1-426d-811d-791b9f78f8f0",
      "metadata": {
        "id": "131c4a64-9cd1-426d-811d-791b9f78f8f0",
        "outputId": "65833c08-8931-4497-b48d-ca30e868cef5",
        "colab": {
          "base_uri": "https://localhost:8080/"
        }
      },
      "outputs": [
        {
          "output_type": "stream",
          "name": "stdout",
          "text": [
            "Function 'reduce_bond_forces_a' executed in 4.8073 seconds\n",
            "Function 'reduce_bond_forces_b' executed in 0.2593 seconds\n",
            "Function 'reduce_bond_forces_c' executed in 0.2392 seconds\n"
          ]
        }
      ],
      "source": [
        "f_a = reduce_bond_forces_a(neighbourlist)\n",
        "f_b = reduce_bond_forces_b(neighbourlist)\n",
        "f_c = reduce_bond_forces_c(neighbourlist)\n",
        "assert np.allclose(f_a, f_b) and np.allclose(f_b, f_c), \"Results are not equal\""
      ]
    },
    {
      "cell_type": "markdown",
      "id": "9fd28085-164b-40d9-b9a2-07f606cc70f3",
      "metadata": {
        "id": "9fd28085-164b-40d9-b9a2-07f606cc70f3"
      },
      "source": [
        "### Numba CUDA"
      ]
    },
    {
      "cell_type": "code",
      "execution_count": 53,
      "id": "d56ea9fb-4d75-4cfa-9d73-7aa4613452de",
      "metadata": {
        "id": "d56ea9fb-4d75-4cfa-9d73-7aa4613452de"
      },
      "outputs": [],
      "source": [
        "from numba import cuda, float32"
      ]
    },
    {
      "cell_type": "code",
      "execution_count": 54,
      "id": "8a237755-3560-4c56-8255-4746925f13f5",
      "metadata": {
        "id": "8a237755-3560-4c56-8255-4746925f13f5"
      },
      "outputs": [],
      "source": [
        "from numba import cuda\n",
        "\n",
        "def get_cuda_device_info(verbose=True):\n",
        "    \"\"\"\n",
        "    Retrieve comprehensive information about the current CUDA device.\n",
        "\n",
        "    Parameters:\n",
        "    -----------\n",
        "    verbose : bool, optional\n",
        "        If True, print device information. If False, return as dictionary.\n",
        "\n",
        "    Returns:\n",
        "    --------\n",
        "    dict or None\n",
        "        Dictionary of device properties if verbose=False, otherwise None\n",
        "    \"\"\"\n",
        "    try:\n",
        "        device = cuda.get_current_device()\n",
        "        context = cuda.current_context()\n",
        "        cuda_version = cuda.runtime.get_version()  # (major, minor)\n",
        "\n",
        "        device_info = {\n",
        "            \"cuda_runtime_version\": f\"{cuda_version[0]}.{cuda_version[1]}\",\n",
        "            \"name\": device.name,\n",
        "            \"compute_capability\": device.compute_capability,\n",
        "            \"total_memory_gb\": context.get_memory_info().total / 1e9,\n",
        "            \"free_memory_gb\": context.get_memory_info().free / 1e9,\n",
        "            \"multiprocessors\": device.MULTIPROCESSOR_COUNT,\n",
        "            \"max_threads_per_block\": device.MAX_THREADS_PER_BLOCK,\n",
        "            \"max_grid_dimensions\": {\n",
        "                \"x\": device.MAX_GRID_DIM_X,\n",
        "                \"y\": device.MAX_GRID_DIM_Y,\n",
        "                \"z\": device.MAX_GRID_DIM_Z\n",
        "            },\n",
        "            \"warp_size\": device.WARP_SIZE,\n",
        "            \"clock_rate_khz\": device.CLOCK_RATE,\n",
        "            \"memory_clock_rate_khz\": device.MEMORY_CLOCK_RATE,\n",
        "        }\n",
        "\n",
        "        if verbose:\n",
        "            print(\"CUDA Device Information:\")\n",
        "            print(\"-\" * 40)\n",
        "            print(f\"{'CUDA Runtime Version:':<30} {device_info['cuda_runtime_version']}\")\n",
        "            print(f\"{'Device Name:':<30} {device_info['name']}\")\n",
        "            print(f\"{'Compute Capability:':<30} {device_info['compute_capability']}\")\n",
        "\n",
        "            print(\"\\nMemory:\")\n",
        "            print(f\"{'Total Memory:':<30} {device_info['total_memory_gb']:.2f} GB\")\n",
        "            print(f\"{'Free Memory:':<30} {device_info['free_memory_gb']:.2f} GB\")\n",
        "\n",
        "            print(\"\\nCompute Resources:\")\n",
        "            print(f\"{'Streaming Multiprocessors:':<30} {device_info['multiprocessors']}\")\n",
        "            print(f\"{'Max Threads per Block:':<30} {device_info['max_threads_per_block']}\")\n",
        "\n",
        "            print(\"\\nGrid Limitations:\")\n",
        "            print(f\"{'Max Grid Dimensions X:':<30} {device_info['max_grid_dimensions']['x']}\")\n",
        "            print(f\"{'Max Grid Dimensions Y:':<30} {device_info['max_grid_dimensions']['y']}\")\n",
        "            print(f\"{'Max Grid Dimensions Z:':<30} {device_info['max_grid_dimensions']['z']}\")\n",
        "\n",
        "            print(\"\\nAdditional Characteristics:\")\n",
        "            print(f\"{'Warp Size:':<30} {device_info['warp_size']}\")\n",
        "            print(f\"{'Clock Rate:':<30} {device_info['clock_rate_khz']/1e6:.2f} GHz\")\n",
        "            print(f\"{'Memory Clock Rate:':<30} {device_info['memory_clock_rate_khz']/1e6:.2f} GHz\")\n",
        "\n",
        "        return device_info if not verbose else None\n",
        "\n",
        "    except Exception as e:\n",
        "        print(f\"Error retrieving CUDA device information: {e}\")\n",
        "        return None"
      ]
    },
    {
      "cell_type": "code",
      "execution_count": 55,
      "id": "1fc752a6-a24f-45e5-bf65-405334955c25",
      "metadata": {
        "id": "1fc752a6-a24f-45e5-bf65-405334955c25"
      },
      "outputs": [],
      "source": [
        "@cuda.jit\n",
        "def row_sum_kernel(neighbourlist, output):\n",
        "    row = cuda.blockIdx.x\n",
        "    tid = cuda.threadIdx.x\n",
        "    n_cols = neighbourlist.shape[1]\n",
        "\n",
        "    # Allocate shared memory for each thread to load one value\n",
        "    sdata = cuda.shared.array(512, dtype=float32)  # Adjust size if needed\n",
        "\n",
        "    val = 0.0\n",
        "    if tid < n_cols:\n",
        "        val = neighbourlist[row, tid]\n",
        "\n",
        "    sdata[tid] = val\n",
        "    cuda.syncthreads()\n",
        "\n",
        "    s = cuda.blockDim.x // 2\n",
        "    while s > 0:\n",
        "        if tid < s and tid + s < n_cols:\n",
        "            sdata[tid] += sdata[tid + s]\n",
        "        cuda.syncthreads()\n",
        "        s //= 2\n",
        "\n",
        "    if tid == 0:\n",
        "        output[row] = sdata[0]\n",
        "\n",
        "@timeit\n",
        "def reduce_bond_forces_gpu(neighbourlist):\n",
        "    n_particles, n_family_members = neighbourlist.shape\n",
        "    threads_per_block = 512  # Match shared memory allocation\n",
        "    shared_mem = threads_per_block * 4  # float32: 4 bytes\n",
        "\n",
        "    d_neigh = cuda.to_device(neighbourlist.astype(np.float32))\n",
        "    d_out = cuda.device_array(n_particles, dtype=np.float32)\n",
        "\n",
        "    row_sum_kernel[n_particles, threads_per_block](d_neigh, d_out)\n",
        "    return d_out.copy_to_host()"
      ]
    },
    {
      "cell_type": "code",
      "execution_count": 56,
      "id": "cc9f08a1-cf9f-48a3-a62b-aa42eb14836e",
      "metadata": {
        "id": "cc9f08a1-cf9f-48a3-a62b-aa42eb14836e",
        "outputId": "7611624f-1a05-4005-98d3-145407f9229e",
        "colab": {
          "base_uri": "https://localhost:8080/"
        }
      },
      "outputs": [
        {
          "output_type": "stream",
          "name": "stdout",
          "text": [
            "CUDA Device Information:\n",
            "----------------------------------------\n",
            "CUDA Runtime Version:          12.5\n",
            "Device Name:                   b'Tesla T4'\n",
            "Compute Capability:            (7, 5)\n",
            "\n",
            "Memory:\n",
            "Total Memory:                  15.83 GB\n",
            "Free Memory:                   14.17 GB\n",
            "\n",
            "Compute Resources:\n",
            "Streaming Multiprocessors:     40\n",
            "Max Threads per Block:         1024\n",
            "\n",
            "Grid Limitations:\n",
            "Max Grid Dimensions X:         2147483647\n",
            "Max Grid Dimensions Y:         65535\n",
            "Max Grid Dimensions Z:         65535\n",
            "\n",
            "Additional Characteristics:\n",
            "Warp Size:                     32\n",
            "Clock Rate:                    1.59 GHz\n",
            "Memory Clock Rate:             5.00 GHz\n"
          ]
        }
      ],
      "source": [
        "get_cuda_device_info()"
      ]
    },
    {
      "cell_type": "markdown",
      "id": "e40f48ce-0ce4-409f-85b9-d317491e4307",
      "metadata": {
        "id": "e40f48ce-0ce4-409f-85b9-d317491e4307"
      },
      "source": [
        "See [this post](https://github.com/googlecolab/colabtools/issues/5081) to understand compatability issues with Google Colab and Numba CUDA"
      ]
    },
    {
      "cell_type": "code",
      "execution_count": 57,
      "id": "c11e8f1e-1199-43a6-b5b9-11f1f6434e8e",
      "metadata": {
        "id": "c11e8f1e-1199-43a6-b5b9-11f1f6434e8e"
      },
      "outputs": [],
      "source": [
        "!uv pip install -q --system numba-cuda==0.4.0"
      ]
    },
    {
      "cell_type": "code",
      "execution_count": 58,
      "id": "83ebfc1b-b890-4554-b8ee-8247e1be3dca",
      "metadata": {
        "id": "83ebfc1b-b890-4554-b8ee-8247e1be3dca"
      },
      "outputs": [],
      "source": [
        "from numba import config\n",
        "config.CUDA_ENABLE_PYNVJITLINK = 1"
      ]
    },
    {
      "cell_type": "code",
      "execution_count": 60,
      "id": "0ec3189a-d455-4489-baaf-ea388669f8db",
      "metadata": {
        "id": "0ec3189a-d455-4489-baaf-ea388669f8db",
        "outputId": "2698f346-5c83-4866-d58d-d0795e960fb4",
        "colab": {
          "base_uri": "https://localhost:8080/"
        }
      },
      "outputs": [
        {
          "output_type": "stream",
          "name": "stdout",
          "text": [
            "Function 'reduce_bond_forces_gpu' executed in 1.0020 seconds\n"
          ]
        }
      ],
      "source": [
        "f_gpu = reduce_bond_forces_gpu(neighbourlist)\n",
        "assert np.allclose(f_a, f_gpu), \"Results are not equal\""
      ]
    }
  ],
  "metadata": {
    "kernelspec": {
      "display_name": "Python 3",
      "name": "python3"
    },
    "language_info": {
      "codemirror_mode": {
        "name": "ipython",
        "version": 3
      },
      "file_extension": ".py",
      "mimetype": "text/x-python",
      "name": "python",
      "nbconvert_exporter": "python",
      "pygments_lexer": "ipython3",
      "version": "3.11.6"
    },
    "colab": {
      "provenance": [],
      "gpuType": "T4"
    },
    "accelerator": "GPU"
  },
  "nbformat": 4,
  "nbformat_minor": 5
}