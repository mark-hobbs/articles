{
  "cells": [
    {
      "cell_type": "markdown",
      "id": "153ffb63-fa1f-4d9a-a8b0-cbc07a60512b",
      "metadata": {
        "id": "153ffb63-fa1f-4d9a-a8b0-cbc07a60512b"
      },
      "source": [
        "# Parallel reduction\n",
        "\n",
        "<a href=\"https://colab.research.google.com/github/mark-hobbs/articles/blob/main/cuda/parallel-reduction.ipynb\" target=\"_parent\"><img src=\"https://colab.research.google.com/assets/colab-badge.svg\" alt=\"Open In Colab\"/></a>\n",
        "\n",
        "See [this post](https://github.com/googlecolab/colabtools/issues/5081) to understand compatability issues with Google Colab and Numba CUDA\n",
        "\n",
        "Literature:\n",
        "- [Optimising parallel reduction in CUDA](https://developer.download.nvidia.com/assets/cuda/files/reduction.pdf)"
      ]
    },
    {
      "cell_type": "markdown",
      "id": "cd1b425f-3f99-4c2d-8c88-f60a784930e5",
      "metadata": {
        "id": "cd1b425f-3f99-4c2d-8c88-f60a784930e5"
      },
      "source": [
        "## Reduce bond forces to particle forces\n",
        "\n",
        "Bond forces can be stored as a bondlist or neighbour list\n",
        "\n",
        "- bondlist [n_bonds, 2]\n",
        "- neighbourlist [n_particles, n_family_members]\n",
        "\n",
        "Reduce:\n",
        "- particles.forces [n_particles, 1]"
      ]
    },
    {
      "cell_type": "code",
      "execution_count": 2,
      "id": "0edfd766-e9df-4e97-8632-19e5b1ad433a",
      "metadata": {
        "colab": {
          "base_uri": "https://localhost:8080/",
          "height": 580
        },
        "id": "0edfd766-e9df-4e97-8632-19e5b1ad433a",
        "outputId": "99d73ebf-b953-40a4-ce2b-7956963dbecd"
      },
      "outputs": [
        {
          "output_type": "stream",
          "name": "stdout",
          "text": [
            "fatal: destination path 'articles' already exists and is not an empty directory.\n"
          ]
        },
        {
          "output_type": "stream",
          "name": "stderr",
          "text": [
            "/usr/local/lib/python3.11/dist-packages/numba_cuda/numba/cuda/__init__.py:55: UserWarning: Explicitly enabling pynvjitlink is no longer necessary. NVIDIA bindings are enabled. cuda.core will be used in place of pynvjitlink.\n",
            "  warnings.warn(\n"
          ]
        },
        {
          "output_type": "error",
          "ename": "ModuleNotFoundError",
          "evalue": "No module named 'cuda.core'",
          "traceback": [
            "\u001b[0;31m---------------------------------------------------------------------------\u001b[0m",
            "\u001b[0;31mModuleNotFoundError\u001b[0m                       Traceback (most recent call last)",
            "\u001b[0;32m/tmp/ipython-input-507805097.py\u001b[0m in \u001b[0;36m<cell line: 0>\u001b[0;34m()\u001b[0m\n\u001b[1;32m     10\u001b[0m     \u001b[0;32mpass\u001b[0m  \u001b[0;31m# Already local, no need to clone\u001b[0m\u001b[0;34m\u001b[0m\u001b[0;34m\u001b[0m\u001b[0m\n\u001b[1;32m     11\u001b[0m \u001b[0;34m\u001b[0m\u001b[0m\n\u001b[0;32m---> 12\u001b[0;31m \u001b[0;32mimport\u001b[0m \u001b[0mutils\u001b[0m\u001b[0;34m\u001b[0m\u001b[0;34m\u001b[0m\u001b[0m\n\u001b[0m",
            "\u001b[0;32m/content/articles/cuda/articles/cuda/utils.py\u001b[0m in \u001b[0;36m<module>\u001b[0;34m\u001b[0m\n\u001b[1;32m      2\u001b[0m \u001b[0;32mfrom\u001b[0m \u001b[0mfunctools\u001b[0m \u001b[0;32mimport\u001b[0m \u001b[0mwraps\u001b[0m\u001b[0;34m\u001b[0m\u001b[0;34m\u001b[0m\u001b[0m\n\u001b[1;32m      3\u001b[0m \u001b[0;34m\u001b[0m\u001b[0m\n\u001b[0;32m----> 4\u001b[0;31m \u001b[0;32mfrom\u001b[0m \u001b[0mnumba\u001b[0m \u001b[0;32mimport\u001b[0m \u001b[0mcuda\u001b[0m\u001b[0;34m\u001b[0m\u001b[0;34m\u001b[0m\u001b[0m\n\u001b[0m\u001b[1;32m      5\u001b[0m \u001b[0;34m\u001b[0m\u001b[0m\n\u001b[1;32m      6\u001b[0m \u001b[0;34m\u001b[0m\u001b[0m\n",
            "\u001b[0;32m/usr/local/lib/python3.11/dist-packages/numba_cuda/numba/cuda/__init__.py\u001b[0m in \u001b[0;36m<module>\u001b[0;34m\u001b[0m\n\u001b[1;32m     69\u001b[0m     \u001b[0;32mfrom\u001b[0m \u001b[0;34m.\u001b[0m\u001b[0msimulator_init\u001b[0m \u001b[0;32mimport\u001b[0m \u001b[0;34m*\u001b[0m\u001b[0;34m\u001b[0m\u001b[0;34m\u001b[0m\u001b[0m\n\u001b[1;32m     70\u001b[0m \u001b[0;32melse\u001b[0m\u001b[0;34m:\u001b[0m\u001b[0;34m\u001b[0m\u001b[0;34m\u001b[0m\u001b[0m\n\u001b[0;32m---> 71\u001b[0;31m     \u001b[0;32mfrom\u001b[0m \u001b[0;34m.\u001b[0m\u001b[0mdevice_init\u001b[0m \u001b[0;32mimport\u001b[0m \u001b[0;34m*\u001b[0m\u001b[0;34m\u001b[0m\u001b[0;34m\u001b[0m\u001b[0m\n\u001b[0m\u001b[1;32m     72\u001b[0m     \u001b[0;32mfrom\u001b[0m \u001b[0;34m.\u001b[0m\u001b[0mdevice_init\u001b[0m \u001b[0;32mimport\u001b[0m \u001b[0m_auto_device\u001b[0m\u001b[0;34m\u001b[0m\u001b[0;34m\u001b[0m\u001b[0m\n\u001b[1;32m     73\u001b[0m \u001b[0;34m\u001b[0m\u001b[0m\n",
            "\u001b[0;32m/usr/local/lib/python3.11/dist-packages/numba_cuda/numba/cuda/device_init.py\u001b[0m in \u001b[0;36m<module>\u001b[0;34m\u001b[0m\n\u001b[1;32m      1\u001b[0m \u001b[0;31m# Re export\u001b[0m\u001b[0;34m\u001b[0m\u001b[0;34m\u001b[0m\u001b[0m\n\u001b[1;32m      2\u001b[0m \u001b[0;32mimport\u001b[0m \u001b[0msys\u001b[0m\u001b[0;34m\u001b[0m\u001b[0;34m\u001b[0m\u001b[0m\n\u001b[0;32m----> 3\u001b[0;31m \u001b[0;32mfrom\u001b[0m \u001b[0mnumba\u001b[0m\u001b[0;34m.\u001b[0m\u001b[0mcuda\u001b[0m \u001b[0;32mimport\u001b[0m \u001b[0mcg\u001b[0m\u001b[0;34m\u001b[0m\u001b[0;34m\u001b[0m\u001b[0m\n\u001b[0m\u001b[1;32m      4\u001b[0m from .stubs import (\n\u001b[1;32m      5\u001b[0m     \u001b[0mthreadIdx\u001b[0m\u001b[0;34m,\u001b[0m\u001b[0;34m\u001b[0m\u001b[0;34m\u001b[0m\u001b[0m\n",
            "\u001b[0;32m/usr/local/lib/python3.11/dist-packages/numba_cuda/numba/cuda/cg.py\u001b[0m in \u001b[0;36m<module>\u001b[0;34m\u001b[0m\n\u001b[1;32m      2\u001b[0m \u001b[0;32mfrom\u001b[0m \u001b[0mnumba\u001b[0m\u001b[0;34m.\u001b[0m\u001b[0mcore\u001b[0m\u001b[0;34m.\u001b[0m\u001b[0mextending\u001b[0m \u001b[0;32mimport\u001b[0m \u001b[0moverload\u001b[0m\u001b[0;34m,\u001b[0m \u001b[0moverload_method\u001b[0m\u001b[0;34m\u001b[0m\u001b[0;34m\u001b[0m\u001b[0m\n\u001b[1;32m      3\u001b[0m \u001b[0;32mfrom\u001b[0m \u001b[0mnumba\u001b[0m\u001b[0;34m.\u001b[0m\u001b[0mcore\u001b[0m\u001b[0;34m.\u001b[0m\u001b[0mtyping\u001b[0m \u001b[0;32mimport\u001b[0m \u001b[0msignature\u001b[0m\u001b[0;34m\u001b[0m\u001b[0;34m\u001b[0m\u001b[0m\n\u001b[0;32m----> 4\u001b[0;31m \u001b[0;32mfrom\u001b[0m \u001b[0mnumba\u001b[0m\u001b[0;34m.\u001b[0m\u001b[0mcuda\u001b[0m \u001b[0;32mimport\u001b[0m \u001b[0mnvvmutils\u001b[0m\u001b[0;34m\u001b[0m\u001b[0;34m\u001b[0m\u001b[0m\n\u001b[0m\u001b[1;32m      5\u001b[0m \u001b[0;32mfrom\u001b[0m \u001b[0mnumba\u001b[0m\u001b[0;34m.\u001b[0m\u001b[0mcuda\u001b[0m\u001b[0;34m.\u001b[0m\u001b[0mextending\u001b[0m \u001b[0;32mimport\u001b[0m \u001b[0mintrinsic\u001b[0m\u001b[0;34m\u001b[0m\u001b[0;34m\u001b[0m\u001b[0m\n\u001b[1;32m      6\u001b[0m \u001b[0;32mfrom\u001b[0m \u001b[0mnumba\u001b[0m\u001b[0;34m.\u001b[0m\u001b[0mcuda\u001b[0m\u001b[0;34m.\u001b[0m\u001b[0mtypes\u001b[0m \u001b[0;32mimport\u001b[0m \u001b[0mgrid_group\u001b[0m\u001b[0;34m,\u001b[0m \u001b[0mGridGroup\u001b[0m \u001b[0;32mas\u001b[0m \u001b[0mGridGroupClass\u001b[0m\u001b[0;34m\u001b[0m\u001b[0;34m\u001b[0m\u001b[0m\n",
            "\u001b[0;32m/usr/local/lib/python3.11/dist-packages/numba_cuda/numba/cuda/nvvmutils.py\u001b[0m in \u001b[0;36m<module>\u001b[0;34m\u001b[0m\n\u001b[1;32m      2\u001b[0m \u001b[0;32mfrom\u001b[0m \u001b[0mllvmlite\u001b[0m \u001b[0;32mimport\u001b[0m \u001b[0mir\u001b[0m\u001b[0;34m\u001b[0m\u001b[0;34m\u001b[0m\u001b[0m\n\u001b[1;32m      3\u001b[0m \u001b[0;32mfrom\u001b[0m \u001b[0mnumba\u001b[0m\u001b[0;34m.\u001b[0m\u001b[0mcore\u001b[0m \u001b[0;32mimport\u001b[0m \u001b[0mcgutils\u001b[0m\u001b[0;34m,\u001b[0m \u001b[0mtargetconfig\u001b[0m\u001b[0;34m\u001b[0m\u001b[0;34m\u001b[0m\u001b[0m\n\u001b[0;32m----> 4\u001b[0;31m \u001b[0;32mfrom\u001b[0m \u001b[0;34m.\u001b[0m\u001b[0mcudadrv\u001b[0m \u001b[0;32mimport\u001b[0m \u001b[0mnvvm\u001b[0m\u001b[0;34m\u001b[0m\u001b[0;34m\u001b[0m\u001b[0m\n\u001b[0m\u001b[1;32m      5\u001b[0m \u001b[0;34m\u001b[0m\u001b[0m\n\u001b[1;32m      6\u001b[0m \u001b[0;34m\u001b[0m\u001b[0m\n",
            "\u001b[0;32m/usr/local/lib/python3.11/dist-packages/numba_cuda/numba/cuda/cudadrv/nvvm.py\u001b[0m in \u001b[0;36m<module>\u001b[0;34m\u001b[0m\n\u001b[1;32m     14\u001b[0m \u001b[0;34m\u001b[0m\u001b[0m\n\u001b[1;32m     15\u001b[0m \u001b[0;32mfrom\u001b[0m \u001b[0;34m.\u001b[0m\u001b[0merror\u001b[0m \u001b[0;32mimport\u001b[0m \u001b[0mNvvmError\u001b[0m\u001b[0;34m,\u001b[0m \u001b[0mNvvmSupportError\u001b[0m\u001b[0;34m,\u001b[0m \u001b[0mNvvmWarning\u001b[0m\u001b[0;34m\u001b[0m\u001b[0;34m\u001b[0m\u001b[0m\n\u001b[0;32m---> 16\u001b[0;31m \u001b[0;32mfrom\u001b[0m \u001b[0;34m.\u001b[0m\u001b[0mlibs\u001b[0m \u001b[0;32mimport\u001b[0m \u001b[0mget_libdevice\u001b[0m\u001b[0;34m,\u001b[0m \u001b[0mopen_libdevice\u001b[0m\u001b[0;34m,\u001b[0m \u001b[0mopen_cudalib\u001b[0m\u001b[0;34m\u001b[0m\u001b[0;34m\u001b[0m\u001b[0m\n\u001b[0m\u001b[1;32m     17\u001b[0m \u001b[0;32mfrom\u001b[0m \u001b[0mnumba\u001b[0m\u001b[0;34m.\u001b[0m\u001b[0mcore\u001b[0m \u001b[0;32mimport\u001b[0m \u001b[0mcgutils\u001b[0m\u001b[0;34m\u001b[0m\u001b[0;34m\u001b[0m\u001b[0m\n\u001b[1;32m     18\u001b[0m \u001b[0;34m\u001b[0m\u001b[0m\n",
            "\u001b[0;32m/usr/local/lib/python3.11/dist-packages/numba_cuda/numba/cuda/cudadrv/libs.py\u001b[0m in \u001b[0;36m<module>\u001b[0;34m\u001b[0m\n\u001b[1;32m     17\u001b[0m \u001b[0;32mfrom\u001b[0m \u001b[0mnumba\u001b[0m\u001b[0;34m.\u001b[0m\u001b[0mmisc\u001b[0m\u001b[0;34m.\u001b[0m\u001b[0mfindlib\u001b[0m \u001b[0;32mimport\u001b[0m \u001b[0mfind_lib\u001b[0m\u001b[0;34m\u001b[0m\u001b[0;34m\u001b[0m\u001b[0m\n\u001b[1;32m     18\u001b[0m \u001b[0;32mfrom\u001b[0m \u001b[0mnumba\u001b[0m\u001b[0;34m.\u001b[0m\u001b[0mcuda\u001b[0m\u001b[0;34m.\u001b[0m\u001b[0mcuda_paths\u001b[0m \u001b[0;32mimport\u001b[0m \u001b[0mget_cuda_paths\u001b[0m\u001b[0;34m\u001b[0m\u001b[0;34m\u001b[0m\u001b[0m\n\u001b[0;32m---> 19\u001b[0;31m \u001b[0;32mfrom\u001b[0m \u001b[0mnumba\u001b[0m\u001b[0;34m.\u001b[0m\u001b[0mcuda\u001b[0m\u001b[0;34m.\u001b[0m\u001b[0mcudadrv\u001b[0m\u001b[0;34m.\u001b[0m\u001b[0mdriver\u001b[0m \u001b[0;32mimport\u001b[0m \u001b[0mlocate_driver_and_loader\u001b[0m\u001b[0;34m,\u001b[0m \u001b[0mload_driver\u001b[0m\u001b[0;34m\u001b[0m\u001b[0;34m\u001b[0m\u001b[0m\n\u001b[0m\u001b[1;32m     20\u001b[0m \u001b[0;32mfrom\u001b[0m \u001b[0mnumba\u001b[0m\u001b[0;34m.\u001b[0m\u001b[0mcuda\u001b[0m\u001b[0;34m.\u001b[0m\u001b[0mcudadrv\u001b[0m\u001b[0;34m.\u001b[0m\u001b[0merror\u001b[0m \u001b[0;32mimport\u001b[0m \u001b[0mCudaSupportError\u001b[0m\u001b[0;34m\u001b[0m\u001b[0;34m\u001b[0m\u001b[0m\n\u001b[1;32m     21\u001b[0m \u001b[0;32mfrom\u001b[0m \u001b[0mnumba\u001b[0m\u001b[0;34m.\u001b[0m\u001b[0mcore\u001b[0m \u001b[0;32mimport\u001b[0m \u001b[0mconfig\u001b[0m\u001b[0;34m\u001b[0m\u001b[0;34m\u001b[0m\u001b[0m\n",
            "\u001b[0;32m/usr/local/lib/python3.11/dist-packages/numba_cuda/numba/cuda/cudadrv/driver.py\u001b[0m in \u001b[0;36m<module>\u001b[0;34m\u001b[0m\n\u001b[1;32m     52\u001b[0m \u001b[0;32mfrom\u001b[0m \u001b[0;34m.\u001b[0m\u001b[0mlinkable_code\u001b[0m \u001b[0;32mimport\u001b[0m \u001b[0mLinkableCode\u001b[0m\u001b[0;34m,\u001b[0m \u001b[0mLTOIR\u001b[0m\u001b[0;34m,\u001b[0m \u001b[0mFatbin\u001b[0m\u001b[0;34m,\u001b[0m \u001b[0mObject\u001b[0m\u001b[0;34m\u001b[0m\u001b[0;34m\u001b[0m\u001b[0m\n\u001b[1;32m     53\u001b[0m \u001b[0;32mfrom\u001b[0m \u001b[0mnumba\u001b[0m\u001b[0;34m.\u001b[0m\u001b[0mcuda\u001b[0m\u001b[0;34m.\u001b[0m\u001b[0mutils\u001b[0m \u001b[0;32mimport\u001b[0m \u001b[0mcached_file_read\u001b[0m\u001b[0;34m\u001b[0m\u001b[0;34m\u001b[0m\u001b[0m\n\u001b[0;32m---> 54\u001b[0;31m \u001b[0;32mfrom\u001b[0m \u001b[0mnumba\u001b[0m\u001b[0;34m.\u001b[0m\u001b[0mcuda\u001b[0m\u001b[0;34m.\u001b[0m\u001b[0mcudadrv\u001b[0m \u001b[0;32mimport\u001b[0m \u001b[0menums\u001b[0m\u001b[0;34m,\u001b[0m \u001b[0mdrvapi\u001b[0m\u001b[0;34m,\u001b[0m \u001b[0mnvrtc\u001b[0m\u001b[0;34m\u001b[0m\u001b[0;34m\u001b[0m\u001b[0m\n\u001b[0m\u001b[1;32m     55\u001b[0m \u001b[0;34m\u001b[0m\u001b[0m\n\u001b[1;32m     56\u001b[0m \u001b[0;32mtry\u001b[0m\u001b[0;34m:\u001b[0m\u001b[0;34m\u001b[0m\u001b[0;34m\u001b[0m\u001b[0m\n",
            "\u001b[0;32m/usr/local/lib/python3.11/dist-packages/numba_cuda/numba/cuda/cudadrv/nvrtc.py\u001b[0m in \u001b[0;36m<module>\u001b[0;34m\u001b[0m\n\u001b[1;32m     30\u001b[0m \u001b[0;34m\u001b[0m\u001b[0m\n\u001b[1;32m     31\u001b[0m \u001b[0;32mif\u001b[0m \u001b[0mconfig\u001b[0m\u001b[0;34m.\u001b[0m\u001b[0mCUDA_USE_NVIDIA_BINDING\u001b[0m\u001b[0;34m:\u001b[0m\u001b[0;34m\u001b[0m\u001b[0;34m\u001b[0m\u001b[0m\n\u001b[0;32m---> 32\u001b[0;31m     \u001b[0;32mfrom\u001b[0m \u001b[0mcuda\u001b[0m\u001b[0;34m.\u001b[0m\u001b[0mcore\u001b[0m\u001b[0;34m.\u001b[0m\u001b[0mexperimental\u001b[0m \u001b[0;32mimport\u001b[0m \u001b[0mProgram\u001b[0m\u001b[0;34m,\u001b[0m \u001b[0mProgramOptions\u001b[0m\u001b[0;34m\u001b[0m\u001b[0;34m\u001b[0m\u001b[0m\n\u001b[0m\u001b[1;32m     33\u001b[0m \u001b[0;34m\u001b[0m\u001b[0m\n\u001b[1;32m     34\u001b[0m \u001b[0;34m\u001b[0m\u001b[0m\n",
            "\u001b[0;31mModuleNotFoundError\u001b[0m: No module named 'cuda.core'",
            "",
            "\u001b[0;31m---------------------------------------------------------------------------\u001b[0;32m\nNOTE: If your import is failing due to a missing package, you can\nmanually install dependencies using either !pip or !apt.\n\nTo view examples of installing some common dependencies, click the\n\"Open Examples\" button below.\n\u001b[0;31m---------------------------------------------------------------------------\u001b[0m\n"
          ],
          "errorDetails": {
            "actions": [
              {
                "action": "open_url",
                "actionText": "Open Examples",
                "url": "/notebooks/snippets/importing_libraries.ipynb"
              }
            ]
          }
        }
      ],
      "source": [
        "import numpy as np\n",
        "from numba import njit, prange\n",
        "\n",
        "try:\n",
        "    import google.colab\n",
        "    !git clone https://github.com/mark-hobbs/articles.git\n",
        "    import os\n",
        "    os.chdir('articles/cuda')  # Navigate to the cuda subdirectory\n",
        "except ImportError:\n",
        "    pass  # Already local, no need to clone\n",
        "\n",
        "import utils"
      ]
    },
    {
      "cell_type": "code",
      "execution_count": null,
      "id": "35899922-5ebf-4930-921d-4460e36c3286",
      "metadata": {
        "id": "35899922-5ebf-4930-921d-4460e36c3286"
      },
      "outputs": [],
      "source": [
        "np.random.seed(42)\n",
        "n_particles = 1500000\n",
        "n_family_members = 128\n",
        "\n",
        "bond_forces = np.random.rand(n_particles, n_family_members)"
      ]
    },
    {
      "cell_type": "markdown",
      "id": "0b4138f7-44d0-4a81-9d4a-1add7822b4f6",
      "metadata": {
        "id": "0b4138f7-44d0-4a81-9d4a-1add7822b4f6"
      },
      "source": [
        "### Numpy and Numba"
      ]
    },
    {
      "cell_type": "code",
      "execution_count": null,
      "id": "782a0d56-cfd3-4d51-98f1-5566c943cdb8",
      "metadata": {
        "id": "782a0d56-cfd3-4d51-98f1-5566c943cdb8"
      },
      "outputs": [],
      "source": [
        "@utils.profile(runs=10)\n",
        "def reduce_bond_forces_a(bond_forces):\n",
        "    n_particles = bond_forces.shape[0]\n",
        "    f = np.zeros((n_particles))\n",
        "    for i in range(n_particles):\n",
        "        f[i] = np.sum(bond_forces[i, :])\n",
        "    return f"
      ]
    },
    {
      "cell_type": "code",
      "execution_count": null,
      "id": "b6d2f151-f9c4-4afb-9c9c-678c3e136ad0",
      "metadata": {
        "id": "b6d2f151-f9c4-4afb-9c9c-678c3e136ad0"
      },
      "outputs": [],
      "source": [
        "@utils.profile(runs=10)\n",
        "def reduce_bond_forces_b(bond_forces):\n",
        "    return np.sum(bond_forces, axis=1)"
      ]
    },
    {
      "cell_type": "code",
      "execution_count": null,
      "id": "25f1cec9-a860-44a3-99a2-c8a74d74b6d6",
      "metadata": {
        "id": "25f1cec9-a860-44a3-99a2-c8a74d74b6d6"
      },
      "outputs": [],
      "source": [
        "@utils.profile(runs=10)\n",
        "@njit(parallel=True, fastmath=True)\n",
        "def reduce_bond_forces_c(bond_forces):\n",
        "    n_particles = bond_forces.shape[0]\n",
        "    f = np.zeros((n_particles))\n",
        "    for i in prange(n_particles):\n",
        "        f[i] = np.sum(bond_forces[i, :])\n",
        "    return f"
      ]
    },
    {
      "cell_type": "code",
      "execution_count": null,
      "id": "131c4a64-9cd1-426d-811d-791b9f78f8f0",
      "metadata": {
        "id": "131c4a64-9cd1-426d-811d-791b9f78f8f0"
      },
      "outputs": [],
      "source": [
        "f_a = reduce_bond_forces_a(bond_forces)\n",
        "f_b = reduce_bond_forces_b(bond_forces)\n",
        "f_c = reduce_bond_forces_c(bond_forces)\n",
        "assert np.allclose(f_a, f_b) and np.allclose(f_b, f_c), \"Results are not equal\""
      ]
    },
    {
      "cell_type": "markdown",
      "id": "9fd28085-164b-40d9-b9a2-07f606cc70f3",
      "metadata": {
        "id": "9fd28085-164b-40d9-b9a2-07f606cc70f3"
      },
      "source": [
        "### Numba CUDA"
      ]
    },
    {
      "cell_type": "code",
      "execution_count": null,
      "id": "d56ea9fb-4d75-4cfa-9d73-7aa4613452de",
      "metadata": {
        "id": "d56ea9fb-4d75-4cfa-9d73-7aa4613452de"
      },
      "outputs": [],
      "source": [
        "from numba import cuda, float32"
      ]
    },
    {
      "cell_type": "code",
      "execution_count": null,
      "id": "1fc752a6-a24f-45e5-bf65-405334955c25",
      "metadata": {
        "id": "1fc752a6-a24f-45e5-bf65-405334955c25"
      },
      "outputs": [],
      "source": [
        "THREADS_PER_BLOCK = 256\n",
        "\n",
        "@cuda.jit\n",
        "def reduce_bond_forces_kernel(bond_forces, particle_forces):\n",
        "    \"\"\"\n",
        "    Reduce bond forces to particle forces\n",
        "\n",
        "    Employ sequential addressing\n",
        "    \"\"\"\n",
        "\n",
        "    shared = cuda.shared.array(THREADS_PER_BLOCK, dtype=bond_forces.dtype)\n",
        "\n",
        "    particle = cuda.blockIdx.x\n",
        "    tid = cuda.threadIdx.x\n",
        "    n_family_members = bond_forces.shape[1]\n",
        "\n",
        "    # Initialise shared memory\n",
        "    val = 0.0\n",
        "    if tid < n_family_members:\n",
        "        val = bond_forces[particle, tid]\n",
        "    shared[tid] = val\n",
        "\n",
        "    cuda.syncthreads()\n",
        "\n",
        "    stride = THREADS_PER_BLOCK // 2\n",
        "    while stride > 0:\n",
        "        if tid < stride:\n",
        "            shared[tid] += shared[tid + stride]\n",
        "        cuda.syncthreads()\n",
        "        stride //= 2\n",
        "\n",
        "    if tid == 0:\n",
        "        particle_forces[particle] = shared[0]\n",
        "\n",
        "@utils.profile(runs=10)\n",
        "def reduce_bond_forces_gpu(bond_forces):\n",
        "    n_particles, n_family_members = bond_forces.shape\n",
        "\n",
        "    bond_forces = cuda.to_device(bond_forces.astype(np.float32))\n",
        "    f = cuda.device_array(n_particles, dtype=np.float32)\n",
        "\n",
        "    reduce_bond_forces_kernel[n_particles, THREADS_PER_BLOCK](bond_forces, f)\n",
        "    return f.copy_to_host()"
      ]
    },
    {
      "cell_type": "code",
      "execution_count": null,
      "id": "cc9f08a1-cf9f-48a3-a62b-aa42eb14836e",
      "metadata": {
        "id": "cc9f08a1-cf9f-48a3-a62b-aa42eb14836e"
      },
      "outputs": [],
      "source": [
        "utils.get_cuda_device_info()"
      ]
    },
    {
      "cell_type": "code",
      "execution_count": null,
      "id": "c11e8f1e-1199-43a6-b5b9-11f1f6434e8e",
      "metadata": {
        "id": "c11e8f1e-1199-43a6-b5b9-11f1f6434e8e"
      },
      "outputs": [],
      "source": [
        "!uv pip install -q --system numba-cuda==0.17.0"
      ]
    },
    {
      "cell_type": "code",
      "execution_count": null,
      "id": "83ebfc1b-b890-4554-b8ee-8247e1be3dca",
      "metadata": {
        "id": "83ebfc1b-b890-4554-b8ee-8247e1be3dca"
      },
      "outputs": [],
      "source": [
        "from numba import config\n",
        "config.CUDA_ENABLE_PYNVJITLINK = 1"
      ]
    },
    {
      "cell_type": "code",
      "execution_count": null,
      "id": "0ec3189a-d455-4489-baaf-ea388669f8db",
      "metadata": {
        "id": "0ec3189a-d455-4489-baaf-ea388669f8db"
      },
      "outputs": [],
      "source": [
        "f_gpu = reduce_bond_forces_gpu(bond_forces)\n",
        "assert np.allclose(f_a, f_gpu), \"Results are not equal\""
      ]
    },
    {
      "cell_type": "code",
      "execution_count": null,
      "id": "w0xZX45xzS6L",
      "metadata": {
        "id": "w0xZX45xzS6L"
      },
      "outputs": [],
      "source": [
        "import time\n",
        "\n",
        "def benchmark_kernel(bond_forces, num_runs=100):\n",
        "    n_particles, n_family_members = bond_forces.shape\n",
        "\n",
        "    bond_forces = cuda.to_device(bond_forces.astype(np.float32))\n",
        "    f = cuda.device_array(n_particles, dtype=np.float32)\n",
        "\n",
        "    # Warm up the kernel\n",
        "    for _ in range(5):\n",
        "        reduce_bond_forces_kernel[n_particles, THREADS_PER_BLOCK](bond_forces, f)\n",
        "\n",
        "    cuda.synchronize()\n",
        "\n",
        "    start = time.perf_counter()\n",
        "\n",
        "    for _ in range(num_runs):\n",
        "        reduce_bond_forces_kernel[n_particles, THREADS_PER_BLOCK](bond_forces, f)\n",
        "\n",
        "    cuda.synchronize()\n",
        "\n",
        "    end = time.perf_counter()\n",
        "\n",
        "    avg = (end - start) / num_runs\n",
        "    return avg, f.copy_to_host()"
      ]
    },
    {
      "cell_type": "code",
      "execution_count": null,
      "id": "2uyMwMy6zYNR",
      "metadata": {
        "id": "2uyMwMy6zYNR"
      },
      "outputs": [],
      "source": [
        "cuda_event_time, result = benchmark_kernel(bond_forces, num_runs=100)\n",
        "print(f\"Kernel executed in {cuda_event_time:.4f} seconds\")\n",
        "assert np.allclose(f_a, result), \"Results are not equal\""
      ]
    },
    {
      "cell_type": "markdown",
      "id": "ab2ed940-69eb-4378-9784-20408ee98ffb",
      "metadata": {
        "id": "ab2ed940-69eb-4378-9784-20408ee98ffb"
      },
      "source": [
        "## First add during load"
      ]
    },
    {
      "cell_type": "code",
      "execution_count": null,
      "id": "3f0c042a-25fd-4f37-bfa9-261252ba0f1d",
      "metadata": {
        "id": "3f0c042a-25fd-4f37-bfa9-261252ba0f1d"
      },
      "outputs": [],
      "source": [
        "@cuda.jit\n",
        "def reduce_bond_forces_kernel(bond_forces, particle_forces):\n",
        "    \"\"\"\n",
        "    Reduce bond forces to particle forces\n",
        "\n",
        "    Employ sequential addressing with optimised first add during load\n",
        "    \"\"\"\n",
        "\n",
        "    shared = cuda.shared.array(THREADS_PER_BLOCK, dtype=bond_forces.dtype)\n",
        "\n",
        "    particle = cuda.blockIdx.x\n",
        "    tid = cuda.threadIdx.x\n",
        "    n_family_members = bond_forces.shape[1]\n",
        "\n",
        "    val = 0.0\n",
        "    if tid < n_family_members:\n",
        "        val += bond_forces[particle, tid]\n",
        "\n",
        "    if tid + THREADS_PER_BLOCK // 2 < n_family_members:\n",
        "        val += bond_forces[particle, tid + THREADS_PER_BLOCK // 2]\n",
        "\n",
        "    shared[tid] = val\n",
        "    cuda.syncthreads()\n",
        "\n",
        "    stride = THREADS_PER_BLOCK // 4  # Start with quarter instead of half\n",
        "    while stride > 0:\n",
        "        if tid < stride:\n",
        "            shared[tid] += shared[tid + stride]\n",
        "        cuda.syncthreads()\n",
        "        stride //= 2\n",
        "\n",
        "    if tid == 0:\n",
        "        particle_forces[particle] = shared[0]"
      ]
    },
    {
      "cell_type": "code",
      "execution_count": null,
      "id": "00a05934-8bf8-4d26-8fc3-73007f34b294",
      "metadata": {
        "id": "00a05934-8bf8-4d26-8fc3-73007f34b294"
      },
      "outputs": [],
      "source": [
        "cuda_event_time, result = benchmark_kernel(bond_forces, num_runs=100)\n",
        "print(f\"Kernel executed in {cuda_event_time:.4f} seconds\")\n",
        "assert np.allclose(f_a, result), \"Results are not equal\""
      ]
    },
    {
      "cell_type": "code",
      "source": [
        "print(f_a, \"\\n\", result)"
      ],
      "metadata": {
        "id": "fFBbYvkapCf0"
      },
      "id": "fFBbYvkapCf0",
      "execution_count": null,
      "outputs": []
    }
  ],
  "metadata": {
    "accelerator": "GPU",
    "colab": {
      "gpuType": "L4",
      "provenance": []
    },
    "kernelspec": {
      "display_name": "Python 3",
      "name": "python3"
    },
    "language_info": {
      "codemirror_mode": {
        "name": "ipython",
        "version": 3
      },
      "file_extension": ".py",
      "mimetype": "text/x-python",
      "name": "python",
      "nbconvert_exporter": "python",
      "pygments_lexer": "ipython3",
      "version": "3.11.6"
    }
  },
  "nbformat": 4,
  "nbformat_minor": 5
}