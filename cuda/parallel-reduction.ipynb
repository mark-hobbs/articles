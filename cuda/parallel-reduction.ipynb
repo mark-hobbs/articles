{
 "cells": [
  {
   "cell_type": "markdown",
   "id": "153ffb63-fa1f-4d9a-a8b0-cbc07a60512b",
   "metadata": {},
   "source": [
    "# Parallel reduction\n",
    "\n",
    "[Optimising parallel reduction in CUDA](https://developer.download.nvidia.com/assets/cuda/files/reduction.pdf)"
   ]
  },
  {
   "cell_type": "markdown",
   "id": "cd1b425f-3f99-4c2d-8c88-f60a784930e5",
   "metadata": {},
   "source": [
    "## Reduce bond forces to particle forces\n",
    "\n",
    "Bond forces can be stored as a bondlist or neighbour list\n",
    "\n",
    "- bondlist [n_bonds, 2]\n",
    "- neighbourlist [n_particles, n_family_members]\n",
    "\n",
    "Reduce:\n",
    "- particles.forces [n_particles, 1]"
   ]
  },
  {
   "cell_type": "code",
   "execution_count": 1,
   "id": "0edfd766-e9df-4e97-8632-19e5b1ad433a",
   "metadata": {},
   "outputs": [],
   "source": [
    "import numpy as np"
   ]
  },
  {
   "cell_type": "code",
   "execution_count": 21,
   "id": "9a0db2d6-e56e-4450-af91-1a3faf316ac6",
   "metadata": {},
   "outputs": [],
   "source": [
    "def timeit(func):\n",
    "    @wraps(func)\n",
    "    def wrapper(*args, **kwargs):\n",
    "        start = time.time()\n",
    "        result = func(*args, **kwargs)\n",
    "        end = time.time()\n",
    "        print(f\"Function '{func.__name__}' executed in {end - start:.4f} seconds\")\n",
    "        return result\n",
    "\n",
    "    return wrapper"
   ]
  },
  {
   "cell_type": "code",
   "execution_count": 2,
   "id": "35899922-5ebf-4930-921d-4460e36c3286",
   "metadata": {},
   "outputs": [],
   "source": [
    "np.random.seed(42)\n",
    "n_particles = 1000\n",
    "n_family_members = 200\n",
    "\n",
    "neighbourlist = np.random.rand(n_particles, n_family_members)"
   ]
  },
  {
   "cell_type": "code",
   "execution_count": 11,
   "id": "782a0d56-cfd3-4d51-98f1-5566c943cdb8",
   "metadata": {},
   "outputs": [],
   "source": [
    "def reduce_bond_forces(neighbourlist):\n",
    "    n_particles = neighbourlist.shape[0]\n",
    "    f = np.zeros((n_particles)) \n",
    "    for i in range(n_particles):\n",
    "        f[i] = np.sum(neighbourlist[i, :])\n",
    "    return f"
   ]
  },
  {
   "cell_type": "code",
   "execution_count": 19,
   "id": "b6d2f151-f9c4-4afb-9c9c-678c3e136ad0",
   "metadata": {},
   "outputs": [],
   "source": [
    "def reduce_bond_forces(neighbourlist):\n",
    "    return np.sum(neighbourlist, axis=1)"
   ]
  },
  {
   "cell_type": "code",
   "execution_count": 20,
   "id": "131c4a64-9cd1-426d-811d-791b9f78f8f0",
   "metadata": {},
   "outputs": [],
   "source": [
    "f = reduce_bond_forces(neighbourlist)"
   ]
  }
 ],
 "metadata": {
  "kernelspec": {
   "display_name": "Python 3 (ipykernel)",
   "language": "python",
   "name": "python3"
  },
  "language_info": {
   "codemirror_mode": {
    "name": "ipython",
    "version": 3
   },
   "file_extension": ".py",
   "mimetype": "text/x-python",
   "name": "python",
   "nbconvert_exporter": "python",
   "pygments_lexer": "ipython3",
   "version": "3.11.6"
  }
 },
 "nbformat": 4,
 "nbformat_minor": 5
}
