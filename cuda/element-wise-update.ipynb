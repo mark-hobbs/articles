{
 "cells": [
  {
   "cell_type": "markdown",
   "id": "07270f3a-5188-42d9-b1da-8be22d717960",
   "metadata": {},
   "source": [
    "# Element-wise update\n",
    "\n",
    "<a href=\"https://colab.research.google.com/github/mark-hobbs/articles/blob/main/cuda/element-wise-update.ipynb\" target=\"_parent\"><img src=\"https://colab.research.google.com/assets/colab-badge.svg\" alt=\"Open In Colab\"/></a>"
   ]
  },
  {
   "cell_type": "markdown",
   "id": "589c5d4a-60fd-482d-864d-df25d5e6c009",
   "metadata": {},
   "source": [
    "## Update particle positions"
   ]
  },
  {
   "cell_type": "code",
   "execution_count": 1,
   "id": "7ba759bd-6b06-4b4c-8225-8174933df027",
   "metadata": {},
   "outputs": [],
   "source": [
    "!uv pip install -q --system numba-cuda==0.15.0\n",
    "\n",
    "import numpy as np\n",
    "from numba import  njit, prange, config\n",
    "config.CUDA_ENABLE_PYNVJITLINK = 1\n",
    "\n",
    "try:\n",
    "    import google.colab\n",
    "    !git clone https://github.com/mark-hobbs/articles.git\n",
    "    import os\n",
    "    os.chdir('articles/cuda')  # Navigate to the cuda subdirectory\n",
    "except ImportError:\n",
    "    pass  # Already local, no need to clone\n",
    "\n",
    "import utils"
   ]
  },
  {
   "cell_type": "code",
   "execution_count": 2,
   "id": "49fd50c0-0ea7-45f3-8d8d-cbf1be70cf4f",
   "metadata": {},
   "outputs": [],
   "source": [
    "np.random.seed(42)\n",
    "\n",
    "n_particles = 1500000\n",
    "n_dimensions = 2\n",
    "\n",
    "f = np.random.randn(n_particles, n_dimensions)\n",
    "u = np.zeros((n_particles, n_dimensions))\n",
    "v = np.zeros((n_particles, n_dimensions))\n",
    "a = np.zeros((n_particles, n_dimensions))\n",
    "bc_flag = np.ones((n_particles, n_dimensions))\n",
    "bc_unit_vector = np.ones((n_particles, n_dimensions))\n",
    "bc_magnitude = 1\n",
    "density = 1.0\n",
    "damping = 1.0\n",
    "dt = 1.0"
   ]
  },
  {
   "cell_type": "code",
   "execution_count": 3,
   "id": "ec9f7f3c-c192-423e-8d76-eb672d3c84e4",
   "metadata": {},
   "outputs": [],
   "source": [
    "@utils.profile(runs=10)\n",
    "def euler_cromer_a(\n",
    "    f, u, v, a, density, bc_flag, bc_magnitude, bc_unit_vector, damping, dt\n",
    "):\n",
    "    n_nodes = np.shape(f)[0]\n",
    "    n_dimensions = np.shape(f)[1]\n",
    "\n",
    "    for node_i in range(n_nodes):\n",
    "        for dof in range(n_dimensions):\n",
    "            a[node_i, dof] = (f[node_i, dof] - damping * v[node_i, dof]) / density\n",
    "            v[node_i, dof] += (a[node_i, dof] * dt)\n",
    "            u[node_i, dof] += (v[node_i, dof] * dt)\n",
    "\n",
    "            if bc_flag[node_i, dof] != 0:\n",
    "                u[node_i, dof] = bc_magnitude * bc_unit_vector[node_i, dof]\n",
    "\n",
    "    return u, v"
   ]
  },
  {
   "cell_type": "code",
   "execution_count": 4,
   "id": "4978a17f-5c2c-4d93-9462-0cbaaa7a111d",
   "metadata": {},
   "outputs": [],
   "source": [
    "@utils.profile(runs=10)\n",
    "def euler_cromer_b(\n",
    "    f, u, v, a, density, bc_flag, bc_magnitude, bc_unit_vector, damping, dt\n",
    "):\n",
    "    a[:] = (f - damping * v) / density\n",
    "    v += a * dt\n",
    "    u += v * dt\n",
    "\n",
    "    mask = bc_flag != 0\n",
    "    u[mask] = bc_magnitude * bc_unit_vector[mask]\n",
    "\n",
    "    return u, v"
   ]
  },
  {
   "cell_type": "code",
   "execution_count": 5,
   "id": "b7c6770e-38a3-43f7-8735-4b1894f1f359",
   "metadata": {},
   "outputs": [],
   "source": [
    "@utils.profile(runs=10)\n",
    "@njit(parallel=True)\n",
    "def euler_cromer_c(\n",
    "    f, u, v, a, density, bc_flag, bc_magnitude, bc_unit_vector, damping, dt\n",
    "):\n",
    "    n_nodes = np.shape(f)[0]\n",
    "    n_dimensions = np.shape(f)[1]\n",
    "\n",
    "    for node_i in prange(n_nodes):\n",
    "        for dof in range(n_dimensions):\n",
    "            a[node_i, dof] = (f[node_i, dof] - damping * v[node_i, dof]) / density\n",
    "            v[node_i, dof] += (a[node_i, dof] * dt)\n",
    "            u[node_i, dof] += (v[node_i, dof] * dt)\n",
    "\n",
    "            if bc_flag[node_i, dof] != 0:\n",
    "                u[node_i, dof] = bc_magnitude * bc_unit_vector[node_i, dof]\n",
    "\n",
    "    return u, v"
   ]
  },
  {
   "cell_type": "code",
   "execution_count": 6,
   "id": "00c3cfba-80a7-4371-b2c6-8d66328821ce",
   "metadata": {},
   "outputs": [
    {
     "name": "stdout",
     "output_type": "stream",
     "text": [
      "Function 'euler_cromer_a' executed 10 time(s)\n",
      "Average execution time: 2.8272 seconds\n",
      "Min: 2.7299s, Max: 2.8974s\n",
      "\n",
      "Function 'euler_cromer_b' executed 10 time(s)\n",
      "Average execution time: 0.0159 seconds\n",
      "Min: 0.0155s, Max: 0.0174s\n",
      "\n",
      "Function 'euler_cromer_c' executed 10 time(s)\n",
      "Average execution time: 0.0301 seconds\n",
      "Min: 0.0014s, Max: 0.2879s\n",
      "\n"
     ]
    }
   ],
   "source": [
    "euler_cromer_a(f, u, v, a, density, bc_flag, bc_magnitude, bc_unit_vector, damping, dt);\n",
    "euler_cromer_b(f, u, v, a, density, bc_flag, bc_magnitude, bc_unit_vector, damping, dt);\n",
    "euler_cromer_c(f, u, v, a, density, bc_flag, bc_magnitude, bc_unit_vector, damping, dt);"
   ]
  },
  {
   "cell_type": "markdown",
   "id": "fa6c99a2-5e9f-44a4-9a52-886c7d42c0d1",
   "metadata": {},
   "source": [
    "## Numba CUDA"
   ]
  },
  {
   "cell_type": "code",
   "execution_count": 7,
   "id": "adc28f61-c40c-4ff9-9f54-1d715591312b",
   "metadata": {},
   "outputs": [],
   "source": [
    "from numba import cuda, float32"
   ]
  },
  {
   "cell_type": "code",
   "execution_count": 8,
   "id": "1090b04a-8e6c-4f6a-a787-5c597c4f33d8",
   "metadata": {},
   "outputs": [
    {
     "name": "stdout",
     "output_type": "stream",
     "text": [
      "Error retrieving CUDA device information: Error at driver init: \n",
      "\n",
      "CUDA driver library cannot be found.\n",
      "If you are sure that a CUDA driver is installed,\n",
      "try setting environment variable NUMBA_CUDA_DRIVER\n",
      "with the file path of the CUDA driver shared library.\n",
      ":\n"
     ]
    }
   ],
   "source": [
    "utils.get_cuda_device_info()"
   ]
  },
  {
   "cell_type": "code",
   "execution_count": 9,
   "id": "7203de85-8b6c-4ad8-a04c-0249fad803a6",
   "metadata": {},
   "outputs": [],
   "source": [
    "@utils.profile(runs=10)\n",
    "def euler_cromer_gpu(\n",
    "    f, u, v, a, density, bc_flag, bc_magnitude, bc_unit_vector, damping, dt\n",
    "):\n",
    "    \"\"\"\n",
    "    Update particle positions using an Euler-Cromer time integration scheme\n",
    "\n",
    "    This function is a wrapper for the CUDA kernel `euler_cromer_kernel`\n",
    "    \"\"\"\n",
    "    BLOCKS_PER_GRID = f.shape[0]\n",
    "    THREADS_PER_BLOCK = 256\n",
    "    euler_cromer_kernel[BLOCKS_PER_GRID, THREADS_PER_BLOCK](\n",
    "        f, u, v, a, density, bc_flag, bc_magnitude, bc_unit_vector, damping, dt\n",
    "    )\n",
    "\n",
    "\n",
    "@cuda.jit\n",
    "def euler_cromer_kernel(\n",
    "    f, u, v, a, density, bc_flag, bc_magnitude, bc_unit_vector, damping, dt\n",
    "):\n",
    "    \"\"\"\n",
    "    CUDA kernel for Euler-Cromer time integration scheme\n",
    "    \"\"\"\n",
    "    n_nodes = f.shape[0]\n",
    "    n_dimensions = f.shape[1]\n",
    "\n",
    "    idx = cuda.grid(1)\n",
    "    total = n_nodes * n_dimensions\n",
    "\n",
    "    if idx < total:\n",
    "        node_i = idx // n_dimensions\n",
    "        dof = idx % n_dimensions\n",
    "\n",
    "        a[node_i, dof] = (f[node_i, dof] - damping * v[node_i, dof]) / density\n",
    "        v[node_i, dof] += a[node_i, dof] * dt\n",
    "        u[node_i, dof] += v[node_i, dof] * dt\n",
    "\n",
    "        if bc_flag[node_i, dof] != 0:\n",
    "            u[node_i, dof] = bc_magnitude * bc_unit_vector[node_i, dof]"
   ]
  },
  {
   "cell_type": "code",
   "execution_count": 10,
   "id": "4e2ce59d-3dfc-4ac8-91b8-9082ca65ae94",
   "metadata": {},
   "outputs": [
    {
     "ename": "CudaSupportError",
     "evalue": "Error at driver init: \n\nCUDA driver library cannot be found.\nIf you are sure that a CUDA driver is installed,\ntry setting environment variable NUMBA_CUDA_DRIVER\nwith the file path of the CUDA driver shared library.\n:",
     "output_type": "error",
     "traceback": [
      "\u001b[31m---------------------------------------------------------------------------\u001b[39m",
      "\u001b[31mCudaSupportError\u001b[39m                          Traceback (most recent call last)",
      "\u001b[36mCell\u001b[39m\u001b[36m \u001b[39m\u001b[32mIn[10]\u001b[39m\u001b[32m, line 1\u001b[39m\n\u001b[32m----> \u001b[39m\u001b[32m1\u001b[39m \u001b[43meuler_cromer_gpu\u001b[49m\u001b[43m(\u001b[49m\u001b[43mf\u001b[49m\u001b[43m,\u001b[49m\u001b[43m \u001b[49m\u001b[43mu\u001b[49m\u001b[43m,\u001b[49m\u001b[43m \u001b[49m\u001b[43mv\u001b[49m\u001b[43m,\u001b[49m\u001b[43m \u001b[49m\u001b[43ma\u001b[49m\u001b[43m,\u001b[49m\u001b[43m \u001b[49m\u001b[43mdensity\u001b[49m\u001b[43m,\u001b[49m\u001b[43m \u001b[49m\u001b[43mbc_flag\u001b[49m\u001b[43m,\u001b[49m\u001b[43m \u001b[49m\u001b[43mbc_magnitude\u001b[49m\u001b[43m,\u001b[49m\u001b[43m \u001b[49m\u001b[43mbc_unit_vector\u001b[49m\u001b[43m,\u001b[49m\u001b[43m \u001b[49m\u001b[43mdamping\u001b[49m\u001b[43m,\u001b[49m\u001b[43m \u001b[49m\u001b[43mdt\u001b[49m\u001b[43m)\u001b[49m\n",
      "\u001b[36mFile \u001b[39m\u001b[32m~/Documents/02-repositories/articles/cuda/utils.py:16\u001b[39m, in \u001b[36mprofile.<locals>.decorator.<locals>.wrapper\u001b[39m\u001b[34m(*args, **kwargs)\u001b[39m\n\u001b[32m     14\u001b[39m \u001b[38;5;28;01mfor\u001b[39;00m i \u001b[38;5;129;01min\u001b[39;00m \u001b[38;5;28mrange\u001b[39m(runs):\n\u001b[32m     15\u001b[39m     start = time.time()\n\u001b[32m---> \u001b[39m\u001b[32m16\u001b[39m     result = \u001b[43mfunc\u001b[49m\u001b[43m(\u001b[49m\u001b[43m*\u001b[49m\u001b[43margs\u001b[49m\u001b[43m,\u001b[49m\u001b[43m \u001b[49m\u001b[43m*\u001b[49m\u001b[43m*\u001b[49m\u001b[43mkwargs\u001b[49m\u001b[43m)\u001b[49m\n\u001b[32m     17\u001b[39m     end = time.time()\n\u001b[32m     18\u001b[39m     times.append(end - start)\n",
      "\u001b[36mCell\u001b[39m\u001b[36m \u001b[39m\u001b[32mIn[9]\u001b[39m\u001b[32m, line 12\u001b[39m, in \u001b[36meuler_cromer_gpu\u001b[39m\u001b[34m(f, u, v, a, density, bc_flag, bc_magnitude, bc_unit_vector, damping, dt)\u001b[39m\n\u001b[32m     10\u001b[39m BLOCKS_PER_GRID = f.shape[\u001b[32m0\u001b[39m]\n\u001b[32m     11\u001b[39m THREADS_PER_BLOCK = \u001b[32m256\u001b[39m\n\u001b[32m---> \u001b[39m\u001b[32m12\u001b[39m \u001b[43meuler_cromer_kernel\u001b[49m\u001b[43m[\u001b[49m\u001b[43mBLOCKS_PER_GRID\u001b[49m\u001b[43m,\u001b[49m\u001b[43m \u001b[49m\u001b[43mTHREADS_PER_BLOCK\u001b[49m\u001b[43m]\u001b[49m\u001b[43m(\u001b[49m\n\u001b[32m     13\u001b[39m \u001b[43m    \u001b[49m\u001b[43mf\u001b[49m\u001b[43m,\u001b[49m\u001b[43m \u001b[49m\u001b[43mu\u001b[49m\u001b[43m,\u001b[49m\u001b[43m \u001b[49m\u001b[43mv\u001b[49m\u001b[43m,\u001b[49m\u001b[43m \u001b[49m\u001b[43ma\u001b[49m\u001b[43m,\u001b[49m\u001b[43m \u001b[49m\u001b[43mdensity\u001b[49m\u001b[43m,\u001b[49m\u001b[43m \u001b[49m\u001b[43mbc_flag\u001b[49m\u001b[43m,\u001b[49m\u001b[43m \u001b[49m\u001b[43mbc_magnitude\u001b[49m\u001b[43m,\u001b[49m\u001b[43m \u001b[49m\u001b[43mbc_unit_vector\u001b[49m\u001b[43m,\u001b[49m\u001b[43m \u001b[49m\u001b[43mdamping\u001b[49m\u001b[43m,\u001b[49m\u001b[43m \u001b[49m\u001b[43mdt\u001b[49m\n\u001b[32m     14\u001b[39m \u001b[43m\u001b[49m\u001b[43m)\u001b[49m\n",
      "\u001b[36mFile \u001b[39m\u001b[32m~/.local/share/virtualenvs/cuda-z6WtAaew/lib/python3.11/site-packages/numba/cuda/dispatcher.py:539\u001b[39m, in \u001b[36m_LaunchConfiguration.__call__\u001b[39m\u001b[34m(self, *args)\u001b[39m\n\u001b[32m    538\u001b[39m \u001b[38;5;28;01mdef\u001b[39;00m\u001b[38;5;250m \u001b[39m\u001b[34m__call__\u001b[39m(\u001b[38;5;28mself\u001b[39m, *args):\n\u001b[32m--> \u001b[39m\u001b[32m539\u001b[39m     \u001b[38;5;28;01mreturn\u001b[39;00m \u001b[38;5;28;43mself\u001b[39;49m\u001b[43m.\u001b[49m\u001b[43mdispatcher\u001b[49m\u001b[43m.\u001b[49m\u001b[43mcall\u001b[49m\u001b[43m(\u001b[49m\u001b[43margs\u001b[49m\u001b[43m,\u001b[49m\u001b[43m \u001b[49m\u001b[38;5;28;43mself\u001b[39;49m\u001b[43m.\u001b[49m\u001b[43mgriddim\u001b[49m\u001b[43m,\u001b[49m\u001b[43m \u001b[49m\u001b[38;5;28;43mself\u001b[39;49m\u001b[43m.\u001b[49m\u001b[43mblockdim\u001b[49m\u001b[43m,\u001b[49m\n\u001b[32m    540\u001b[39m \u001b[43m                                \u001b[49m\u001b[38;5;28;43mself\u001b[39;49m\u001b[43m.\u001b[49m\u001b[43mstream\u001b[49m\u001b[43m,\u001b[49m\u001b[43m \u001b[49m\u001b[38;5;28;43mself\u001b[39;49m\u001b[43m.\u001b[49m\u001b[43msharedmem\u001b[49m\u001b[43m)\u001b[49m\n",
      "\u001b[36mFile \u001b[39m\u001b[32m~/.local/share/virtualenvs/cuda-z6WtAaew/lib/python3.11/site-packages/numba/cuda/dispatcher.py:681\u001b[39m, in \u001b[36mCUDADispatcher.call\u001b[39m\u001b[34m(self, args, griddim, blockdim, stream, sharedmem)\u001b[39m\n\u001b[32m    679\u001b[39m     kernel = \u001b[38;5;28mnext\u001b[39m(\u001b[38;5;28miter\u001b[39m(\u001b[38;5;28mself\u001b[39m.overloads.values()))\n\u001b[32m    680\u001b[39m \u001b[38;5;28;01melse\u001b[39;00m:\n\u001b[32m--> \u001b[39m\u001b[32m681\u001b[39m     kernel = \u001b[43m_dispatcher\u001b[49m\u001b[43m.\u001b[49m\u001b[43mDispatcher\u001b[49m\u001b[43m.\u001b[49m\u001b[43m_cuda_call\u001b[49m\u001b[43m(\u001b[49m\u001b[38;5;28;43mself\u001b[39;49m\u001b[43m,\u001b[49m\u001b[43m \u001b[49m\u001b[43m*\u001b[49m\u001b[43margs\u001b[49m\u001b[43m)\u001b[49m\n\u001b[32m    683\u001b[39m kernel.launch(args, griddim, blockdim, stream, sharedmem)\n",
      "\u001b[36mFile \u001b[39m\u001b[32m~/.local/share/virtualenvs/cuda-z6WtAaew/lib/python3.11/site-packages/numba/cuda/dispatcher.py:689\u001b[39m, in \u001b[36mCUDADispatcher._compile_for_args\u001b[39m\u001b[34m(self, *args, **kws)\u001b[39m\n\u001b[32m    687\u001b[39m \u001b[38;5;28;01massert\u001b[39;00m \u001b[38;5;129;01mnot\u001b[39;00m kws\n\u001b[32m    688\u001b[39m argtypes = [\u001b[38;5;28mself\u001b[39m.typeof_pyval(a) \u001b[38;5;28;01mfor\u001b[39;00m a \u001b[38;5;129;01min\u001b[39;00m args]\n\u001b[32m--> \u001b[39m\u001b[32m689\u001b[39m \u001b[38;5;28;01mreturn\u001b[39;00m \u001b[38;5;28;43mself\u001b[39;49m\u001b[43m.\u001b[49m\u001b[43mcompile\u001b[49m\u001b[43m(\u001b[49m\u001b[38;5;28;43mtuple\u001b[39;49m\u001b[43m(\u001b[49m\u001b[43margtypes\u001b[49m\u001b[43m)\u001b[49m\u001b[43m)\u001b[49m\n",
      "\u001b[36mFile \u001b[39m\u001b[32m~/.local/share/virtualenvs/cuda-z6WtAaew/lib/python3.11/site-packages/numba/cuda/dispatcher.py:932\u001b[39m, in \u001b[36mCUDADispatcher.compile\u001b[39m\u001b[34m(self, sig)\u001b[39m\n\u001b[32m    929\u001b[39m \u001b[38;5;28;01mif\u001b[39;00m \u001b[38;5;129;01mnot\u001b[39;00m \u001b[38;5;28mself\u001b[39m._can_compile:\n\u001b[32m    930\u001b[39m     \u001b[38;5;28;01mraise\u001b[39;00m \u001b[38;5;167;01mRuntimeError\u001b[39;00m(\u001b[33m\"\u001b[39m\u001b[33mCompilation disabled\u001b[39m\u001b[33m\"\u001b[39m)\n\u001b[32m--> \u001b[39m\u001b[32m932\u001b[39m kernel = \u001b[43m_Kernel\u001b[49m\u001b[43m(\u001b[49m\u001b[38;5;28;43mself\u001b[39;49m\u001b[43m.\u001b[49m\u001b[43mpy_func\u001b[49m\u001b[43m,\u001b[49m\u001b[43m \u001b[49m\u001b[43margtypes\u001b[49m\u001b[43m,\u001b[49m\u001b[43m \u001b[49m\u001b[43m*\u001b[49m\u001b[43m*\u001b[49m\u001b[38;5;28;43mself\u001b[39;49m\u001b[43m.\u001b[49m\u001b[43mtargetoptions\u001b[49m\u001b[43m)\u001b[49m\n\u001b[32m    933\u001b[39m \u001b[38;5;66;03m# We call bind to force codegen, so that there is a cubin to cache\u001b[39;00m\n\u001b[32m    934\u001b[39m kernel.bind()\n",
      "\u001b[36mFile \u001b[39m\u001b[32m~/.local/share/virtualenvs/cuda-z6WtAaew/lib/python3.11/site-packages/numba/core/compiler_lock.py:35\u001b[39m, in \u001b[36m_CompilerLock.__call__.<locals>._acquire_compile_lock\u001b[39m\u001b[34m(*args, **kwargs)\u001b[39m\n\u001b[32m     32\u001b[39m \u001b[38;5;129m@functools\u001b[39m.wraps(func)\n\u001b[32m     33\u001b[39m \u001b[38;5;28;01mdef\u001b[39;00m\u001b[38;5;250m \u001b[39m\u001b[34m_acquire_compile_lock\u001b[39m(*args, **kwargs):\n\u001b[32m     34\u001b[39m     \u001b[38;5;28;01mwith\u001b[39;00m \u001b[38;5;28mself\u001b[39m:\n\u001b[32m---> \u001b[39m\u001b[32m35\u001b[39m         \u001b[38;5;28;01mreturn\u001b[39;00m \u001b[43mfunc\u001b[49m\u001b[43m(\u001b[49m\u001b[43m*\u001b[49m\u001b[43margs\u001b[49m\u001b[43m,\u001b[49m\u001b[43m \u001b[49m\u001b[43m*\u001b[49m\u001b[43m*\u001b[49m\u001b[43mkwargs\u001b[49m\u001b[43m)\u001b[49m\n",
      "\u001b[36mFile \u001b[39m\u001b[32m~/.local/share/virtualenvs/cuda-z6WtAaew/lib/python3.11/site-packages/numba/cuda/dispatcher.py:82\u001b[39m, in \u001b[36m_Kernel.__init__\u001b[39m\u001b[34m(self, py_func, argtypes, link, debug, lineinfo, inline, fastmath, extensions, max_registers, opt, device)\u001b[39m\n\u001b[32m     75\u001b[39m \u001b[38;5;28mself\u001b[39m.extensions = extensions \u001b[38;5;129;01mor\u001b[39;00m []\n\u001b[32m     77\u001b[39m nvvm_options = {\n\u001b[32m     78\u001b[39m     \u001b[33m'\u001b[39m\u001b[33mfastmath\u001b[39m\u001b[33m'\u001b[39m: fastmath,\n\u001b[32m     79\u001b[39m     \u001b[33m'\u001b[39m\u001b[33mopt\u001b[39m\u001b[33m'\u001b[39m: \u001b[32m3\u001b[39m \u001b[38;5;28;01mif\u001b[39;00m opt \u001b[38;5;28;01melse\u001b[39;00m \u001b[32m0\u001b[39m\n\u001b[32m     80\u001b[39m }\n\u001b[32m---> \u001b[39m\u001b[32m82\u001b[39m cc = \u001b[43mget_current_device\u001b[49m\u001b[43m(\u001b[49m\u001b[43m)\u001b[49m.compute_capability\n\u001b[32m     83\u001b[39m cres = compile_cuda(\u001b[38;5;28mself\u001b[39m.py_func, types.void, \u001b[38;5;28mself\u001b[39m.argtypes,\n\u001b[32m     84\u001b[39m                     debug=\u001b[38;5;28mself\u001b[39m.debug,\n\u001b[32m     85\u001b[39m                     lineinfo=lineinfo,\n\u001b[32m   (...)\u001b[39m\u001b[32m     88\u001b[39m                     nvvm_options=nvvm_options,\n\u001b[32m     89\u001b[39m                     cc=cc)\n\u001b[32m     90\u001b[39m tgt_ctx = cres.target_context\n",
      "\u001b[36mFile \u001b[39m\u001b[32m~/.local/share/virtualenvs/cuda-z6WtAaew/lib/python3.11/site-packages/numba/cuda/api.py:443\u001b[39m, in \u001b[36mget_current_device\u001b[39m\u001b[34m()\u001b[39m\n\u001b[32m    441\u001b[39m \u001b[38;5;28;01mdef\u001b[39;00m\u001b[38;5;250m \u001b[39m\u001b[34mget_current_device\u001b[39m():\n\u001b[32m    442\u001b[39m     \u001b[33m\"\u001b[39m\u001b[33mGet current device associated with the current thread\u001b[39m\u001b[33m\"\u001b[39m\n\u001b[32m--> \u001b[39m\u001b[32m443\u001b[39m     \u001b[38;5;28;01mreturn\u001b[39;00m \u001b[43mcurrent_context\u001b[49m\u001b[43m(\u001b[49m\u001b[43m)\u001b[49m.device\n",
      "\u001b[36mFile \u001b[39m\u001b[32m~/.local/share/virtualenvs/cuda-z6WtAaew/lib/python3.11/site-packages/numba/cuda/cudadrv/devices.py:220\u001b[39m, in \u001b[36mget_context\u001b[39m\u001b[34m(devnum)\u001b[39m\n\u001b[32m    216\u001b[39m \u001b[38;5;28;01mdef\u001b[39;00m\u001b[38;5;250m \u001b[39m\u001b[34mget_context\u001b[39m(devnum=\u001b[38;5;28;01mNone\u001b[39;00m):\n\u001b[32m    217\u001b[39m \u001b[38;5;250m    \u001b[39m\u001b[33;03m\"\"\"Get the current device or use a device by device number, and\u001b[39;00m\n\u001b[32m    218\u001b[39m \u001b[33;03m    return the CUDA context.\u001b[39;00m\n\u001b[32m    219\u001b[39m \u001b[33;03m    \"\"\"\u001b[39;00m\n\u001b[32m--> \u001b[39m\u001b[32m220\u001b[39m     \u001b[38;5;28;01mreturn\u001b[39;00m \u001b[43m_runtime\u001b[49m\u001b[43m.\u001b[49m\u001b[43mget_or_create_context\u001b[49m\u001b[43m(\u001b[49m\u001b[43mdevnum\u001b[49m\u001b[43m)\u001b[49m\n",
      "\u001b[36mFile \u001b[39m\u001b[32m~/.local/share/virtualenvs/cuda-z6WtAaew/lib/python3.11/site-packages/numba/cuda/cudadrv/devices.py:138\u001b[39m, in \u001b[36m_Runtime.get_or_create_context\u001b[39m\u001b[34m(self, devnum)\u001b[39m\n\u001b[32m    136\u001b[39m attached_ctx = \u001b[38;5;28mself\u001b[39m._get_attached_context()\n\u001b[32m    137\u001b[39m \u001b[38;5;28;01mif\u001b[39;00m attached_ctx \u001b[38;5;129;01mis\u001b[39;00m \u001b[38;5;28;01mNone\u001b[39;00m:\n\u001b[32m--> \u001b[39m\u001b[32m138\u001b[39m     \u001b[38;5;28;01mreturn\u001b[39;00m \u001b[38;5;28;43mself\u001b[39;49m\u001b[43m.\u001b[49m\u001b[43m_get_or_create_context_uncached\u001b[49m\u001b[43m(\u001b[49m\u001b[43mdevnum\u001b[49m\u001b[43m)\u001b[49m\n\u001b[32m    139\u001b[39m \u001b[38;5;28;01melse\u001b[39;00m:\n\u001b[32m    140\u001b[39m     \u001b[38;5;28;01mreturn\u001b[39;00m attached_ctx\n",
      "\u001b[36mFile \u001b[39m\u001b[32m~/.local/share/virtualenvs/cuda-z6WtAaew/lib/python3.11/site-packages/numba/cuda/cudadrv/devices.py:153\u001b[39m, in \u001b[36m_Runtime._get_or_create_context_uncached\u001b[39m\u001b[34m(self, devnum)\u001b[39m\n\u001b[32m    147\u001b[39m \u001b[38;5;250m\u001b[39m\u001b[33;03m\"\"\"See also ``get_or_create_context(devnum)``.\u001b[39;00m\n\u001b[32m    148\u001b[39m \u001b[33;03mThis version does not read the cache.\u001b[39;00m\n\u001b[32m    149\u001b[39m \u001b[33;03m\"\"\"\u001b[39;00m\n\u001b[32m    150\u001b[39m \u001b[38;5;28;01mwith\u001b[39;00m \u001b[38;5;28mself\u001b[39m._lock:\n\u001b[32m    151\u001b[39m     \u001b[38;5;66;03m# Try to get the active context in the CUDA stack or\u001b[39;00m\n\u001b[32m    152\u001b[39m     \u001b[38;5;66;03m# activate GPU-0 with the primary context\u001b[39;00m\n\u001b[32m--> \u001b[39m\u001b[32m153\u001b[39m \u001b[43m    \u001b[49m\u001b[38;5;28;43;01mwith\u001b[39;49;00m\u001b[43m \u001b[49m\u001b[43mdriver\u001b[49m\u001b[43m.\u001b[49m\u001b[43mget_active_context\u001b[49m\u001b[43m(\u001b[49m\u001b[43m)\u001b[49m\u001b[43m \u001b[49m\u001b[38;5;28;43;01mas\u001b[39;49;00m\u001b[43m \u001b[49m\u001b[43mac\u001b[49m\u001b[43m:\u001b[49m\n\u001b[32m    154\u001b[39m \u001b[43m        \u001b[49m\u001b[38;5;28;43;01mif\u001b[39;49;00m\u001b[43m \u001b[49m\u001b[38;5;129;43;01mnot\u001b[39;49;00m\u001b[43m \u001b[49m\u001b[43mac\u001b[49m\u001b[43m:\u001b[49m\n\u001b[32m    155\u001b[39m \u001b[43m            \u001b[49m\u001b[38;5;28;43;01mreturn\u001b[39;49;00m\u001b[43m \u001b[49m\u001b[38;5;28;43mself\u001b[39;49m\u001b[43m.\u001b[49m\u001b[43m_activate_context_for\u001b[49m\u001b[43m(\u001b[49m\u001b[32;43m0\u001b[39;49m\u001b[43m)\u001b[49m\n",
      "\u001b[36mFile \u001b[39m\u001b[32m~/.local/share/virtualenvs/cuda-z6WtAaew/lib/python3.11/site-packages/numba/cuda/cudadrv/driver.py:495\u001b[39m, in \u001b[36m_ActiveContext.__enter__\u001b[39m\u001b[34m(self)\u001b[39m\n\u001b[32m    493\u001b[39m \u001b[38;5;28;01melse\u001b[39;00m:\n\u001b[32m    494\u001b[39m     hctx = drvapi.cu_context(\u001b[32m0\u001b[39m)\n\u001b[32m--> \u001b[39m\u001b[32m495\u001b[39m     \u001b[43mdriver\u001b[49m\u001b[43m.\u001b[49m\u001b[43mcuCtxGetCurrent\u001b[49m(byref(hctx))\n\u001b[32m    496\u001b[39m     hctx = hctx \u001b[38;5;28;01mif\u001b[39;00m hctx.value \u001b[38;5;28;01melse\u001b[39;00m \u001b[38;5;28;01mNone\u001b[39;00m\n\u001b[32m    498\u001b[39m \u001b[38;5;28;01mif\u001b[39;00m hctx \u001b[38;5;129;01mis\u001b[39;00m \u001b[38;5;28;01mNone\u001b[39;00m:\n",
      "\u001b[36mFile \u001b[39m\u001b[32m~/.local/share/virtualenvs/cuda-z6WtAaew/lib/python3.11/site-packages/numba/cuda/cudadrv/driver.py:295\u001b[39m, in \u001b[36mDriver.__getattr__\u001b[39m\u001b[34m(self, fname)\u001b[39m\n\u001b[32m    292\u001b[39m \u001b[38;5;28mself\u001b[39m.ensure_initialized()\n\u001b[32m    294\u001b[39m \u001b[38;5;28;01mif\u001b[39;00m \u001b[38;5;28mself\u001b[39m.initialization_error \u001b[38;5;129;01mis\u001b[39;00m \u001b[38;5;129;01mnot\u001b[39;00m \u001b[38;5;28;01mNone\u001b[39;00m:\n\u001b[32m--> \u001b[39m\u001b[32m295\u001b[39m     \u001b[38;5;28;01mraise\u001b[39;00m CudaSupportError(\u001b[33m\"\u001b[39m\u001b[33mError at driver init: \u001b[39m\u001b[38;5;130;01m\\n\u001b[39;00m\u001b[38;5;132;01m%s\u001b[39;00m\u001b[33m:\u001b[39m\u001b[33m\"\u001b[39m %\n\u001b[32m    296\u001b[39m                            \u001b[38;5;28mself\u001b[39m.initialization_error)\n\u001b[32m    298\u001b[39m \u001b[38;5;28;01mif\u001b[39;00m USE_NV_BINDING:\n\u001b[32m    299\u001b[39m     \u001b[38;5;28;01mreturn\u001b[39;00m \u001b[38;5;28mself\u001b[39m._cuda_python_wrap_fn(fname)\n",
      "\u001b[31mCudaSupportError\u001b[39m: Error at driver init: \n\nCUDA driver library cannot be found.\nIf you are sure that a CUDA driver is installed,\ntry setting environment variable NUMBA_CUDA_DRIVER\nwith the file path of the CUDA driver shared library.\n:"
     ]
    }
   ],
   "source": [
    "# TODO: cuda.to_device()\n",
    "\n",
    "euler_cromer_gpu(f, u, v, a, density, bc_flag, bc_magnitude, bc_unit_vector, damping, dt)"
   ]
  }
 ],
 "metadata": {
  "kernelspec": {
   "display_name": "Python 3 (ipykernel)",
   "language": "python",
   "name": "python3"
  },
  "language_info": {
   "codemirror_mode": {
    "name": "ipython",
    "version": 3
   },
   "file_extension": ".py",
   "mimetype": "text/x-python",
   "name": "python",
   "nbconvert_exporter": "python",
   "pygments_lexer": "ipython3",
   "version": "3.11.6"
  }
 },
 "nbformat": 4,
 "nbformat_minor": 5
}
