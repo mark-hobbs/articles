{
  "cells": [
    {
      "cell_type": "markdown",
      "id": "07270f3a-5188-42d9-b1da-8be22d717960",
      "metadata": {
        "id": "07270f3a-5188-42d9-b1da-8be22d717960"
      },
      "source": [
        "# Element-wise update\n",
        "\n",
        "<a href=\"https://colab.research.google.com/github/mark-hobbs/articles/blob/main/cuda/element-wise-update.ipynb\" target=\"_parent\"><img src=\"https://colab.research.google.com/assets/colab-badge.svg\" alt=\"Open In Colab\"/></a>"
      ]
    },
    {
      "cell_type": "markdown",
      "id": "589c5d4a-60fd-482d-864d-df25d5e6c009",
      "metadata": {
        "id": "589c5d4a-60fd-482d-864d-df25d5e6c009"
      },
      "source": [
        "## Update particle positions"
      ]
    },
    {
      "cell_type": "code",
      "execution_count": 16,
      "id": "7ba759bd-6b06-4b4c-8225-8174933df027",
      "metadata": {
        "id": "7ba759bd-6b06-4b4c-8225-8174933df027",
        "outputId": "6b4f4802-4f48-4ccb-c6f1-fe0bfc8d204d",
        "colab": {
          "base_uri": "https://localhost:8080/"
        }
      },
      "outputs": [
        {
          "output_type": "stream",
          "name": "stdout",
          "text": [
            "Cloning into 'articles'...\n",
            "remote: Enumerating objects: 595, done.\u001b[K\n",
            "remote: Counting objects: 100% (131/131), done.\u001b[K\n",
            "remote: Compressing objects: 100% (112/112), done.\u001b[K\n",
            "remote: Total 595 (delta 73), reused 61 (delta 19), pack-reused 464 (from 1)\u001b[K\n",
            "Receiving objects: 100% (595/595), 101.10 MiB | 37.12 MiB/s, done.\n",
            "Resolving deltas: 100% (287/287), done.\n"
          ]
        }
      ],
      "source": [
        "!uv pip install -q --system numba-cuda==0.15.0\n",
        "\n",
        "import numpy as np\n",
        "from numba import  njit, prange, config\n",
        "config.CUDA_ENABLE_PYNVJITLINK = 1\n",
        "\n",
        "try:\n",
        "    import google.colab\n",
        "    !git clone https://github.com/mark-hobbs/articles.git\n",
        "    import os\n",
        "    os.chdir('articles/cuda')  # Navigate to the cuda subdirectory\n",
        "except ImportError:\n",
        "    pass  # Already local, no need to clone\n",
        "\n",
        "import utils"
      ]
    },
    {
      "cell_type": "code",
      "execution_count": 17,
      "id": "49fd50c0-0ea7-45f3-8d8d-cbf1be70cf4f",
      "metadata": {
        "id": "49fd50c0-0ea7-45f3-8d8d-cbf1be70cf4f"
      },
      "outputs": [],
      "source": [
        "np.random.seed(42)\n",
        "\n",
        "n_particles = 1500000\n",
        "n_dimensions = 2\n",
        "\n",
        "f = np.random.randn(n_particles, n_dimensions)\n",
        "u = np.zeros((n_particles, n_dimensions))\n",
        "v = np.zeros((n_particles, n_dimensions))\n",
        "a = np.zeros((n_particles, n_dimensions))\n",
        "bc_flag = np.ones((n_particles, n_dimensions))\n",
        "bc_unit_vector = np.ones((n_particles, n_dimensions))\n",
        "bc_magnitude = 1\n",
        "density = 1.0\n",
        "damping = 1.0\n",
        "dt = 1.0"
      ]
    },
    {
      "cell_type": "code",
      "execution_count": 18,
      "id": "ec9f7f3c-c192-423e-8d76-eb672d3c84e4",
      "metadata": {
        "id": "ec9f7f3c-c192-423e-8d76-eb672d3c84e4"
      },
      "outputs": [],
      "source": [
        "@utils.profile(runs=10)\n",
        "def euler_cromer_a(\n",
        "    f, u, v, a, density, bc_flag, bc_magnitude, bc_unit_vector, damping, dt\n",
        "):\n",
        "    n_nodes = np.shape(f)[0]\n",
        "    n_dimensions = np.shape(f)[1]\n",
        "\n",
        "    for node_i in range(n_nodes):\n",
        "        for dof in range(n_dimensions):\n",
        "            a[node_i, dof] = (f[node_i, dof] - damping * v[node_i, dof]) / density\n",
        "            v[node_i, dof] += (a[node_i, dof] * dt)\n",
        "            u[node_i, dof] += (v[node_i, dof] * dt)\n",
        "\n",
        "            if bc_flag[node_i, dof] != 0:\n",
        "                u[node_i, dof] = bc_magnitude * bc_unit_vector[node_i, dof]\n",
        "\n",
        "    return u, v"
      ]
    },
    {
      "cell_type": "code",
      "execution_count": 19,
      "id": "4978a17f-5c2c-4d93-9462-0cbaaa7a111d",
      "metadata": {
        "id": "4978a17f-5c2c-4d93-9462-0cbaaa7a111d"
      },
      "outputs": [],
      "source": [
        "@utils.profile(runs=10)\n",
        "def euler_cromer_b(\n",
        "    f, u, v, a, density, bc_flag, bc_magnitude, bc_unit_vector, damping, dt\n",
        "):\n",
        "    a[:] = (f - damping * v) / density\n",
        "    v += a * dt\n",
        "    u += v * dt\n",
        "\n",
        "    mask = bc_flag != 0\n",
        "    u[mask] = bc_magnitude * bc_unit_vector[mask]\n",
        "\n",
        "    return u, v"
      ]
    },
    {
      "cell_type": "code",
      "execution_count": 20,
      "id": "b7c6770e-38a3-43f7-8735-4b1894f1f359",
      "metadata": {
        "id": "b7c6770e-38a3-43f7-8735-4b1894f1f359"
      },
      "outputs": [],
      "source": [
        "@utils.profile(runs=10)\n",
        "@njit(parallel=True)\n",
        "def euler_cromer_c(\n",
        "    f, u, v, a, density, bc_flag, bc_magnitude, bc_unit_vector, damping, dt\n",
        "):\n",
        "    n_nodes = np.shape(f)[0]\n",
        "    n_dimensions = np.shape(f)[1]\n",
        "\n",
        "    for node_i in prange(n_nodes):\n",
        "        for dof in range(n_dimensions):\n",
        "            a[node_i, dof] = (f[node_i, dof] - damping * v[node_i, dof]) / density\n",
        "            v[node_i, dof] += (a[node_i, dof] * dt)\n",
        "            u[node_i, dof] += (v[node_i, dof] * dt)\n",
        "\n",
        "            if bc_flag[node_i, dof] != 0:\n",
        "                u[node_i, dof] = bc_magnitude * bc_unit_vector[node_i, dof]\n",
        "\n",
        "    return u, v"
      ]
    },
    {
      "cell_type": "code",
      "execution_count": 21,
      "id": "00c3cfba-80a7-4371-b2c6-8d66328821ce",
      "metadata": {
        "id": "00c3cfba-80a7-4371-b2c6-8d66328821ce",
        "outputId": "1959ff73-cbc5-40eb-9838-cf402a8a0c14",
        "colab": {
          "base_uri": "https://localhost:8080/"
        }
      },
      "outputs": [
        {
          "output_type": "stream",
          "name": "stdout",
          "text": [
            "Function 'euler_cromer_a' executed 10 time(s)\n",
            "Average execution time: 6.3897 seconds\n",
            "Min: 6.3321s, Max: 6.4412s\n",
            "\n",
            "Function 'euler_cromer_b' executed 10 time(s)\n",
            "Average execution time: 0.0551 seconds\n",
            "Min: 0.0533s, Max: 0.0583s\n",
            "\n",
            "Function 'euler_cromer_c' executed 10 time(s)\n",
            "Average execution time: 0.0678 seconds\n",
            "Min: 0.0033s, Max: 0.6475s\n",
            "\n"
          ]
        }
      ],
      "source": [
        "euler_cromer_a(f, u, v, a, density, bc_flag, bc_magnitude, bc_unit_vector, damping, dt);\n",
        "euler_cromer_b(f, u, v, a, density, bc_flag, bc_magnitude, bc_unit_vector, damping, dt);\n",
        "euler_cromer_c(f, u, v, a, density, bc_flag, bc_magnitude, bc_unit_vector, damping, dt);"
      ]
    },
    {
      "cell_type": "markdown",
      "id": "fa6c99a2-5e9f-44a4-9a52-886c7d42c0d1",
      "metadata": {
        "id": "fa6c99a2-5e9f-44a4-9a52-886c7d42c0d1"
      },
      "source": [
        "## Numba CUDA"
      ]
    },
    {
      "cell_type": "code",
      "execution_count": 22,
      "id": "adc28f61-c40c-4ff9-9f54-1d715591312b",
      "metadata": {
        "id": "adc28f61-c40c-4ff9-9f54-1d715591312b"
      },
      "outputs": [],
      "source": [
        "from numba import cuda, float32"
      ]
    },
    {
      "cell_type": "code",
      "execution_count": 23,
      "id": "1090b04a-8e6c-4f6a-a787-5c597c4f33d8",
      "metadata": {
        "id": "1090b04a-8e6c-4f6a-a787-5c597c4f33d8",
        "outputId": "c043418f-dddf-4db7-8605-4167eaac2ed3",
        "colab": {
          "base_uri": "https://localhost:8080/"
        }
      },
      "outputs": [
        {
          "output_type": "stream",
          "name": "stdout",
          "text": [
            "CUDA Device Information:\n",
            "----------------------------------------\n",
            "CUDA Runtime Version:          12.6\n",
            "Device Name:                   NVIDIA L4\u0000\u0000\u0000\u0000\u0000\u0000\u0000\u0000\u0000\u0000\u0000\u0000\u0000\u0000\u0000\u0000\u0000\u0000\u0000\u0000\u0000\u0000\u0000\u0000\u0000\u0000\u0000\u0000\u0000\u0000\u0000\u0000\u0000\u0000\u0000\u0000\u0000\u0000\u0000\u0000\u0000\u0000\u0000\u0000\u0000\u0000\u0000\u0000\u0000\u0000\u0000\u0000\u0000\u0000\u0000                                                                \n",
            "Compute Capability:            (8, 9)\n",
            "\n",
            "Memory:\n",
            "Total Memory:                  23.80 GB\n",
            "Free Memory:                   23.52 GB\n",
            "\n",
            "Compute Resources:\n",
            "Streaming Multiprocessors:     58\n",
            "Max Threads per Block:         1024\n",
            "\n",
            "Grid Limitations:\n",
            "Max Grid Dimensions X:         2147483647\n",
            "Max Grid Dimensions Y:         65535\n",
            "Max Grid Dimensions Z:         65535\n",
            "\n",
            "Additional Characteristics:\n",
            "Warp Size:                     32\n",
            "Clock Rate:                    2.04 GHz\n",
            "Memory Clock Rate:             6.25 GHz\n"
          ]
        }
      ],
      "source": [
        "utils.get_cuda_device_info()"
      ]
    },
    {
      "cell_type": "code",
      "execution_count": 24,
      "id": "7203de85-8b6c-4ad8-a04c-0249fad803a6",
      "metadata": {
        "id": "7203de85-8b6c-4ad8-a04c-0249fad803a6"
      },
      "outputs": [],
      "source": [
        "@utils.profile(runs=10)\n",
        "def euler_cromer_gpu(\n",
        "    f, u, v, a, density, bc_flag, bc_magnitude, bc_unit_vector, damping, dt\n",
        "):\n",
        "    \"\"\"\n",
        "    Update particle positions using an Euler-Cromer time integration scheme\n",
        "\n",
        "    This function is a wrapper for the CUDA kernel `euler_cromer_kernel`\n",
        "    \"\"\"\n",
        "    THREADS_PER_BLOCK = 256\n",
        "    BLOCKS_PER_GRID = (n_particles + THREADS_PER_BLOCK - 1) // THREADS_PER_BLOCK\n",
        "    euler_cromer_kernel[BLOCKS_PER_GRID, THREADS_PER_BLOCK](\n",
        "        f, u, v, a, density, bc_flag, bc_magnitude, bc_unit_vector, damping, dt\n",
        "    )\n",
        "\n",
        "\n",
        "@cuda.jit\n",
        "def euler_cromer_kernel(\n",
        "    f, u, v, a, density, bc_flag, bc_magnitude, bc_unit_vector, damping, dt\n",
        "):\n",
        "    \"\"\"\n",
        "    CUDA kernel for Euler-Cromer time integration scheme\n",
        "    \"\"\"\n",
        "    n_nodes = f.shape[0]\n",
        "    n_dimensions = f.shape[1]\n",
        "\n",
        "    idx = cuda.grid(1)\n",
        "    total = n_nodes * n_dimensions\n",
        "\n",
        "    if idx < total:\n",
        "        node_i = idx // n_dimensions\n",
        "        dof = idx % n_dimensions\n",
        "\n",
        "        a[node_i, dof] = (f[node_i, dof] - damping * v[node_i, dof]) / density\n",
        "        v[node_i, dof] += a[node_i, dof] * dt\n",
        "        u[node_i, dof] += v[node_i, dof] * dt\n",
        "\n",
        "        if bc_flag[node_i, dof] != 0:\n",
        "            u[node_i, dof] = bc_magnitude * bc_unit_vector[node_i, dof]"
      ]
    },
    {
      "cell_type": "code",
      "execution_count": 25,
      "id": "4e2ce59d-3dfc-4ac8-91b8-9082ca65ae94",
      "metadata": {
        "id": "4e2ce59d-3dfc-4ac8-91b8-9082ca65ae94",
        "outputId": "60ba2b24-15d1-4662-f777-524419e83572",
        "colab": {
          "base_uri": "https://localhost:8080/"
        }
      },
      "outputs": [
        {
          "output_type": "stream",
          "name": "stdout",
          "text": [
            "Function 'euler_cromer_gpu' executed 10 time(s)\n",
            "Average execution time: 0.0236 seconds\n",
            "Min: 0.0001s, Max: 0.2352s\n",
            "\n"
          ]
        }
      ],
      "source": [
        "f = cuda.to_device(f.astype(np.float32))\n",
        "u = cuda.to_device(u.astype(np.float32))\n",
        "v = cuda.to_device(v.astype(np.float32))\n",
        "a = cuda.to_device(a.astype(np.float32))\n",
        "bc_flag = cuda.to_device(bc_flag.astype(np.int32))\n",
        "bc_unit_vector = cuda.to_device(bc_unit_vector.astype(np.float32))\n",
        "\n",
        "euler_cromer_gpu(f, u, v, a, density, bc_flag, bc_magnitude, bc_unit_vector, damping, dt)"
      ]
    },
    {
      "cell_type": "code",
      "execution_count": 28,
      "id": "d21c51a3-96af-45da-8221-64a03214e09f",
      "metadata": {
        "id": "d21c51a3-96af-45da-8221-64a03214e09f"
      },
      "outputs": [],
      "source": [
        "import time\n",
        "\n",
        "def benchmark_kernel(f, u, v, a, density, bc_flag, bc_magnitude, bc_unit_vector, damping, dt, num_runs=100):\n",
        "\n",
        "    n_particles = f.shape[0]\n",
        "    THREADS_PER_BLOCK = 256\n",
        "    BLOCKS_PER_GRID = (n_particles + THREADS_PER_BLOCK - 1) // THREADS_PER_BLOCK\n",
        "\n",
        "    # Warm up the kernel\n",
        "    for _ in range(5):\n",
        "        euler_cromer_kernel[BLOCKS_PER_GRID, THREADS_PER_BLOCK](f, u, v, a, density, bc_flag, bc_magnitude, bc_unit_vector, damping, dt)\n",
        "\n",
        "    cuda.synchronize()\n",
        "\n",
        "    start = time.perf_counter()\n",
        "\n",
        "    for _ in range(num_runs):\n",
        "        euler_cromer_kernel[BLOCKS_PER_GRID, THREADS_PER_BLOCK](f, u, v, a, density, bc_flag, bc_magnitude, bc_unit_vector, damping, dt)\n",
        "\n",
        "    cuda.synchronize()\n",
        "\n",
        "    end = time.perf_counter()\n",
        "\n",
        "    avg = (end - start) / num_runs\n",
        "    return avg, u.copy_to_host()"
      ]
    },
    {
      "cell_type": "code",
      "execution_count": 40,
      "id": "e05850ae-51c4-4135-ac81-96720913cf08",
      "metadata": {
        "id": "e05850ae-51c4-4135-ac81-96720913cf08",
        "outputId": "1c485a85-3054-4f1c-e8c5-63fdc4703feb",
        "colab": {
          "base_uri": "https://localhost:8080/"
        }
      },
      "outputs": [
        {
          "output_type": "stream",
          "name": "stdout",
          "text": [
            "Kernel executed in 0.0003 seconds\n"
          ]
        }
      ],
      "source": [
        "cuda_event_time, result = benchmark_kernel(f, u, v, a, density, bc_flag, bc_magnitude, bc_unit_vector, damping, dt, num_runs=100)\n",
        "print(f\"Kernel executed in {cuda_event_time:.4f} seconds\")"
      ]
    }
  ],
  "metadata": {
    "kernelspec": {
      "display_name": "Python 3",
      "name": "python3"
    },
    "language_info": {
      "codemirror_mode": {
        "name": "ipython",
        "version": 3
      },
      "file_extension": ".py",
      "mimetype": "text/x-python",
      "name": "python",
      "nbconvert_exporter": "python",
      "pygments_lexer": "ipython3",
      "version": "3.11.6"
    },
    "colab": {
      "provenance": [],
      "gpuType": "L4"
    },
    "accelerator": "GPU"
  },
  "nbformat": 4,
  "nbformat_minor": 5
}