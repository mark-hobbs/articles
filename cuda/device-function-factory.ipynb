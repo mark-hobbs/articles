{
 "cells": [
  {
   "cell_type": "markdown",
   "id": "07270f3a-5188-42d9-b1da-8be22d717960",
   "metadata": {
    "id": "07270f3a-5188-42d9-b1da-8be22d717960"
   },
   "source": [
    "# Device function factory \n",
    "\n",
    "<a href=\"https://colab.research.google.com/github/mark-hobbs/articles/blob/main/cuda/device-function-factory.ipynb\" target=\"_parent\"><img src=\"https://colab.research.google.com/assets/colab-badge.svg\" alt=\"Open In Colab\"/></a>"
   ]
  },
  {
   "cell_type": "code",
   "execution_count": 1,
   "id": "7ba759bd-6b06-4b4c-8225-8174933df027",
   "metadata": {
    "colab": {
     "base_uri": "https://localhost:8080/"
    },
    "id": "7ba759bd-6b06-4b4c-8225-8174933df027",
    "outputId": "6b4f4802-4f48-4ccb-c6f1-fe0bfc8d204d"
   },
   "outputs": [],
   "source": [
    "!uv pip install -q --system numba-cuda==0.15.0\n",
    "\n",
    "import numpy as np\n",
    "from numba import  njit, prange, config\n",
    "config.CUDA_ENABLE_PYNVJITLINK = 1\n",
    "\n",
    "try:\n",
    "    import google.colab\n",
    "    !git clone https://github.com/mark-hobbs/articles.git\n",
    "    import os\n",
    "    os.chdir('articles/cuda')  # Navigate to the cuda subdirectory\n",
    "except ImportError:\n",
    "    pass  # Already local, no need to clone\n",
    "\n",
    "import utils"
   ]
  },
  {
   "cell_type": "code",
   "execution_count": 2,
   "id": "49fd50c0-0ea7-45f3-8d8d-cbf1be70cf4f",
   "metadata": {
    "id": "49fd50c0-0ea7-45f3-8d8d-cbf1be70cf4f"
   },
   "outputs": [],
   "source": [
    "np.random.seed(42)\n",
    "\n",
    "n_elements = 1000000\n",
    "alpha = np.random.randn(n_elements)\n",
    "beta = np.random.randn(n_elements)\n",
    "a = 1\n",
    "b = 2"
   ]
  },
  {
   "cell_type": "code",
   "execution_count": 3,
   "id": "10caca38-6491-4537-8915-bb39a8511cdd",
   "metadata": {},
   "outputs": [],
   "source": [
    "def gamma_formula(alpha, beta, a, b):\n",
    "    return (alpha * a) + (beta * (1 - b))"
   ]
  },
  {
   "cell_type": "code",
   "execution_count": 4,
   "id": "6eafb7da-71af-4571-a9e8-5b9c5ef29cbd",
   "metadata": {},
   "outputs": [],
   "source": [
    "def make_gamma_function(a, b):\n",
    "    \"\"\"\n",
    "    Function factory\n",
    "    \"\"\"\n",
    "    def gamma_function(alpha, beta):\n",
    "        \"\"\"\n",
    "        Wrapper\n",
    "        \"\"\"\n",
    "        return gamma_formula(alpha, beta, a, b)\n",
    "    return gamma_function"
   ]
  },
  {
   "cell_type": "code",
   "execution_count": 5,
   "id": "ca72f311-eb9a-4c0a-a05c-79a0175aa408",
   "metadata": {},
   "outputs": [],
   "source": [
    "calculate_gamma = make_gamma_function(a, b)"
   ]
  },
  {
   "cell_type": "code",
   "execution_count": 6,
   "id": "0e97546e-efc2-4861-ad19-a7d373650b7a",
   "metadata": {},
   "outputs": [],
   "source": [
    "@utils.profile(runs=10)\n",
    "def compute_delta(alpha, beta):\n",
    "    delta = np.zeros(len(alpha))\n",
    "    for i in range(len(alpha)):\n",
    "        gamma = calculate_gamma(alpha[i], beta[i])\n",
    "        delta[i] = gamma * (1 - gamma)\n",
    "    return delta"
   ]
  },
  {
   "cell_type": "code",
   "execution_count": 7,
   "id": "b580b709-14cc-4d1f-9ddb-6c8ec5fcbc41",
   "metadata": {},
   "outputs": [
    {
     "name": "stdout",
     "output_type": "stream",
     "text": [
      "Function 'compute_delta' executed 10 time(s)\n",
      "Average execution time: 0.2849 seconds\n",
      "Min: 0.2818s, Max: 0.2896s\n",
      "\n",
      "[ 0.22025834 -0.01704001 -0.76795334 ... -0.47248129 -0.9489488\n",
      " -3.00917413]\n"
     ]
    }
   ],
   "source": [
    "delta = compute_delta(alpha, beta)\n",
    "print(delta)"
   ]
  },
  {
   "cell_type": "markdown",
   "id": "fa6c99a2-5e9f-44a4-9a52-886c7d42c0d1",
   "metadata": {
    "id": "fa6c99a2-5e9f-44a4-9a52-886c7d42c0d1"
   },
   "source": [
    "## Numba CUDA"
   ]
  },
  {
   "cell_type": "code",
   "execution_count": 8,
   "id": "adc28f61-c40c-4ff9-9f54-1d715591312b",
   "metadata": {
    "id": "adc28f61-c40c-4ff9-9f54-1d715591312b"
   },
   "outputs": [],
   "source": [
    "from numba import cuda, float32"
   ]
  },
  {
   "cell_type": "code",
   "execution_count": 9,
   "id": "1090b04a-8e6c-4f6a-a787-5c597c4f33d8",
   "metadata": {
    "colab": {
     "base_uri": "https://localhost:8080/"
    },
    "id": "1090b04a-8e6c-4f6a-a787-5c597c4f33d8",
    "outputId": "c043418f-dddf-4db7-8605-4167eaac2ed3"
   },
   "outputs": [
    {
     "name": "stdout",
     "output_type": "stream",
     "text": [
      "Error retrieving CUDA device information: Error at driver init: \n",
      "\n",
      "CUDA driver library cannot be found.\n",
      "If you are sure that a CUDA driver is installed,\n",
      "try setting environment variable NUMBA_CUDA_DRIVER\n",
      "with the file path of the CUDA driver shared library.\n",
      ":\n"
     ]
    }
   ],
   "source": [
    "utils.get_cuda_device_info()"
   ]
  }
 ],
 "metadata": {
  "accelerator": "GPU",
  "colab": {
   "gpuType": "L4",
   "provenance": []
  },
  "kernelspec": {
   "display_name": "Python 3 (ipykernel)",
   "language": "python",
   "name": "python3"
  },
  "language_info": {
   "codemirror_mode": {
    "name": "ipython",
    "version": 3
   },
   "file_extension": ".py",
   "mimetype": "text/x-python",
   "name": "python",
   "nbconvert_exporter": "python",
   "pygments_lexer": "ipython3",
   "version": "3.11.6"
  }
 },
 "nbformat": 4,
 "nbformat_minor": 5
}
