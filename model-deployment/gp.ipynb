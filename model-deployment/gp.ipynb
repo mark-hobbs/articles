{
 "cells": [
  {
   "cell_type": "markdown",
   "id": "b9d16b71-3e30-4b37-ae48-d1a924aa67e5",
   "metadata": {},
   "source": [
    "# Gaussian Process regression\n",
    "\n",
    "A notebook to generate synthetic data and fit a GP"
   ]
  },
  {
   "cell_type": "code",
   "execution_count": 1,
   "id": "3dc46ced-bb42-421a-8d5c-b42cc34f5614",
   "metadata": {},
   "outputs": [],
   "source": [
    "import numpy as np\n",
    "import pandas as pd\n",
    "import GPy"
   ]
  },
  {
   "cell_type": "markdown",
   "id": "1b191daa-03d5-4472-a1b3-8388de604387",
   "metadata": {},
   "source": [
    "### Generate synthetic data"
   ]
  },
  {
   "cell_type": "code",
   "execution_count": 2,
   "id": "a72b71ed-5f8b-4fa0-ba28-e340898d866d",
   "metadata": {},
   "outputs": [],
   "source": [
    "def synthetic_function(x1, x2, x3, x4):\n",
    "    \"\"\"\n",
    "    Synthetic function combining periodic, polynomial, and interaction terms\n",
    "    \"\"\"\n",
    "    alpha = np.sin(2 * np.pi * x1)\n",
    "    beta = (x2 - 0.5)**2\n",
    "    gamma = np.exp(-5 * x3)\n",
    "    delta = np.sin(2 * np.pi * x4) * x4\n",
    "    epsilon = x1 * x3\n",
    "    return alpha + beta + gamma + delta + (0.5 * epsilon)"
   ]
  },
  {
   "cell_type": "code",
   "execution_count": 3,
   "id": "f539ea4c-0b51-4403-a215-4452933e16c0",
   "metadata": {},
   "outputs": [
    {
     "name": "stdout",
     "output_type": "stream",
     "text": [
      "         x1        x2        x3        x4         y\n",
      "0  0.833761  0.226864  0.441414  0.549044 -0.662559\n",
      "1  0.096403  0.127560  0.935823  0.986611  0.679558\n",
      "2  0.093961  0.388977  0.311074  0.428190  0.981430\n",
      "3  0.191785  0.678379  0.876511  0.477221  1.130281\n",
      "4  0.697150  0.136160  0.157741  0.716799 -1.004834\n"
     ]
    }
   ],
   "source": [
    "n_samples = 200\n",
    "\n",
    "X = np.random.rand(n_samples, 4)\n",
    "y = synthetic_function(X[:, 0], X[:, 1], X[:, 2], X[:, 3]).reshape(-1, 1)\n",
    "\n",
    "df = pd.DataFrame(X, columns=[\"x1\", \"x2\", \"x3\", \"x4\"])\n",
    "df[\"y\"] = y\n",
    "print(df.head())"
   ]
  },
  {
   "cell_type": "markdown",
   "id": "43dfeaee-e109-48c2-a2d0-999741c19f51",
   "metadata": {},
   "source": [
    "### Fit a GP"
   ]
  },
  {
   "cell_type": "code",
   "execution_count": 4,
   "id": "8fe8a103-67c5-4731-8120-9b9149337880",
   "metadata": {},
   "outputs": [
    {
     "data": {
      "text/plain": [
       "<paramz.optimization.optimization.opt_lbfgsb at 0x17e95e2d0>"
      ]
     },
     "execution_count": 4,
     "metadata": {},
     "output_type": "execute_result"
    }
   ],
   "source": [
    "kernel = GPy.kern.RBF(input_dim=4, ARD=True)\n",
    "model = GPy.models.GPRegression(X, y, kernel)\n",
    "model.optimize()"
   ]
  },
  {
   "cell_type": "code",
   "execution_count": 5,
   "id": "df96e638-3ce5-469d-82ac-8da9ae6c8f57",
   "metadata": {},
   "outputs": [
    {
     "name": "stdout",
     "output_type": "stream",
     "text": [
      "\n",
      "Name : GP regression\n",
      "Objective : -387.1077895692607\n",
      "Number of Parameters : 6\n",
      "Number of Optimization Parameters : 6\n",
      "Updates : True\n",
      "Parameters:\n",
      "  \u001b[1mGP_regression.         \u001b[0;0m  |                    value  |  constraints  |  priors\n",
      "  \u001b[1mrbf.variance           \u001b[0;0m  |        94.92146119326638  |      +ve      |        \n",
      "  \u001b[1mrbf.lengthscale        \u001b[0;0m  |                     (4,)  |      +ve      |        \n",
      "  \u001b[1mGaussian_noise.variance\u001b[0;0m  |  2.4613019603082085e-120  |      +ve      |        \n"
     ]
    }
   ],
   "source": [
    "print(model)"
   ]
  },
  {
   "cell_type": "markdown",
   "id": "ca1b332b-27f5-4f8d-af16-2c258e3fc04f",
   "metadata": {},
   "source": [
    "### Test"
   ]
  },
  {
   "cell_type": "code",
   "execution_count": 6,
   "id": "84ca65ca-8aaf-4006-a177-25d700672b9e",
   "metadata": {},
   "outputs": [
    {
     "name": "stdout",
     "output_type": "stream",
     "text": [
      "[[-0.44271125]] [[1.29607268e-05]]\n"
     ]
    }
   ],
   "source": [
    "X_test = np.array([[0.51, 0.76, 0.94, 0.72]])  # y = -0.48\n",
    "mean, variance = model.predict(X_test)\n",
    "print(mean, variance)"
   ]
  },
  {
   "cell_type": "markdown",
   "id": "462649da-22c3-4d36-b925-8c8c174c144c",
   "metadata": {},
   "source": [
    "### Save fitted parameters"
   ]
  },
  {
   "cell_type": "code",
   "execution_count": 7,
   "id": "7e626688-a663-4d75-aef0-04785ccd0733",
   "metadata": {},
   "outputs": [],
   "source": [
    "import json\n",
    "\n",
    "params = {\n",
    "    \"lengthscale\": model.kern.lengthscale.values.tolist(),\n",
    "    \"kernel-variance\": float(model.kern.variance.values),\n",
    "    \"noise-variance\": float(model.likelihood.variance.values)\n",
    "}\n",
    "\n",
    "with open(\"model-params.json\", \"w\") as f:\n",
    "    json.dump(params, f, indent=2)"
   ]
  }
 ],
 "metadata": {
  "kernelspec": {
   "display_name": "Python 3 (ipykernel)",
   "language": "python",
   "name": "python3"
  },
  "language_info": {
   "codemirror_mode": {
    "name": "ipython",
    "version": 3
   },
   "file_extension": ".py",
   "mimetype": "text/x-python",
   "name": "python",
   "nbconvert_exporter": "python",
   "pygments_lexer": "ipython3",
   "version": "3.11.6"
  }
 },
 "nbformat": 4,
 "nbformat_minor": 5
}
