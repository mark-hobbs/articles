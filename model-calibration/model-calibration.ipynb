{
 "cells": [
  {
   "cell_type": "markdown",
   "id": "ccf6847e-9d20-4f5b-915f-10abec55523f",
   "metadata": {},
   "source": [
    "# Example: model calibration\n",
    "\n",
    "Employ Bayesian optimisation to determine the parameters in the nonlinear constitutive law\n",
    "\n",
    "Experimental results for the following example can be found in [1]. \n",
    "\n",
    "[1] Grégoire, D., Rojas‐Solano, L. B., & Pijaudier‐Cabot, G. (2013). Failure\n",
    "and size effect for notched and unnotched concrete beams. International Journal\n",
    "for Numerical and Analytical Methods in Geomechanics, 37(10), 1434-1452."
   ]
  },
  {
   "cell_type": "markdown",
   "id": "a26b9e00-0a0d-4434-8edd-e91a7b8dfc3f",
   "metadata": {},
   "source": [
    "**Design of Experiments (DOE):** Set `doe` to `True` to run 50 simulations with randomly sampled values of `alpha` and `k`. Note that this is computationally expensive. Set `doe` to `False` to load precomputed results.  "
   ]
  },
  {
   "cell_type": "code",
   "execution_count": 1,
   "id": "9f522fe1-8650-472d-8c52-55730bf59fe5",
   "metadata": {},
   "outputs": [],
   "source": [
    "doe = True"
   ]
  },
  {
   "cell_type": "code",
   "execution_count": 2,
   "id": "9f6f481b-3170-4e08-a4ec-5f652a4a147b",
   "metadata": {},
   "outputs": [
    {
     "name": "stdout",
     "output_type": "stream",
     "text": [
      "Not running in Colab\n"
     ]
    }
   ],
   "source": [
    "import os\n",
    "\n",
    "import numpy as np\n",
    "import matplotlib.pyplot as plt\n",
    "\n",
    "try:\n",
    "    import google.colab\n",
    "\n",
    "    IN_COLAB = True\n",
    "    !pip install git+https://github.com/mark-hobbs/pypd.git\n",
    "    print(\"Package installed successfully\")\n",
    "    import pypd\n",
    "\n",
    "    !sudo apt install cm-super dvipng texlive-latex-extra texlive-latex-recommended\n",
    "except ImportError:\n",
    "    IN_COLAB = False\n",
    "    import pypd\n",
    "\n",
    "    print(\"Not running in Colab\")"
   ]
  },
  {
   "cell_type": "code",
   "execution_count": 3,
   "id": "0da66c60-e6fc-43d9-9d3a-52061bd111cb",
   "metadata": {},
   "outputs": [
    {
     "name": "stdout",
     "output_type": "stream",
     "text": [
      "Not running in Colab.\n"
     ]
    }
   ],
   "source": [
    "if IN_COLAB:\n",
    "    try:\n",
    "        gpu_info = !nvidia-smi\n",
    "        gpu_info = \"\\n\".join(gpu_info)\n",
    "        print(\"GPU Information:\")\n",
    "        print(gpu_info)\n",
    "    except:\n",
    "        print(\"GPU information not available\")\n",
    "\n",
    "    try:\n",
    "        import multiprocessing\n",
    "\n",
    "        cpu_info = f\"Number of CPU cores: {multiprocessing.cpu_count()}\"\n",
    "        print(\"\\nCPU Information:\")\n",
    "        print(cpu_info)\n",
    "    except:\n",
    "        print(\"CPU information not available\")\n",
    "else:\n",
    "    print(\"Not running in Colab.\")"
   ]
  },
  {
   "cell_type": "markdown",
   "id": "6aadb288-7f9c-4558-9fb7-76917adcc9c7",
   "metadata": {},
   "source": [
    "### Functions required to build the input file"
   ]
  },
  {
   "cell_type": "code",
   "execution_count": 4,
   "id": "761432e7-ddd2-4390-af48-18e945ad28ea",
   "metadata": {},
   "outputs": [],
   "source": [
    "mm_to_m = 1e-3\n",
    "m_to_mm = 1e3"
   ]
  },
  {
   "cell_type": "code",
   "execution_count": 5,
   "id": "e32444bd-c441-4ab1-8c89-ac7cc3334793",
   "metadata": {},
   "outputs": [],
   "source": [
    "def build_particle_coordinates(dx, n_div_x, n_div_y):\n",
    "    particle_coordinates = np.zeros([n_div_x * n_div_y, 2])\n",
    "    counter = 0\n",
    "\n",
    "    for i_y in range(n_div_y):  # Depth\n",
    "        for i_x in range(n_div_x):  # Length\n",
    "            coord_x = dx * i_x\n",
    "            coord_y = dx * i_y\n",
    "            particle_coordinates[counter, 0] = coord_x\n",
    "            particle_coordinates[counter, 1] = coord_y\n",
    "            counter += 1\n",
    "\n",
    "    return particle_coordinates"
   ]
  },
  {
   "cell_type": "code",
   "execution_count": 6,
   "id": "090ec237-a1ed-4259-95e6-526db2834c89",
   "metadata": {},
   "outputs": [],
   "source": [
    "def build_boundary_conditions(particles):\n",
    "    bc_flag = np.zeros((len(particles), 2), dtype=np.intc)\n",
    "    bc_unit_vector = np.zeros((len(particles), 2), dtype=np.intc)\n",
    "    return bc_flag, bc_unit_vector"
   ]
  },
  {
   "cell_type": "markdown",
   "id": "b7e579cf-c77c-4212-8663-72d03a99015e",
   "metadata": {},
   "source": [
    "### Define functions to plot the experimental and numerical load-CMOD response"
   ]
  },
  {
   "cell_type": "code",
   "execution_count": 7,
   "id": "fb6fa653-f16b-40c1-b4ea-3f82e7322eaa",
   "metadata": {},
   "outputs": [],
   "source": [
    "def load_data_file(filename=\"half_notched_beam.csv\"):\n",
    "    \"\"\"\n",
    "    Determine the location of the example and construct the path to the data\n",
    "    file dynamically.\n",
    "    \"\"\"\n",
    "    file_path = os.path.join(os.getcwd(), \"data\", filename)\n",
    "    return np.genfromtxt(file_path, delimiter=\",\")"
   ]
  },
  {
   "cell_type": "code",
   "execution_count": 8,
   "id": "e9d7a555",
   "metadata": {},
   "outputs": [],
   "source": [
    "def load_data_file_github(\n",
    "    filename=\"https://raw.githubusercontent.com/mark-hobbs/PyPD/main/examples/data/half_notched_beam.csv\",\n",
    "):\n",
    "    import requests\n",
    "    import io\n",
    "\n",
    "    response = requests.get(filename)\n",
    "    data = np.genfromtxt(io.StringIO(response.text), delimiter=\",\", skip_header=1)\n",
    "    return data"
   ]
  },
  {
   "cell_type": "code",
   "execution_count": 9,
   "id": "4387401e-6478-40c7-b73a-e9ed2bf34970",
   "metadata": {},
   "outputs": [],
   "source": [
    "def plot_load_cmod(model, n_div_z, fig_title=\"load-cmod\", save_csv=False):\n",
    "    load = -np.array(model.penetrators[0].penetrator_force_history) * n_div_z\n",
    "    cmod = np.array(model.observations[1].history) - np.array(\n",
    "        model.observations[0].history\n",
    "    )\n",
    "\n",
    "    fig, ax = plt.subplots(figsize=(8, 5))\n",
    "    plot_experimental_data(ax)\n",
    "    ax.plot((cmod[:, 0] * m_to_mm), load[:, 1], label=\"Numerical\")\n",
    "\n",
    "    ax.set_xlim(0, 0.20)\n",
    "    ax.set_ylim(bottom=0)\n",
    "    ax.set_xlabel(\"CMOD (mm)\")\n",
    "    ax.set_ylabel(\"Load (N)\")\n",
    "    ax.grid(True)\n",
    "    ax.legend()\n",
    "\n",
    "    fig.tight_layout()\n",
    "    fig.savefig(fig_title, dpi=300)\n",
    "\n",
    "    if save_csv == True:\n",
    "        data = [(cmod[:, 0] * m_to_mm), load[:, 1]]\n",
    "        np.savetxt(\n",
    "            \"load_cmod.csv\", np.transpose(np.array(data)), delimiter=\",\", fmt=\"%f\"\n",
    "        )"
   ]
  },
  {
   "cell_type": "code",
   "execution_count": 10,
   "id": "5bf72c62-30fb-48d5-826b-201af5da1ccd",
   "metadata": {},
   "outputs": [],
   "source": [
    "def plot_experimental_data(ax):\n",
    "    if IN_COLAB:\n",
    "        data_file = load_data_file_github()\n",
    "    else:\n",
    "        data_file = load_data_file()\n",
    "\n",
    "    cmod = data_file[:, 0]\n",
    "    load_min = data_file[:, 1]\n",
    "    load_max = data_file[:, 2]\n",
    "\n",
    "    grey = (0.75, 0.75, 0.75)\n",
    "    ax.plot(cmod, load_min, color=grey)\n",
    "    ax.plot(cmod, load_max, color=grey)\n",
    "    ax.fill_between(\n",
    "        cmod,\n",
    "        load_min,\n",
    "        load_max,\n",
    "        color=grey,\n",
    "        edgecolor=None,\n",
    "        label=\"Experimental\",\n",
    "    )"
   ]
  },
  {
   "cell_type": "markdown",
   "id": "1474a2d7-456c-4c75-93eb-448ae7b927b3",
   "metadata": {},
   "source": [
    "### Build the particles and boundary conditions"
   ]
  },
  {
   "cell_type": "code",
   "execution_count": 11,
   "id": "8ba7b155-4bbc-43d5-89d1-6b85d5129d13",
   "metadata": {},
   "outputs": [],
   "source": [
    "dx = 2.5 * mm_to_m\n",
    "length = 175 * mm_to_m\n",
    "depth = 50 * mm_to_m\n",
    "width = 50 * mm_to_m\n",
    "n_div_x = np.rint(length / dx).astype(int)\n",
    "n_div_y = np.rint(depth / dx).astype(int)\n",
    "n_div_z = np.rint(width / dx).astype(int)\n",
    "notch = [\n",
    "    np.array([(length * 0.5) + (dx * 0.5), 0]),\n",
    "    np.array([(length * 0.5) + (dx * 0.5), depth * 0.5]),\n",
    "]"
   ]
  },
  {
   "cell_type": "code",
   "execution_count": 12,
   "id": "08d01b7e-88fc-42fe-a5ad-661f5ebe1e9e",
   "metadata": {},
   "outputs": [],
   "source": [
    "x = build_particle_coordinates(dx, n_div_x, n_div_y)\n",
    "flag, unit_vector = build_boundary_conditions(x)  # TODO: not needed"
   ]
  },
  {
   "cell_type": "markdown",
   "id": "6eb69b3c-88ee-4540-96b2-28dd79343ef3",
   "metadata": {},
   "source": [
    "### Build the model\n",
    "\n",
    "**Note:** Boundary conditions are currently required; however, they should not be mandatory, as this example employs a contact model. This limitation will be addressed in a future update."
   ]
  },
  {
   "cell_type": "code",
   "execution_count": 13,
   "id": "e2937eb8-c456-4196-8277-5fa206c7bef3",
   "metadata": {},
   "outputs": [],
   "source": [
    "material = pypd.Material(name=\"quasi-brittle\", E=37e9, Gf=143.2, density=2346, ft=3.9e6)\n",
    "bc = pypd.BoundaryConditions(flag, unit_vector, magnitude=0)\n",
    "particles = pypd.ParticleSet(x, dx, bc, material)\n",
    "\n",
    "radius = 25 * mm_to_m\n",
    "penetrators = []\n",
    "penetrators.append(\n",
    "    pypd.Penetrator(\n",
    "        np.array([0.5 * length, depth + radius - dx]),\n",
    "        np.array([0, 1]),\n",
    "        np.array([0, -0.4 * mm_to_m]),\n",
    "        radius,\n",
    "        particles,\n",
    "        name=\"Penetrator\",\n",
    "        plot=False,\n",
    "    )\n",
    ")\n",
    "penetrators.append(\n",
    "    pypd.Penetrator(\n",
    "        np.array([0.5 * depth, -radius]),\n",
    "        np.array([0, 0]),\n",
    "        np.array([0, 0]),\n",
    "        radius,\n",
    "        particles,\n",
    "        name=\"Support - left\",\n",
    "        plot=False,\n",
    "    )\n",
    ")\n",
    "penetrators.append(\n",
    "    pypd.Penetrator(\n",
    "        np.array([3 * depth, -radius]),\n",
    "        np.array([0, 0]),\n",
    "        np.array([0, 0]),\n",
    "        radius,\n",
    "        particles,\n",
    "        name=\"Support - right\",\n",
    "        plot=False,\n",
    "    )\n",
    ")\n",
    "\n",
    "observations = []\n",
    "observations.append(\n",
    "    pypd.Observation(\n",
    "        np.array([77.5 * mm_to_m, 0]), particles, period=1, name=\"CMOD - left\"\n",
    "    )\n",
    ")\n",
    "observations.append(\n",
    "    pypd.Observation(\n",
    "        np.array([97.5 * mm_to_m, 0]), particles, period=1, name=\"CMOD - right\"\n",
    "    )\n",
    ")"
   ]
  },
  {
   "cell_type": "markdown",
   "id": "ee4369a7-ed73-4942-b53d-c714f44bae08",
   "metadata": {},
   "source": [
    "### Visualise the particles and penetrators"
   ]
  },
  {
   "cell_type": "code",
   "execution_count": 14,
   "id": "7641a629-fb5b-4304-9e90-a4ef5358de43",
   "metadata": {},
   "outputs": [
    {
     "data": {
      "image/png": "[encoded data removed]",
      "text/plain": [
       "<Figure size 1400x750 with 1 Axes>"
      ]
     },
     "metadata": {},
     "output_type": "display_data"
    }
   ],
   "source": [
    "fig, ax = plt.subplots(figsize=(14, 7.5))\n",
    "ax.scatter(particles.x[:, 0], particles.x[:, 1], s=10)\n",
    "ax.axis(\"off\")\n",
    "ax.set_aspect(\"equal\")\n",
    "for penetrator in penetrators:\n",
    "    penetrator.plot(ax=ax)"
   ]
  },
  {
   "cell_type": "markdown",
   "id": "ced73f11-e0fe-462f-b817-0f342b956701",
   "metadata": {},
   "source": [
    "### Objective function\n",
    "\n",
    "The goal is to determine the values of `alpha` and `k` that minimise the difference between the experimental and numerical results."
   ]
  },
  {
   "cell_type": "code",
   "execution_count": 15,
   "id": "82ece891-c0bb-4f4b-b3e7-5cb3e406d19e",
   "metadata": {},
   "outputs": [],
   "source": [
    "def objective(model):\n",
    "    \"\"\"\n",
    "    Mean Square Error (MSE)\n",
    "    \"\"\"\n",
    "    if IN_COLAB:\n",
    "        data_file = load_data_file_github()\n",
    "    else:\n",
    "        data_file = load_data_file()\n",
    "\n",
    "    cmod = data_file[:, 0]\n",
    "    load_min = data_file[:, 1]\n",
    "    load_max = data_file[:, 2]\n",
    "    load_mean = (load_max + load_min) / 2\n",
    "\n",
    "    load_model = -np.array(model.penetrators[0].penetrator_force_history) * n_div_z\n",
    "    cmod_model = np.array(model.observations[1].history) - np.array(model.observations[0].history)\n",
    "    \n",
    "    load_model_interp = np.interp(cmod, cmod_model[:, 0] * m_to_mm, load_model[:, 1])    \n",
    "    return np.mean(np.nan_to_num(load_model_interp - load_mean, nan=0) ** 2)"
   ]
  },
  {
   "cell_type": "markdown",
   "id": "c249e47f-0c54-4d16-ab73-32529e7d00a3",
   "metadata": {},
   "source": [
    "### Design of experiments (DOE)\n",
    "\n",
    "Run 10 simulations with random samples of `alpha` and `k`"
   ]
  },
  {
   "cell_type": "code",
   "execution_count": 16,
   "id": "3a5034af-e51b-4a80-85a6-3c8f6517571a",
   "metadata": {},
   "outputs": [
    {
     "name": "stderr",
     "output_type": "stream",
     "text": [
      "/Users/markhobbs/.local/share/virtualenvs/model-calibration-1ITwTbKo/lib/python3.11/site-packages/pypd/tools.py:93: RuntimeWarning: divide by zero encountered in scalar divide\n",
      "  alpha = alpha_numerator / denominator\n",
      "/Users/markhobbs/.local/share/virtualenvs/model-calibration-1ITwTbKo/lib/python3.11/site-packages/pypd/tools.py:94: RuntimeWarning: divide by zero encountered in scalar divide\n",
      "  beta = beta_numerator / denominator\n",
      "Simulation progress: 100%|█████████████████████████████████████████████████████████████████| 100000/100000 [00:45<00:00, 2200.86steps/s]\n"
     ]
    },
    {
     "ename": "FileNotFoundError",
     "evalue": "/Users/markhobbs/Documents/02-repositories/articles/model-calibration/data/half_notched_beam.csv not found.",
     "output_type": "error",
     "traceback": [
      "\u001b[0;31m---------------------------------------------------------------------------\u001b[0m",
      "\u001b[0;31mFileNotFoundError\u001b[0m                         Traceback (most recent call last)",
      "Cell \u001b[0;32mIn[16], line 20\u001b[0m\n\u001b[1;32m     15\u001b[0m model \u001b[38;5;241m=\u001b[39m pypd\u001b[38;5;241m.\u001b[39mModel(copy\u001b[38;5;241m.\u001b[39mdeepcopy(particles), \n\u001b[1;32m     16\u001b[0m                    bonds, \n\u001b[1;32m     17\u001b[0m                    penetrators\u001b[38;5;241m=\u001b[39mcopy\u001b[38;5;241m.\u001b[39mdeepcopy(penetrators), \n\u001b[1;32m     18\u001b[0m                    observations\u001b[38;5;241m=\u001b[39mcopy\u001b[38;5;241m.\u001b[39mdeepcopy(observations))\n\u001b[1;32m     19\u001b[0m simulation\u001b[38;5;241m.\u001b[39mrun(model)\n\u001b[0;32m---> 20\u001b[0m mse \u001b[38;5;241m=\u001b[39m \u001b[38;5;28mfloat\u001b[39m(\u001b[43mobjective\u001b[49m\u001b[43m(\u001b[49m\u001b[43mmodel\u001b[49m\u001b[43m)\u001b[49m)\n\u001b[1;32m     22\u001b[0m \u001b[38;5;28mprint\u001b[39m(\u001b[38;5;124mf\u001b[39m\u001b[38;5;124m\"\u001b[39m\u001b[38;5;130;01m\\n\u001b[39;00m\u001b[38;5;124mSample \u001b[39m\u001b[38;5;132;01m{\u001b[39;00mi\u001b[38;5;132;01m}\u001b[39;00m\u001b[38;5;124m\"\u001b[39m)\n\u001b[1;32m     23\u001b[0m \u001b[38;5;28mprint\u001b[39m(\u001b[38;5;124mf\u001b[39m\u001b[38;5;124m\"\u001b[39m\u001b[38;5;124malpha : \u001b[39m\u001b[38;5;132;01m{\u001b[39;00malpha\u001b[38;5;132;01m}\u001b[39;00m\u001b[38;5;124m, k : \u001b[39m\u001b[38;5;132;01m{\u001b[39;00mk\u001b[38;5;132;01m}\u001b[39;00m\u001b[38;5;124m, MSE : \u001b[39m\u001b[38;5;132;01m{\u001b[39;00mmse\u001b[38;5;132;01m}\u001b[39;00m\u001b[38;5;130;01m\\n\u001b[39;00m\u001b[38;5;124m\"\u001b[39m)\n",
      "Cell \u001b[0;32mIn[15], line 8\u001b[0m, in \u001b[0;36mobjective\u001b[0;34m(model)\u001b[0m\n\u001b[1;32m      6\u001b[0m     data_file \u001b[38;5;241m=\u001b[39m load_data_file_github()\n\u001b[1;32m      7\u001b[0m \u001b[38;5;28;01melse\u001b[39;00m:\n\u001b[0;32m----> 8\u001b[0m     data_file \u001b[38;5;241m=\u001b[39m \u001b[43mload_data_file\u001b[49m\u001b[43m(\u001b[49m\u001b[43m)\u001b[49m\n\u001b[1;32m     10\u001b[0m cmod \u001b[38;5;241m=\u001b[39m data_file[:, \u001b[38;5;241m0\u001b[39m]\n\u001b[1;32m     11\u001b[0m load_min \u001b[38;5;241m=\u001b[39m data_file[:, \u001b[38;5;241m1\u001b[39m]\n",
      "Cell \u001b[0;32mIn[7], line 7\u001b[0m, in \u001b[0;36mload_data_file\u001b[0;34m(filename)\u001b[0m\n\u001b[1;32m      2\u001b[0m \u001b[38;5;250m\u001b[39m\u001b[38;5;124;03m\"\"\"\u001b[39;00m\n\u001b[1;32m      3\u001b[0m \u001b[38;5;124;03mDetermine the location of the example and construct the path to the data\u001b[39;00m\n\u001b[1;32m      4\u001b[0m \u001b[38;5;124;03mfile dynamically.\u001b[39;00m\n\u001b[1;32m      5\u001b[0m \u001b[38;5;124;03m\"\"\"\u001b[39;00m\n\u001b[1;32m      6\u001b[0m file_path \u001b[38;5;241m=\u001b[39m os\u001b[38;5;241m.\u001b[39mpath\u001b[38;5;241m.\u001b[39mjoin(os\u001b[38;5;241m.\u001b[39mgetcwd(), \u001b[38;5;124m\"\u001b[39m\u001b[38;5;124mdata\u001b[39m\u001b[38;5;124m\"\u001b[39m, filename)\n\u001b[0;32m----> 7\u001b[0m \u001b[38;5;28;01mreturn\u001b[39;00m \u001b[43mnp\u001b[49m\u001b[38;5;241;43m.\u001b[39;49m\u001b[43mgenfromtxt\u001b[49m\u001b[43m(\u001b[49m\u001b[43mfile_path\u001b[49m\u001b[43m,\u001b[49m\u001b[43m \u001b[49m\u001b[43mdelimiter\u001b[49m\u001b[38;5;241;43m=\u001b[39;49m\u001b[38;5;124;43m\"\u001b[39;49m\u001b[38;5;124;43m,\u001b[39;49m\u001b[38;5;124;43m\"\u001b[39;49m\u001b[43m)\u001b[49m\n",
      "File \u001b[0;32m~/.local/share/virtualenvs/model-calibration-1ITwTbKo/lib/python3.11/site-packages/numpy/lib/_npyio_impl.py:2007\u001b[0m, in \u001b[0;36mgenfromtxt\u001b[0;34m(fname, dtype, comments, delimiter, skip_header, skip_footer, converters, missing_values, filling_values, usecols, names, excludelist, deletechars, replace_space, autostrip, case_sensitive, defaultfmt, unpack, usemask, loose, invalid_raise, max_rows, encoding, ndmin, like)\u001b[0m\n\u001b[1;32m   2005\u001b[0m     fname \u001b[38;5;241m=\u001b[39m os\u001b[38;5;241m.\u001b[39mfspath(fname)\n\u001b[1;32m   2006\u001b[0m \u001b[38;5;28;01mif\u001b[39;00m \u001b[38;5;28misinstance\u001b[39m(fname, \u001b[38;5;28mstr\u001b[39m):\n\u001b[0;32m-> 2007\u001b[0m     fid \u001b[38;5;241m=\u001b[39m \u001b[43mnp\u001b[49m\u001b[38;5;241;43m.\u001b[39;49m\u001b[43mlib\u001b[49m\u001b[38;5;241;43m.\u001b[39;49m\u001b[43m_datasource\u001b[49m\u001b[38;5;241;43m.\u001b[39;49m\u001b[43mopen\u001b[49m\u001b[43m(\u001b[49m\u001b[43mfname\u001b[49m\u001b[43m,\u001b[49m\u001b[43m \u001b[49m\u001b[38;5;124;43m'\u001b[39;49m\u001b[38;5;124;43mrt\u001b[39;49m\u001b[38;5;124;43m'\u001b[39;49m\u001b[43m,\u001b[49m\u001b[43m \u001b[49m\u001b[43mencoding\u001b[49m\u001b[38;5;241;43m=\u001b[39;49m\u001b[43mencoding\u001b[49m\u001b[43m)\u001b[49m\n\u001b[1;32m   2008\u001b[0m     fid_ctx \u001b[38;5;241m=\u001b[39m contextlib\u001b[38;5;241m.\u001b[39mclosing(fid)\n\u001b[1;32m   2009\u001b[0m \u001b[38;5;28;01melse\u001b[39;00m:\n",
      "File \u001b[0;32m~/.local/share/virtualenvs/model-calibration-1ITwTbKo/lib/python3.11/site-packages/numpy/lib/_datasource.py:192\u001b[0m, in \u001b[0;36mopen\u001b[0;34m(path, mode, destpath, encoding, newline)\u001b[0m\n\u001b[1;32m    155\u001b[0m \u001b[38;5;250m\u001b[39m\u001b[38;5;124;03m\"\"\"\u001b[39;00m\n\u001b[1;32m    156\u001b[0m \u001b[38;5;124;03mOpen `path` with `mode` and return the file object.\u001b[39;00m\n\u001b[1;32m    157\u001b[0m \n\u001b[0;32m   (...)\u001b[0m\n\u001b[1;32m    188\u001b[0m \n\u001b[1;32m    189\u001b[0m \u001b[38;5;124;03m\"\"\"\u001b[39;00m\n\u001b[1;32m    191\u001b[0m ds \u001b[38;5;241m=\u001b[39m DataSource(destpath)\n\u001b[0;32m--> 192\u001b[0m \u001b[38;5;28;01mreturn\u001b[39;00m \u001b[43mds\u001b[49m\u001b[38;5;241;43m.\u001b[39;49m\u001b[43mopen\u001b[49m\u001b[43m(\u001b[49m\u001b[43mpath\u001b[49m\u001b[43m,\u001b[49m\u001b[43m \u001b[49m\u001b[43mmode\u001b[49m\u001b[43m,\u001b[49m\u001b[43m \u001b[49m\u001b[43mencoding\u001b[49m\u001b[38;5;241;43m=\u001b[39;49m\u001b[43mencoding\u001b[49m\u001b[43m,\u001b[49m\u001b[43m \u001b[49m\u001b[43mnewline\u001b[49m\u001b[38;5;241;43m=\u001b[39;49m\u001b[43mnewline\u001b[49m\u001b[43m)\u001b[49m\n",
      "File \u001b[0;32m~/.local/share/virtualenvs/model-calibration-1ITwTbKo/lib/python3.11/site-packages/numpy/lib/_datasource.py:529\u001b[0m, in \u001b[0;36mDataSource.open\u001b[0;34m(self, path, mode, encoding, newline)\u001b[0m\n\u001b[1;32m    526\u001b[0m     \u001b[38;5;28;01mreturn\u001b[39;00m _file_openers[ext](found, mode\u001b[38;5;241m=\u001b[39mmode,\n\u001b[1;32m    527\u001b[0m                               encoding\u001b[38;5;241m=\u001b[39mencoding, newline\u001b[38;5;241m=\u001b[39mnewline)\n\u001b[1;32m    528\u001b[0m \u001b[38;5;28;01melse\u001b[39;00m:\n\u001b[0;32m--> 529\u001b[0m     \u001b[38;5;28;01mraise\u001b[39;00m \u001b[38;5;167;01mFileNotFoundError\u001b[39;00m(\u001b[38;5;124mf\u001b[39m\u001b[38;5;124m\"\u001b[39m\u001b[38;5;132;01m{\u001b[39;00mpath\u001b[38;5;132;01m}\u001b[39;00m\u001b[38;5;124m not found.\u001b[39m\u001b[38;5;124m\"\u001b[39m)\n",
      "\u001b[0;31mFileNotFoundError\u001b[0m: /Users/markhobbs/Documents/02-repositories/articles/model-calibration/data/half_notched_beam.csv not found."
     ]
    }
   ],
   "source": [
    "if doe:\n",
    "    import copy\n",
    "    simulation = pypd.Simulation(n_time_steps=100000, damping=0)\n",
    "    \n",
    "    results = []\n",
    "    n_samples = 10\n",
    "    for i in range(n_samples):\n",
    "        alpha = np.random.uniform(0, 1)\n",
    "        k = np.random.uniform(0, 500)\n",
    "        bonds = pypd.BondSet(copy.deepcopy(particles),\n",
    "                             constitutive_law=pypd.NonLinear, \n",
    "                             constitutive_law_params={'alpha': alpha, 'k': k},\n",
    "                             surface_correction=True, \n",
    "                             notch=notch)\n",
    "        model = pypd.Model(copy.deepcopy(particles), \n",
    "                           bonds, \n",
    "                           penetrators=copy.deepcopy(penetrators), \n",
    "                           observations=copy.deepcopy(observations))\n",
    "        simulation.run(model)\n",
    "        mse = float(objective(model))\n",
    "        \n",
    "        print(f\"\\nSample {i}\")\n",
    "        print(f\"alpha : {alpha}, k : {k}, MSE : {mse}\\n\")\n",
    "        results.append((alpha, k, mse))\n",
    "    \n",
    "    print(results)"
   ]
  },
  {
   "cell_type": "markdown",
   "id": "230d0f6e-53de-4276-a27b-aca0f767d001",
   "metadata": {},
   "source": [
    "### Save and visualise results"
   ]
  },
  {
   "cell_type": "code",
   "execution_count": null,
   "id": "4f29140a-9c6a-41c5-9817-628c39833151",
   "metadata": {},
   "outputs": [],
   "source": [
    "import csv\n",
    "\n",
    "if doe:\n",
    "    with open('results.csv', mode='w', newline='') as file:\n",
    "        writer = csv.writer(file)\n",
    "        writer.writerow([\"alpha\", \"k\", \"MSE\"])\n",
    "        writer.writerows(results)"
   ]
  },
  {
   "cell_type": "code",
   "execution_count": null,
   "id": "1c08235f-ec7e-4a7d-b0f1-b446154284e7",
   "metadata": {},
   "outputs": [],
   "source": [
    "if not doe:\n",
    "    results = load_data_file(\"bayesian-optimisation.csv\")\n",
    "    samples = np.array(results[1:]) # remove headings\n",
    "else:\n",
    "    samples = np.array(results)\n",
    "    \n",
    "plt.figure(figsize=(10, 6))\n",
    "scatter = plt.scatter(samples[:, 0], samples[:, 1], c=np.log(samples[:, 2]), cmap='viridis', s=50)\n",
    "plt.colorbar(scatter, label='log(MSE Error)')\n",
    "plt.xlabel('alpha')\n",
    "plt.ylabel('k')"
   ]
  },
  {
   "cell_type": "markdown",
   "id": "6a429541-22d3-4d6c-b04f-79b16fc724e2",
   "metadata": {},
   "source": [
    "### Fit a Gaussian Process (GP)"
   ]
  },
  {
   "cell_type": "code",
   "execution_count": null,
   "id": "96187c27-47ca-4415-9d2d-300f59a5f576",
   "metadata": {},
   "outputs": [],
   "source": [
    "import GPy\n",
    "\n",
    "X = samples[:, :2]\n",
    "Y = np.log(samples[:, 2].reshape(-1, 1))\n",
    "\n",
    "kernel = GPy.kern.RBF(input_dim=2, ARD=True)\n",
    "\n",
    "gp = GPy.models.GPRegression(X, Y, kernel)\n",
    "gp.optimize(messages=True)\n",
    "print(gp.kern.lengthscale)"
   ]
  },
  {
   "cell_type": "markdown",
   "id": "c46e46a3-0903-4c52-90c0-164859d8cded",
   "metadata": {},
   "source": [
    "### Visualise the fitted GP"
   ]
  },
  {
   "cell_type": "code",
   "execution_count": null,
   "id": "eeca5c4e-f395-48dc-9746-cadcd392ff89",
   "metadata": {},
   "outputs": [],
   "source": [
    "alpha_grid, k_grid = np.meshgrid(\n",
    "    np.linspace(X[:, 0].min(), X[:, 0].max(), 1000),\n",
    "    np.linspace(X[:, 1].min(), X[:, 1].max(), 1000)\n",
    ")\n",
    "X_pred = np.column_stack([alpha_grid.ravel(), k_grid.ravel()])\n",
    "\n",
    "mean, variance = gp.predict(X_pred)\n",
    "mean = mean.reshape(alpha_grid.shape)\n",
    "variance = variance.reshape(alpha_grid.shape)\n",
    "\n",
    "fig, (ax1, ax2) = plt.subplots(2, 1, figsize=(12, 12))\n",
    "\n",
    "# Mean plot\n",
    "scatter = ax1.scatter(samples[:, 0], samples[:, 1], c=np.log(samples[:, 2]), cmap='viridis', s=50, zorder=5)\n",
    "contour_mean = ax1.contourf(alpha_grid, k_grid, mean, levels=20, cmap='viridis', alpha=0.6)\n",
    "ax1.set_title('Mean prediction')\n",
    "ax1.set_xlabel('alpha')\n",
    "ax1.set_ylabel('k')\n",
    "fig.colorbar(contour_mean, ax=ax1)\n",
    "\n",
    "# Variance plot\n",
    "scatter = ax2.scatter(samples[:, 0], samples[:, 1], c=np.log(samples[:, 2]), cmap='viridis', s=50, zorder=5)\n",
    "contour_variance = ax2.contourf(alpha_grid, k_grid, variance, levels=20, cmap='viridis', alpha=0.6)\n",
    "ax2.set_title('Variance')\n",
    "ax2.set_xlabel('alpha')\n",
    "ax2.set_ylabel('k')\n",
    "fig.colorbar(contour_variance, ax=ax2)\n",
    "\n",
    "plt.tight_layout()"
   ]
  },
  {
   "cell_type": "markdown",
   "id": "d7f1bbd3-e5be-4112-ae8e-acaaeb71a7fb",
   "metadata": {},
   "source": [
    "### Bayesian optimisation\n",
    "\n",
    "**Expected improvement**"
   ]
  }
 ],
 "metadata": {
  "kernelspec": {
   "display_name": "Python 3 (ipykernel)",
   "language": "python",
   "name": "python3"
  },
  "language_info": {
   "codemirror_mode": {
    "name": "ipython",
    "version": 3
   },
   "file_extension": ".py",
   "mimetype": "text/x-python",
   "name": "python",
   "nbconvert_exporter": "python",
   "pygments_lexer": "ipython3",
   "version": "3.11.6"
  }
 },
 "nbformat": 4,
 "nbformat_minor": 5
}
