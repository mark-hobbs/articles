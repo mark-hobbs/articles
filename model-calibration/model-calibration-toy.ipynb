{
 "cells": [
  {
   "cell_type": "markdown",
   "id": "0f02e30e",
   "metadata": {},
   "source": [
    "# Model calibration: toy problem\n",
    "This example can be found in Section 5.3 in the following paper: [A Tutorial on Bayesian Inference to Identify Material Parameters in Solid Mechanics](https://doi.org/10.1007/s11831-018-09311-x)"
   ]
  },
  {
   "cell_type": "code",
   "execution_count": 1,
   "id": "85181315",
   "metadata": {},
   "outputs": [],
   "source": [
    "import numpy as np\n",
    "import matplotlib.pyplot as plt\n",
    "import scipy.stats\n",
    "\n",
    "plt.rcParams.update(\n",
    "    {\n",
    "        \"text.usetex\": True,\n",
    "        \"font.family\": \"sans-serif\",\n",
    "        \"font.sans-serif\": [\"Times New Roman\"],\n",
    "    }\n",
    ")\n",
    "plt.rcParams[\"font.family\"] = \"Times New Roman\""
   ]
  },
  {
   "cell_type": "markdown",
   "id": "2fb1f4fb-d272-4a13-9793-29a000c092e9",
   "metadata": {},
   "source": [
    "## 1. Model $\\textbf{f}(\\textbf{X})$\n",
    "\n",
    "`Model` should have attributes that define the number of input and output parameters: `model.n_inputs` and `model.n_outputs`"
   ]
  },
  {
   "cell_type": "code",
   "execution_count": 2,
   "id": "2770293b-20b9-4575-a7ac-a22a3d58015c",
   "metadata": {},
   "outputs": [],
   "source": [
    "class Model:\n",
    "    \"\"\"\n",
    "    Base class for models used in optimisation and Bayesian inference.\n",
    "\n",
    "    Subclasses must implement the __call__ method.\n",
    "    \"\"\"\n",
    "\n",
    "    def __init__(self, x):\n",
    "        \"\"\"\n",
    "        x : list or array-like\n",
    "            The independent variables (e.g., strain).\n",
    "        \"\"\"\n",
    "        self.x = x\n",
    "\n",
    "    def __call__(self, *args, **kwargs):\n",
    "        \"\"\"\n",
    "        Define the behaviour of the model.\n",
    "\n",
    "        Parameters\n",
    "        ----------\n",
    "        *args : tuple\n",
    "            Positional arguments.\n",
    "\n",
    "        **kwargs : dict\n",
    "            Keyword arguments.\n",
    "\n",
    "        Returns\n",
    "        -------\n",
    "        Any\n",
    "            The output of the model.\n",
    "        \"\"\"\n",
    "        raise NotImplementedError(\"Subclasses must implement __call__ method.\")\n",
    "\n",
    "    def run(self):\n",
    "        raise NotImplementedError(\"Subclasses must implement the run method.\")        \n",
    "\n",
    "\n",
    "class LinearElasticPerfectlyPlastic(Model):\n",
    "    \"\"\"\n",
    "    Linear elastic-perfectly plastic material.\n",
    "    \"\"\"\n",
    "\n",
    "    def __init__(self, x, y_observed=None):\n",
    "        \"\"\"\n",
    "        Parameters\n",
    "        ----------\n",
    "        x : list or array-like\n",
    "            The independent variables (e.g., strain).\n",
    "\n",
    "        y_observed : list or array-like\n",
    "            The observed values of the dependent variables (e.g., stress).\n",
    "        \"\"\"\n",
    "        super().__init__(x)\n",
    "        self.y_observed = y_observed\n",
    "\n",
    "    def run(self, parameters):\n",
    "        \"\"\"\n",
    "        Compute stress based on the provided parameters.\n",
    "\n",
    "        Parameters\n",
    "        ----------\n",
    "        parameters : list\n",
    "            Model parameters (Young's Modulus and Yield Stress)\n",
    "\n",
    "        Returns\n",
    "        -------\n",
    "        stress : list\n",
    "            Computed stress values for each strain in x.\n",
    "        \"\"\"\n",
    "        if len(parameters) != 2:\n",
    "            raise ValueError(\n",
    "                \"LinearElasticPerfectlyPlastic model expects two parameters.\"\n",
    "            )\n",
    "\n",
    "        E, stress_y = parameters\n",
    "        strain_y = stress_y / E\n",
    "        stress = []\n",
    "\n",
    "        for strain in self.x:\n",
    "            if strain <= strain_y:\n",
    "                stress.append(E * strain)\n",
    "            else:\n",
    "                stress.append(stress_y)\n",
    "\n",
    "        return stress\n",
    "\n",
    "    def __call__(self, candidate):\n",
    "        return np.mean((self.y_observed - self.run(candidate)) ** 2)"
   ]
  },
  {
   "cell_type": "code",
   "execution_count": 3,
   "id": "3d008751-9a42-4855-8702-3128c691f47c",
   "metadata": {},
   "outputs": [
    {
     "data": {
      "image/png": "[encoded data removed]",
      "text/plain": [
       "<Figure size 500x350 with 1 Axes>"
      ]
     },
     "metadata": {},
     "output_type": "display_data"
    }
   ],
   "source": [
    "E = 210\n",
    "stress_y = 0.25\n",
    "strain = np.linspace(0, 2.5e-3, 100)\n",
    "true_model = LinearElasticPerfectlyPlastic(strain)\n",
    "stress = true_model.run(np.array([E, stress_y]))\n",
    "\n",
    "plt.figure(figsize=(5, 3.5))\n",
    "plt.plot(strain, stress, color='k')\n",
    "plt.title(\"Material model\")\n",
    "plt.xlabel(\"Strain $\\epsilon$\")\n",
    "plt.ylabel(\"Stress $\\sigma$\")\n",
    "plt.gca().set_frame_on(False)\n",
    "plt.xticks([])\n",
    "plt.yticks([])\n",
    "plt.tight_layout()"
   ]
  },
  {
   "cell_type": "markdown",
   "id": "9ec0758d-1cfd-4c04-aad3-17597550cf74",
   "metadata": {},
   "source": [
    "## 2. Generating synthetic data"
   ]
  },
  {
   "cell_type": "code",
   "execution_count": 4,
   "id": "48f982a9-ba09-4737-9b88-4fdbb619b197",
   "metadata": {},
   "outputs": [
    {
     "data": {
      "image/png": "[encoded data removed]",
      "text/plain": [
       "<Figure size 500x350 with 1 Axes>"
      ]
     },
     "metadata": {},
     "output_type": "display_data"
    }
   ],
   "source": [
    "# np.random.seed(58)\n",
    "\n",
    "sigma = 0.01  # standard deviation of the noise\n",
    "strain_observed = np.array([.1, .25, .6, .9, 2]) * 1e-3\n",
    "stress_observed = (LinearElasticPerfectlyPlastic(strain_observed).run(np.array([E, stress_y])) \n",
    "                    + np.random.normal(scale=sigma, size=strain_observed.shape[0]))\n",
    "\n",
    "plt.figure(figsize=(5, 3.5))\n",
    "plt.scatter(strain_observed, stress_observed, label=\"Observation\")\n",
    "plt.title(\"Experimental observations\")\n",
    "plt.xlabel(\"Strain $\\epsilon$\")\n",
    "plt.ylabel(\"Stress $\\sigma$\")\n",
    "plt.xticks(rotation=45)\n",
    "plt.ticklabel_format(axis='x', style='sci', scilimits=(-2, 2)) \n",
    "plt.tight_layout()"
   ]
  },
  {
   "cell_type": "markdown",
   "id": "9f6dbf30-e54c-4681-9690-0cb9f44c2273",
   "metadata": {},
   "source": [
    "## x. Design of Experiments"
   ]
  },
  {
   "cell_type": "code",
   "execution_count": 5,
   "id": "ed832b54-645a-4ce6-8787-f4a46b338e7d",
   "metadata": {},
   "outputs": [
    {
     "data": {
      "text/plain": [
       "Text(0, 0.5, 'b')"
      ]
     },
     "execution_count": 5,
     "metadata": {},
     "output_type": "execute_result"
    },
    {
     "data": {
      "image/png": "[encoded data removed]",
      "text/plain": [
       "<Figure size 1000x600 with 2 Axes>"
      ]
     },
     "metadata": {},
     "output_type": "display_data"
    }
   ],
   "source": [
    "model = LinearElasticPerfectlyPlastic(strain_observed, stress_observed)\n",
    "doe = 25\n",
    "\n",
    "a_samples = []\n",
    "b_samples = []\n",
    "mse = []\n",
    "for _ in range(doe):\n",
    "    a = np.random.uniform(160, 250)\n",
    "    b = np.random.uniform(0.05, 0.5)\n",
    "    a_samples.append(a)\n",
    "    b_samples.append(b)\n",
    "    candidate = np.array([a, b])\n",
    "    mse.append(model(candidate))\n",
    "\n",
    "plt.figure(figsize=(10, 6))\n",
    "scatter = plt.scatter(a_samples, b_samples, c=np.log(mse), cmap='viridis', s=50)\n",
    "plt.colorbar(scatter, label='log(MSE Error)')\n",
    "plt.xlabel('a')\n",
    "plt.ylabel('b')"
   ]
  },
  {
   "cell_type": "markdown",
   "id": "53402346-4d50-4411-8fcc-4b413b32f3d4",
   "metadata": {},
   "source": [
    "## x. Surrogate Model\n",
    "\n",
    "`SurrogateModel` should inherit from `Model`"
   ]
  },
  {
   "cell_type": "code",
   "execution_count": 6,
   "id": "1985affa-0093-49a7-a2d4-87e02d641a0e",
   "metadata": {},
   "outputs": [],
   "source": [
    "from abc import ABC, abstractmethod\n",
    "import GPy    \n",
    "\n",
    "\n",
    "class SurrogateModel(ABC):\n",
    "    \"\"\"\n",
    "    Abstract base class for surrogate models\n",
    "\n",
    "    TODO: SurrogateModel(Model)\n",
    "    \"\"\"\n",
    "    \n",
    "    @abstractmethod\n",
    "    def fit(self, X, y):\n",
    "        \"\"\"\n",
    "        Fit the surrogate model to training data\n",
    "        \"\"\"\n",
    "        pass\n",
    "    \n",
    "    @abstractmethod\n",
    "    def predict(self, X):\n",
    "        \"\"\"\n",
    "        Make predictions with uncertainty\n",
    "        \"\"\"\n",
    "        pass\n",
    "    \n",
    "    @property\n",
    "    @abstractmethod\n",
    "    def parameters(self):\n",
    "        \"\"\"\n",
    "        Get model parameters\n",
    "        \"\"\"\n",
    "        pass\n",
    "\n",
    "\n",
    "class GaussianProcessModel(SurrogateModel):\n",
    "    \"\"\"\n",
    "    Gaussian Process implementation of surrogate model\n",
    "    \"\"\"    \n",
    "    def __init__(self, input_dim, kernel=None):\n",
    "        \n",
    "        self.input_dim = input_dim\n",
    "        self.kernel = kernel or GPy.kern.RBF(input_dim=input_dim, ARD=True)\n",
    "        self.model = None\n",
    "        \n",
    "    def fit(self, X, y):\n",
    "        \"\"\"\n",
    "        Fit GP model to data\n",
    "        \n",
    "        Args:\n",
    "            X: Input features (n_samples, n_features)\n",
    "            y: Target values (n_samples, 1)\n",
    "        \"\"\"\n",
    "        self.model = GPy.models.GPRegression(X, y, self.kernel)\n",
    "        self.model.optimize_restarts(num_restarts=5, verbose=False)\n",
    "        return self\n",
    "        \n",
    "    def predict(self, X):\n",
    "        \"\"\"\n",
    "        Make predictions with uncertainty\n",
    "\n",
    "        Predict the residual (i.e. Mean Square Error (MSE) between model with input parameters X \n",
    "        and experimental data)\n",
    "\n",
    "        Returns:\n",
    "            tuple: (mean predictions, variances)\n",
    "        \"\"\"\n",
    "        if self.model is None:\n",
    "            raise RuntimeError(\"Model must be fitted before making predictions\")\n",
    "        return self.model.predict(X)\n",
    "\n",
    "    def __call__(self, X):\n",
    "        mean, _ = self.predict(np.atleast_2d(X))\n",
    "        return np.exp(mean[0, 0])\n",
    "\n",
    "    def evaluate(self, X):\n",
    "        mean, _ = self.predict(np.atleast_2d(X))\n",
    "        return mean[0, 0]\n",
    "    \n",
    "    @property\n",
    "    def parameters(self):\n",
    "        \"\"\"\n",
    "        Get model parameters\n",
    "        \"\"\"\n",
    "        if self.model is None:\n",
    "            return None\n",
    "        return {\n",
    "            'lengthscale': self.model.kern.lengthscale.values,\n",
    "            'variance': self.model.kern.variance.values[0]\n",
    "        }"
   ]
  },
  {
   "cell_type": "code",
   "execution_count": 7,
   "id": "a0cff2d2-8401-40de-b29b-5c40b9f317fb",
   "metadata": {},
   "outputs": [
    {
     "data": {
      "text/plain": [
       "<__main__.GaussianProcessModel at 0x17af9cf10>"
      ]
     },
     "execution_count": 7,
     "metadata": {},
     "output_type": "execute_result"
    }
   ],
   "source": [
    "samples = np.column_stack((a_samples, b_samples, mse))\n",
    "\n",
    "X = samples[:, :2]\n",
    "Y = np.log(samples[:, 2].reshape(-1, 1))\n",
    "\n",
    "gp_model = GaussianProcessModel(input_dim=2)\n",
    "gp_model.fit(X, Y)"
   ]
  },
  {
   "cell_type": "code",
   "execution_count": 8,
   "id": "b1b70821-4e09-4601-b5f1-a2b88c91234e",
   "metadata": {},
   "outputs": [
    {
     "name": "stdout",
     "output_type": "stream",
     "text": [
      "0.0008633595143920057\n",
      "0.0009398517654588681\n"
     ]
    }
   ],
   "source": [
    "print(model(np.array([200, 0.2])))\n",
    "print(gp_model(np.array([200, 0.2])))"
   ]
  },
  {
   "cell_type": "markdown",
   "id": "23f0f0d0-6e2e-409e-b1c4-05cba27d16d7",
   "metadata": {},
   "source": [
    "## 3. Optimisation"
   ]
  },
  {
   "cell_type": "code",
   "execution_count": 9,
   "id": "6c5ffc33-e2ec-49d9-a3ea-fcdad5d1af38",
   "metadata": {},
   "outputs": [],
   "source": [
    "from scipy.optimize import minimize"
   ]
  },
  {
   "cell_type": "code",
   "execution_count": 10,
   "id": "fd518461-e9de-4831-af66-62cb119968f3",
   "metadata": {},
   "outputs": [
    {
     "name": "stdout",
     "output_type": "stream",
     "text": [
      "[212.46478978   0.26351896] 1.781912783750105e-05\n"
     ]
    }
   ],
   "source": [
    "result = minimize(model, x0=[220, 0.1], method='Nelder-Mead', options={'maxiter': 1000000})\n",
    "print(result.x, model(result.x))"
   ]
  },
  {
   "cell_type": "code",
   "execution_count": 11,
   "id": "e832c903-1c82-4682-8557-09de67a06e9d",
   "metadata": {},
   "outputs": [
    {
     "name": "stdout",
     "output_type": "stream",
     "text": [
      "[223.11711271   0.26933998] 0.00028234887212555377\n"
     ]
    }
   ],
   "source": [
    "result = minimize(gp_model, x0=[220, 0.1], method='Nelder-Mead', options={'maxiter': 1000000})\n",
    "print(result.x, gp_model(result.x))"
   ]
  },
  {
   "cell_type": "markdown",
   "id": "ea0ae960-34b4-41fa-888e-638438d3d98e",
   "metadata": {},
   "source": [
    "## 4. Prior"
   ]
  },
  {
   "cell_type": "code",
   "execution_count": 12,
   "id": "013434e4-7ad5-4e0f-ba25-6ac80ab758e1",
   "metadata": {},
   "outputs": [],
   "source": [
    "class Prior:\n",
    "\n",
    "    def __init__(self, mean=np.array([0, 0]), std_dev=np.array([1, 1])):\n",
    "        \"\"\"\n",
    "        Initialise the multivariate normal prior distribution.\n",
    "\n",
    "        Parameters\n",
    "        ----------\n",
    "        mean : array-like, optional\n",
    "            Mean vector of the multivariate normal distribution. Default is np.array([0, 0]).\n",
    "\n",
    "        std_dev : array-like\n",
    "            Standard deviation vector of the multivariate normal distribution. Default is np.array([1, 1]).\n",
    "        \"\"\"\n",
    "        self.mean = np.array(mean)\n",
    "        self.std_dev = np.array(std_dev)\n",
    "        self.cov = np.diag(self.std_dev**2)\n",
    "\n",
    "    def evaluate(self, x):\n",
    "        \"\"\"\n",
    "        Evaluate the prior function at the given value(s) of x.\n",
    "\n",
    "        Parameters\n",
    "        ----------\n",
    "        x : array-like\n",
    "            The value(s) at which to evaluate the prior function.\n",
    "\n",
    "        Returns\n",
    "        -------\n",
    "        array-like\n",
    "            The prior probability density at the given value(s).\n",
    "        \"\"\"\n",
    "        return scipy.stats.multivariate_normal.pdf(x, mean=self.mean, cov=self.cov)\n",
    "\n",
    "    def plot(self, x_values):\n",
    "        \"\"\"\n",
    "        Plot the prior function over a range of x values.\n",
    "\n",
    "        Parameters\n",
    "        ----------\n",
    "        x_values : array-like\n",
    "            The range of x values for plotting.\n",
    "        \"\"\"\n",
    "        prior_values = self.evaluate(x_values)\n",
    "        # plt.contourf()"
   ]
  },
  {
   "cell_type": "markdown",
   "id": "9c30f4fd-5140-44dc-9440-d21a60399982",
   "metadata": {},
   "source": [
    "## 5. Likelihood"
   ]
  },
  {
   "cell_type": "code",
   "execution_count": 13,
   "id": "5c67225d-1a5f-414e-8c2d-ba2ce7395947",
   "metadata": {},
   "outputs": [],
   "source": [
    "class Likelihood:\n",
    "\n",
    "    def __init__(self, y, sigma, model):\n",
    "        \"\"\"\n",
    "        y : ndarray\n",
    "            Observed data\n",
    "        \"\"\"\n",
    "        self.y = y\n",
    "        self.sigma = sigma\n",
    "        self.model = model\n",
    "\n",
    "    def evaluate(self, x):\n",
    "        \"\"\"\n",
    "        x : float or array-like\n",
    "            The value(s) of the model parameters.\n",
    "        \"\"\"\n",
    "        residual = self._compute_residual(x)\n",
    "        return (\n",
    "            1\n",
    "            / (self.sigma * np.sqrt(2 * np.pi))\n",
    "            * np.exp(-0.5 * (residual / self.sigma**2))\n",
    "        )\n",
    "\n",
    "    def _compute_residual(self, x):\n",
    "        if isinstance(self.model, Model):\n",
    "            return np.sum((self.y - self.model.run(x)) ** 2)\n",
    "        elif isinstance(self.model, SurrogateModel):\n",
    "            return self.model(x)"
   ]
  },
  {
   "cell_type": "markdown",
   "id": "0d52e978-feba-40b9-b1a4-8ecd4e5231bc",
   "metadata": {},
   "source": [
    "## 6. Posterior"
   ]
  },
  {
   "cell_type": "code",
   "execution_count": 14,
   "id": "6623ecfe-f42b-40df-8afc-c76113d83b02",
   "metadata": {},
   "outputs": [],
   "source": [
    "class Posterior:\n",
    "\n",
    "    def __init__(self, prior, likelihood):\n",
    "        self.prior = prior\n",
    "        self.likelihood = likelihood\n",
    "\n",
    "    def evaluate(self, x):\n",
    "        \"\"\"\n",
    "        Compute the posterior distribution for given model parameters and observed data.\n",
    "\n",
    "        Parameters\n",
    "        ----------\n",
    "        x : float or array-like\n",
    "            The value(s) of the model parameters.\n",
    "\n",
    "        Returns\n",
    "        -------\n",
    "        float or array-like\n",
    "            The posterior probability distribution for the given model parameters.\n",
    "        \"\"\"\n",
    "        return self.prior.evaluate(x) * self.likelihood.evaluate(x)"
   ]
  },
  {
   "cell_type": "code",
   "execution_count": 15,
   "id": "e5bcbaad-51a1-4886-a84a-045d0bd112f2",
   "metadata": {},
   "outputs": [],
   "source": [
    "prior = Prior(mean=np.array([200, 0.29]), std_dev=np.array([25, 0.015]))\n",
    "likelihood = Likelihood(stress_observed, sigma, gp_model)\n",
    "posterior = Posterior(prior, likelihood)"
   ]
  },
  {
   "cell_type": "markdown",
   "id": "63f89120-e7f5-44af-aed9-be89a77f70b0",
   "metadata": {},
   "source": [
    "## 8. Adaptive Metropolis Hastings (`Sampler` and `Proposal` class)"
   ]
  },
  {
   "cell_type": "code",
   "execution_count": 16,
   "id": "85853fbe-126b-4bbe-8e39-4992a9dfadf1",
   "metadata": {},
   "outputs": [],
   "source": [
    "from tqdm import tqdm\n",
    "\n",
    "\n",
    "class Sampler:\n",
    "\n",
    "    def __init__(self, posterior, proposal, steps, init):\n",
    "        self.posterior = posterior\n",
    "        self.proposal = proposal\n",
    "        self.steps = int(steps)  # n_samples\n",
    "        self.init = init\n",
    "        self.samples = None\n",
    "\n",
    "    def sample(self):\n",
    "        \"\"\"\n",
    "        Sampling\n",
    "        \"\"\"\n",
    "        self.samples = [self.init.copy()]\n",
    "        for _ in tqdm(range(self.steps), desc=\"Sampling\"):\n",
    "            self._sample_step()\n",
    "\n",
    "    def get_samples(self):\n",
    "        \"\"\"\n",
    "        Returns the samples\n",
    "        \"\"\"\n",
    "        return np.array(self.samples)\n",
    "\n",
    "    def _sample_step(self):\n",
    "        \"\"\"\n",
    "        Draw a new sample\n",
    "        \"\"\"\n",
    "        point = self.samples[-1]\n",
    "        proposal = self.proposal.draw(self.samples)\n",
    "        self.samples.append(self._accept_or_reject(point, proposal))\n",
    "\n",
    "    def _accept_or_reject(self, x_i, x_p):\n",
    "        \"\"\"\n",
    "        Accept of reject a new candidate\n",
    "\n",
    "        Parameters\n",
    "        ----------\n",
    "        x_i : ndarray\n",
    "            Current sample\n",
    "\n",
    "        x_p : ndarray\n",
    "            New sample (x_p) is proposed by drawing from a proposal\n",
    "            distribution\n",
    "\n",
    "        n_accept : int\n",
    "            Count of accepted samples\n",
    "\n",
    "        Returns\n",
    "        -------\n",
    "\n",
    "        \"\"\"\n",
    "        alpha = self._compute_acceptance_ratio(x_i, x_p)\n",
    "        u = np.random.uniform(low=0.0, high=1.0)\n",
    "        if u <= alpha:  # Accept proposal\n",
    "            return x_p\n",
    "        else:  # Reject proposal\n",
    "            return x_i\n",
    "\n",
    "    def _compute_acceptance_ratio(self, x_i, x_p):\n",
    "        return min(1, self.posterior.evaluate(x_p) / self.posterior.evaluate(x_i))\n",
    "\n",
    "\n",
    "class MetropolisHastings(Sampler):\n",
    "    pass"
   ]
  },
  {
   "cell_type": "code",
   "execution_count": 17,
   "id": "1c04fea4-1497-4f63-8fb4-850d90074641",
   "metadata": {},
   "outputs": [],
   "source": [
    "class Proposal:\n",
    "    \"\"\"\n",
    "    Proposal class\n",
    "\n",
    "    TODO: look at pysampler/proposal.py\n",
    "    \"\"\"\n",
    "\n",
    "    def __init__(self, step_size):\n",
    "        self.step_size = step_size\n",
    "\n",
    "    def draw(self, samples):\n",
    "        return np.random.normal(samples[-1], self.step_size)\n",
    "\n",
    "\n",
    "class GaussianProposal(Proposal):\n",
    "    pass\n",
    "\n",
    "\n",
    "class AdaptiveProposal:\n",
    "    \"\"\"\n",
    "    Adaptive proposal class - update the the covariance matrix of the proposal\n",
    "    distribution using existing knowledge of the posterior\n",
    "\n",
    "    Haario, H., Saksman, E., and Tamminen, J. (1999). Adaptive proposal\n",
    "    distribution for random walk metropolis algorithm. Computational\n",
    "    Statistics, 14(3):375-395. 1, 2\n",
    "\n",
    "    Attributes\n",
    "    ----------\n",
    "    update_freq: int\n",
    "        Proposal distribution update frequency (default = 1000). The\n",
    "        frequency at which the proposal distribution is updated.\n",
    "\n",
    "    n_K : ndarray\n",
    "        Number of samples / update frequency\n",
    "\n",
    "    R_0 : ndarray (floats)\n",
    "        Initial covariance matrix (this can be chosen as the identify matrix\n",
    "        if you have no prior knowledge)\n",
    "\n",
    "    R_t : ndarray (floats)\n",
    "        Updated covariance matrix\n",
    "\n",
    "    i : int\n",
    "        Counter to track how many times the proposal has been called\n",
    "\n",
    "    Notes\n",
    "    -----\n",
    "    - TODO: is n_K equal to n_samples?\n",
    "    - TODO: gamma is missing from the draw method\n",
    "    \"\"\"\n",
    "\n",
    "    def __init__(self, cov, step_size=2.38, update_freq=1000):\n",
    "        self.cov = cov\n",
    "        self.step_size = step_size\n",
    "        self.update_freq = update_freq\n",
    "        self.R_t = cov\n",
    "        self.i = 0\n",
    "\n",
    "    def draw(self, samples):\n",
    "        \"\"\"\n",
    "        Draw x (candidate) from proposal distribution q\n",
    "\n",
    "        Parameters\n",
    "        ----------\n",
    "        x_i : ndarray\n",
    "            Current sample\n",
    "\n",
    "        Returns\n",
    "        -------\n",
    "        x_p : ndarray\n",
    "            Proposed sample (candidate sample)\n",
    "\n",
    "        \"\"\"\n",
    "        self.i += 1\n",
    "        if self.i % self.update_freq == 0:\n",
    "            self._adapt_cov(samples)\n",
    "        return np.random.multivariate_normal(samples[-1], self.R_t)\n",
    "\n",
    "    def _adapt_cov(self, K):\n",
    "        \"\"\"\n",
    "        Parameters\n",
    "        ----------\n",
    "        K : ndarray\n",
    "\n",
    "        Returns\n",
    "        -------\n",
    "        R_t : ndarray (floats)\n",
    "            Updated covariance matrix\n",
    "        \"\"\"\n",
    "        K_tilde = self._compute_K_tilde(K)\n",
    "        self.R_t = (1 / (len(K) - 1)) * np.matmul(np.transpose(K_tilde), K_tilde)\n",
    "\n",
    "    def _compute_K_tilde(self, K):\n",
    "        \"\"\"\n",
    "        Calculate the centred matrix\n",
    "\n",
    "        Parameters\n",
    "        ----------\n",
    "        K : ndarray\n",
    "            Sample chain - all previous samples are stored in matrix K of size\n",
    "            n_k x n_p, where n_k is... and n_p is the number of unknown\n",
    "            parameters. Each row represents one sampled point.\n",
    "\n",
    "        K_mean : ndarray\n",
    "            History (evolution) of mean value of all previous samples\n",
    "            (n_samples x n_p)\n",
    "\n",
    "        Returns\n",
    "        -------\n",
    "        K_tilde : ndarray\n",
    "            The centred matrix n_K x n_p (K_tilde = K - E[K])\n",
    "        \"\"\"\n",
    "        return K - np.mean(K, 0)"
   ]
  },
  {
   "cell_type": "code",
   "execution_count": 18,
   "id": "61f7ebbb-29b3-4916-87ea-ef2ac71fe2be",
   "metadata": {},
   "outputs": [
    {
     "name": "stderr",
     "output_type": "stream",
     "text": [
      "Sampling: 100%|██████████████████████████████████████████████████████████████████████████████████████████████████████████████| 100000/100000 [00:29<00:00, 3382.42it/s]\n"
     ]
    }
   ],
   "source": [
    "proposal = AdaptiveProposal(cov=np.eye(2), step_size=[1, 1])\n",
    "mh = Sampler(posterior, proposal, 1e5, np.array([150, 0.15]))\n",
    "mh.sample()\n",
    "samples = mh.get_samples()"
   ]
  },
  {
   "cell_type": "code",
   "execution_count": 19,
   "id": "68582bd4-684a-4439-a7f5-26ac3671310b",
   "metadata": {},
   "outputs": [
    {
     "data": {
      "image/png": "[encoded data removed]",
      "text/plain": [
       "<Figure size 1200x500 with 2 Axes>"
      ]
     },
     "metadata": {},
     "output_type": "display_data"
    }
   ],
   "source": [
    "fig, (ax1, ax2) = plt.subplots(1, 2, figsize=(12, 5))\n",
    "ax1.plot(samples[:, 0])\n",
    "ax2.plot(samples[:, 1])\n",
    "ax1.set_xlabel(\"$E$\")\n",
    "ax2.set_xlabel(\"$\\sigma_y$\")\n",
    "plt.tight_layout()\n",
    "# fig.savefig(\"figures/chain.png\", dpi=300, bbox_inches=\"tight\")"
   ]
  },
  {
   "cell_type": "code",
   "execution_count": 20,
   "id": "ec0a1493-41d6-406d-b3a7-9e10b8d8bfde",
   "metadata": {},
   "outputs": [
    {
     "data": {
      "image/png": "[encoded data removed]",
      "text/plain": [
       "<Figure size 1200x500 with 2 Axes>"
      ]
     },
     "metadata": {},
     "output_type": "display_data"
    }
   ],
   "source": [
    "fig, (ax1, ax2) = plt.subplots(1, 2, figsize=(12, 5))\n",
    "\n",
    "credible_interval_E = np.percentile(samples[10000:, 0], [2.5, 97.5])\n",
    "credible_interval_eps = np.percentile(samples[10000:, 1], [2.5, 97.5])\n",
    "\n",
    "ax1.hist(samples[10000:, 0], bins=100, density=True, alpha=0.75, color=\"skyblue\")\n",
    "# ax1.axvline(E, ls=\"--\", color=\"dimgray\")\n",
    "ax1.axvspan(credible_interval_E[0], credible_interval_E[1], color=\"gray\", alpha=0.2, label=\"95% CI\")\n",
    "ax1.set_xlabel(\"$E$\")\n",
    "ax1.set_ylabel(\"Probability density\")\n",
    "ax1.tick_params(labelleft=False)\n",
    "ax1.set_frame_on(False)\n",
    "ax1.set_yticks([])\n",
    "ax1.axvline(E, linestyle=\"--\", color=\"black\", alpha=0.75)\n",
    "\n",
    "ax2.hist(samples[10000:, 1], bins=100, density=True, alpha=0.75, color=\"skyblue\")\n",
    "# ax2.axvline(stress_y, ls=\"--\", color=\"dimgray\")\n",
    "ax2.axvspan(credible_interval_eps[0], credible_interval_eps[1], color=\"gray\", alpha=0.2, label=\"95% CI\")\n",
    "ax2.set_xlabel(\"$\\sigma_y$\")\n",
    "ax2.tick_params(labelleft=False)\n",
    "ax2.set_frame_on(False)\n",
    "ax2.set_yticks([])\n",
    "ax2.axvline(stress_y, linestyle=\"--\", color=\"black\", alpha=0.75)\n",
    "\n",
    "plt.tight_layout()\n",
    "# plt.savefig(\"figures/histograms.png\", dpi=300)"
   ]
  },
  {
   "cell_type": "code",
   "execution_count": 21,
   "id": "60f5f894-af8f-4e1c-b1e8-f25c3f5ab207",
   "metadata": {},
   "outputs": [
    {
     "data": {
      "image/png": "[encoded data removed]",
      "text/plain": [
       "<Figure size 1000x500 with 2 Axes>"
      ]
     },
     "metadata": {},
     "output_type": "display_data"
    }
   ],
   "source": [
    "predictions = np.array([true_model.run(np.array([sample[0], sample[1]])) for sample in samples])\n",
    "\n",
    "posterior_predictive_mean = np.mean(predictions, axis=0)\n",
    "posterior_predictive_std = np.std(predictions, axis=0)\n",
    "\n",
    "fig, (ax1, ax2) = plt.subplots(\n",
    "    1, 2, figsize=(10, 5), gridspec_kw={'width_ratios': [3, 1]}\n",
    ")\n",
    "\n",
    "ax1.scatter(strain_observed, stress_observed, color=\"blue\", s=20)\n",
    "ax1.plot(strain, stress, color='grey', linestyle='--', linewidth=1, alpha=0.8, label=\"True\")\n",
    "ax1.fill_between(\n",
    "    strain,\n",
    "    posterior_predictive_mean - 2 * posterior_predictive_std,\n",
    "    posterior_predictive_mean + 2 * posterior_predictive_std,\n",
    "    color=\"red\",\n",
    "    alpha=0.2,\n",
    "    edgecolor='none',\n",
    "    label=\"Posterior Predictive Distribution\",\n",
    ")\n",
    "\n",
    "marginal_value = 0.0011\n",
    "marginal_index = np.abs(strain - marginal_value).argmin()\n",
    "marginal_posterior = predictions[:, marginal_index]\n",
    "ax1.axvline(marginal_value, linestyle=\"--\", color=\"black\", alpha=0.75)\n",
    "\n",
    "ax1.set_xlabel(\"Strain $\\epsilon$\")\n",
    "ax1.set_ylabel(\"Stress $\\sigma$\")\n",
    "# ax1.legend()\n",
    "\n",
    "ax2.hist(marginal_posterior, bins=50, density=True, alpha=0.2, color=\"red\")\n",
    "ax2.set_xlabel(f\"Stress $\\sigma$\")\n",
    "ax2.set_ylabel(\"Probability density\")\n",
    "ax2.tick_params(labelleft=False)\n",
    "ax2.set_yticks([])\n",
    "ax2.set_title(f\"$\\epsilon$ = {marginal_value}\")\n",
    "\n",
    "plt.tight_layout()\n",
    "# plt.savefig(\"figures/posterior-predictive-distribution.png\", dpi=300)"
   ]
  }
 ],
 "metadata": {
  "kernelspec": {
   "display_name": "Python 3 (ipykernel)",
   "language": "python",
   "name": "python3"
  },
  "language_info": {
   "codemirror_mode": {
    "name": "ipython",
    "version": 3
   },
   "file_extension": ".py",
   "mimetype": "text/x-python",
   "name": "python",
   "nbconvert_exporter": "python",
   "pygments_lexer": "ipython3",
   "version": "3.11.6"
  }
 },
 "nbformat": 4,
 "nbformat_minor": 5
}
